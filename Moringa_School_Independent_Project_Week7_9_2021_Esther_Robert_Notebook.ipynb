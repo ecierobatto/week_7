{
  "nbformat": 4,
  "nbformat_minor": 0,
  "metadata": {
    "colab": {
      "name": "Moringa_School_Independent_Project_Week7_9_2021_Esther_Robert_Notebook",
      "provenance": [],
      "collapsed_sections": [],
      "toc_visible": true,
      "authorship_tag": "ABX9TyObfG8q1XzOl9pKrw3zRxp2",
      "include_colab_link": true
    },
    "kernelspec": {
      "name": "python3",
      "display_name": "Python 3"
    },
    "language_info": {
      "name": "python"
    }
  },
  "cells": [
    {
      "cell_type": "markdown",
      "metadata": {
        "id": "view-in-github",
        "colab_type": "text"
      },
      "source": [
        "<a href=\"https://colab.research.google.com/github/ecierobatto/week_7/blob/main/Moringa_School_Independent_Project_Week7_9_2021_Esther_Robert_Notebook.ipynb\" target=\"_parent\"><img src=\"https://colab.research.google.com/assets/colab-badge.svg\" alt=\"Open In Colab\"/></a>"
      ]
    },
    {
      "cell_type": "markdown",
      "metadata": {
        "id": "O0yJqD5NjG4r"
      },
      "source": [
        "# 1. Defining the Question"
      ]
    },
    {
      "cell_type": "markdown",
      "metadata": {
        "id": "zCBBnySOjYIu"
      },
      "source": [
        "Traditionally, access to bank accounts has been regarded as an indicator of financial inclusion. Despite the proliferation of mobile money in Africa and the growth of innovative fintech solutions, banks still play a pivotal role in facilitating access to financial services. Access to bank accounts enables households to save and facilitate payments while also helping businesses build up their credit-worthiness and improve their access to other financial services. Therefore, access to bank accounts is an essential contributor to long-term economic growth.\n",
        "\n",
        "The research problem is to figure out how we can predict which individuals are most likely to have or use a bank account. Your solution will help provide an indication of the state of financial inclusion in Kenya, Rwanda, Tanzania, and Uganda, while providing insights into some of the key demographic factors that might drive individuals’ financial outcomes."
      ]
    },
    {
      "cell_type": "markdown",
      "metadata": {
        "id": "g5fr1tQrbgiV"
      },
      "source": [
        "# 2. Importing Libraries"
      ]
    },
    {
      "cell_type": "code",
      "metadata": {
        "id": "bmrXL_mQXHVh"
      },
      "source": [
        "# Importing Pandas\n",
        "# \n",
        "import pandas as pd"
      ],
      "execution_count": 1224,
      "outputs": []
    },
    {
      "cell_type": "code",
      "metadata": {
        "id": "-_R-gwBWZYbJ"
      },
      "source": [
        "# Importing Numpy\n",
        "#\n",
        "import numpy as np"
      ],
      "execution_count": 1225,
      "outputs": []
    },
    {
      "cell_type": "code",
      "metadata": {
        "id": "4e3rk5RHZb7X"
      },
      "source": [
        "# Importing Seaborn\n",
        "#\n",
        "import seaborn as sns"
      ],
      "execution_count": 1226,
      "outputs": []
    },
    {
      "cell_type": "code",
      "metadata": {
        "id": "6n0xTliQZjE3"
      },
      "source": [
        "# Importing Matplotlib\n",
        "#\n",
        "import matplotlib.pyplot as plt"
      ],
      "execution_count": 1227,
      "outputs": []
    },
    {
      "cell_type": "markdown",
      "metadata": {
        "id": "1kpcAwvMby9V"
      },
      "source": [
        "# 3. Loading Dataset"
      ]
    },
    {
      "cell_type": "code",
      "metadata": {
        "colab": {
          "base_uri": "https://localhost:8080/",
          "height": 381
        },
        "id": "Otq5H_0TvFHM",
        "outputId": "79c6db4b-c75d-4fae-8e76-b8765b062c6d"
      },
      "source": [
        "# loading dataset\n",
        "finance_data = pd.read_csv('/content/Financial Dataset - 1.csv')\n",
        "finance_data.head()"
      ],
      "execution_count": 1228,
      "outputs": [
        {
          "output_type": "execute_result",
          "data": {
            "text/html": [
              "<div>\n",
              "<style scoped>\n",
              "    .dataframe tbody tr th:only-of-type {\n",
              "        vertical-align: middle;\n",
              "    }\n",
              "\n",
              "    .dataframe tbody tr th {\n",
              "        vertical-align: top;\n",
              "    }\n",
              "\n",
              "    .dataframe thead th {\n",
              "        text-align: right;\n",
              "    }\n",
              "</style>\n",
              "<table border=\"1\" class=\"dataframe\">\n",
              "  <thead>\n",
              "    <tr style=\"text-align: right;\">\n",
              "      <th></th>\n",
              "      <th>country</th>\n",
              "      <th>year</th>\n",
              "      <th>uniqueid</th>\n",
              "      <th>Has a Bank account</th>\n",
              "      <th>Type of Location</th>\n",
              "      <th>Cell Phone Access</th>\n",
              "      <th>household_size</th>\n",
              "      <th>Respondent Age</th>\n",
              "      <th>gender_of_respondent</th>\n",
              "      <th>The relathip with head</th>\n",
              "      <th>marital_status</th>\n",
              "      <th>Level of Educuation</th>\n",
              "      <th>Type of Job</th>\n",
              "    </tr>\n",
              "  </thead>\n",
              "  <tbody>\n",
              "    <tr>\n",
              "      <th>0</th>\n",
              "      <td>Kenya</td>\n",
              "      <td>2018</td>\n",
              "      <td>uniqueid_1</td>\n",
              "      <td>Yes</td>\n",
              "      <td>Rural</td>\n",
              "      <td>Yes</td>\n",
              "      <td>3.0</td>\n",
              "      <td>24.0</td>\n",
              "      <td>Female</td>\n",
              "      <td>Spouse</td>\n",
              "      <td>Married/Living together</td>\n",
              "      <td>Secondary education</td>\n",
              "      <td>Self employed</td>\n",
              "    </tr>\n",
              "    <tr>\n",
              "      <th>1</th>\n",
              "      <td>Kenya</td>\n",
              "      <td>2018</td>\n",
              "      <td>uniqueid_2</td>\n",
              "      <td>No</td>\n",
              "      <td>Rural</td>\n",
              "      <td>No</td>\n",
              "      <td>5.0</td>\n",
              "      <td>70.0</td>\n",
              "      <td>Female</td>\n",
              "      <td>Head of Household</td>\n",
              "      <td>Widowed</td>\n",
              "      <td>No formal education</td>\n",
              "      <td>Government Dependent</td>\n",
              "    </tr>\n",
              "    <tr>\n",
              "      <th>2</th>\n",
              "      <td>Kenya</td>\n",
              "      <td>2018</td>\n",
              "      <td>uniqueid_3</td>\n",
              "      <td>Yes</td>\n",
              "      <td>Urban</td>\n",
              "      <td>Yes</td>\n",
              "      <td>5.0</td>\n",
              "      <td>26.0</td>\n",
              "      <td>Male</td>\n",
              "      <td>Other relative</td>\n",
              "      <td>Single/Never Married</td>\n",
              "      <td>Vocational/Specialised training</td>\n",
              "      <td>Self employed</td>\n",
              "    </tr>\n",
              "    <tr>\n",
              "      <th>3</th>\n",
              "      <td>Kenya</td>\n",
              "      <td>2018</td>\n",
              "      <td>uniqueid_4</td>\n",
              "      <td>No</td>\n",
              "      <td>Rural</td>\n",
              "      <td>Yes</td>\n",
              "      <td>5.0</td>\n",
              "      <td>34.0</td>\n",
              "      <td>Female</td>\n",
              "      <td>Head of Household</td>\n",
              "      <td>Married/Living together</td>\n",
              "      <td>Primary education</td>\n",
              "      <td>Formally employed Private</td>\n",
              "    </tr>\n",
              "    <tr>\n",
              "      <th>4</th>\n",
              "      <td>Kenya</td>\n",
              "      <td>2018</td>\n",
              "      <td>uniqueid_5</td>\n",
              "      <td>No</td>\n",
              "      <td>Urban</td>\n",
              "      <td>No</td>\n",
              "      <td>8.0</td>\n",
              "      <td>26.0</td>\n",
              "      <td>Male</td>\n",
              "      <td>Child</td>\n",
              "      <td>Single/Never Married</td>\n",
              "      <td>Primary education</td>\n",
              "      <td>Informally employed</td>\n",
              "    </tr>\n",
              "  </tbody>\n",
              "</table>\n",
              "</div>"
            ],
            "text/plain": [
              "  country  year  ...              Level of Educuation                Type of Job\n",
              "0   Kenya  2018  ...              Secondary education              Self employed\n",
              "1   Kenya  2018  ...              No formal education       Government Dependent\n",
              "2   Kenya  2018  ...  Vocational/Specialised training              Self employed\n",
              "3   Kenya  2018  ...                Primary education  Formally employed Private\n",
              "4   Kenya  2018  ...                Primary education        Informally employed\n",
              "\n",
              "[5 rows x 13 columns]"
            ]
          },
          "metadata": {},
          "execution_count": 1228
        }
      ]
    },
    {
      "cell_type": "markdown",
      "metadata": {
        "id": "6-z4ZBv6kBJk"
      },
      "source": [
        "# 4.  Checking the Data"
      ]
    },
    {
      "cell_type": "code",
      "metadata": {
        "colab": {
          "base_uri": "https://localhost:8080/"
        },
        "id": "1GK7OlBJojRO",
        "outputId": "d5064e7e-111d-499d-f174-f96d68e59eb6"
      },
      "source": [
        "# checking for dataset information\n",
        "finance_data.info()"
      ],
      "execution_count": 1229,
      "outputs": [
        {
          "output_type": "stream",
          "name": "stdout",
          "text": [
            "<class 'pandas.core.frame.DataFrame'>\n",
            "RangeIndex: 23524 entries, 0 to 23523\n",
            "Data columns (total 13 columns):\n",
            " #   Column                  Non-Null Count  Dtype  \n",
            "---  ------                  --------------  -----  \n",
            " 0   country                 23510 non-null  object \n",
            " 1   year                    23524 non-null  int64  \n",
            " 2   uniqueid                23524 non-null  object \n",
            " 3   Has a Bank account      23488 non-null  object \n",
            " 4   Type of Location        23509 non-null  object \n",
            " 5   Cell Phone Access       23513 non-null  object \n",
            " 6   household_size          23496 non-null  float64\n",
            " 7   Respondent Age          23490 non-null  float64\n",
            " 8   gender_of_respondent    23490 non-null  object \n",
            " 9   The relathip with head  23520 non-null  object \n",
            " 10  marital_status          23492 non-null  object \n",
            " 11  Level of Educuation     23495 non-null  object \n",
            " 12  Type of Job             23494 non-null  object \n",
            "dtypes: float64(2), int64(1), object(10)\n",
            "memory usage: 2.3+ MB\n"
          ]
        }
      ]
    },
    {
      "cell_type": "code",
      "metadata": {
        "colab": {
          "base_uri": "https://localhost:8080/",
          "height": 482
        },
        "id": "KUAXgaXSvjWP",
        "outputId": "5bfd9b1e-3a13-4758-97ae-eb01669f61fe"
      },
      "source": [
        "# displaying descriptive statistics for all the columns\n",
        "finance_data.describe(include='all')"
      ],
      "execution_count": 1230,
      "outputs": [
        {
          "output_type": "execute_result",
          "data": {
            "text/html": [
              "<div>\n",
              "<style scoped>\n",
              "    .dataframe tbody tr th:only-of-type {\n",
              "        vertical-align: middle;\n",
              "    }\n",
              "\n",
              "    .dataframe tbody tr th {\n",
              "        vertical-align: top;\n",
              "    }\n",
              "\n",
              "    .dataframe thead th {\n",
              "        text-align: right;\n",
              "    }\n",
              "</style>\n",
              "<table border=\"1\" class=\"dataframe\">\n",
              "  <thead>\n",
              "    <tr style=\"text-align: right;\">\n",
              "      <th></th>\n",
              "      <th>country</th>\n",
              "      <th>year</th>\n",
              "      <th>uniqueid</th>\n",
              "      <th>Has a Bank account</th>\n",
              "      <th>Type of Location</th>\n",
              "      <th>Cell Phone Access</th>\n",
              "      <th>household_size</th>\n",
              "      <th>Respondent Age</th>\n",
              "      <th>gender_of_respondent</th>\n",
              "      <th>The relathip with head</th>\n",
              "      <th>marital_status</th>\n",
              "      <th>Level of Educuation</th>\n",
              "      <th>Type of Job</th>\n",
              "    </tr>\n",
              "  </thead>\n",
              "  <tbody>\n",
              "    <tr>\n",
              "      <th>count</th>\n",
              "      <td>23510</td>\n",
              "      <td>23524.000000</td>\n",
              "      <td>23524</td>\n",
              "      <td>23488</td>\n",
              "      <td>23509</td>\n",
              "      <td>23513</td>\n",
              "      <td>23496.000000</td>\n",
              "      <td>23490.000000</td>\n",
              "      <td>23490</td>\n",
              "      <td>23520</td>\n",
              "      <td>23492</td>\n",
              "      <td>23495</td>\n",
              "      <td>23494</td>\n",
              "    </tr>\n",
              "    <tr>\n",
              "      <th>unique</th>\n",
              "      <td>4</td>\n",
              "      <td>NaN</td>\n",
              "      <td>8735</td>\n",
              "      <td>2</td>\n",
              "      <td>2</td>\n",
              "      <td>2</td>\n",
              "      <td>NaN</td>\n",
              "      <td>NaN</td>\n",
              "      <td>2</td>\n",
              "      <td>6</td>\n",
              "      <td>5</td>\n",
              "      <td>7</td>\n",
              "      <td>10</td>\n",
              "    </tr>\n",
              "    <tr>\n",
              "      <th>top</th>\n",
              "      <td>Rwanda</td>\n",
              "      <td>NaN</td>\n",
              "      <td>uniqueid_88</td>\n",
              "      <td>No</td>\n",
              "      <td>Rural</td>\n",
              "      <td>Yes</td>\n",
              "      <td>NaN</td>\n",
              "      <td>NaN</td>\n",
              "      <td>Female</td>\n",
              "      <td>Head of Household</td>\n",
              "      <td>Married/Living together</td>\n",
              "      <td>Primary education</td>\n",
              "      <td>Self employed</td>\n",
              "    </tr>\n",
              "    <tr>\n",
              "      <th>freq</th>\n",
              "      <td>8735</td>\n",
              "      <td>NaN</td>\n",
              "      <td>4</td>\n",
              "      <td>20179</td>\n",
              "      <td>14338</td>\n",
              "      <td>17449</td>\n",
              "      <td>NaN</td>\n",
              "      <td>NaN</td>\n",
              "      <td>13859</td>\n",
              "      <td>12829</td>\n",
              "      <td>10739</td>\n",
              "      <td>12775</td>\n",
              "      <td>6428</td>\n",
              "    </tr>\n",
              "    <tr>\n",
              "      <th>mean</th>\n",
              "      <td>NaN</td>\n",
              "      <td>2016.979000</td>\n",
              "      <td>NaN</td>\n",
              "      <td>NaN</td>\n",
              "      <td>NaN</td>\n",
              "      <td>NaN</td>\n",
              "      <td>3.681818</td>\n",
              "      <td>38.804300</td>\n",
              "      <td>NaN</td>\n",
              "      <td>NaN</td>\n",
              "      <td>NaN</td>\n",
              "      <td>NaN</td>\n",
              "      <td>NaN</td>\n",
              "    </tr>\n",
              "    <tr>\n",
              "      <th>std</th>\n",
              "      <td>NaN</td>\n",
              "      <td>0.899669</td>\n",
              "      <td>NaN</td>\n",
              "      <td>NaN</td>\n",
              "      <td>NaN</td>\n",
              "      <td>NaN</td>\n",
              "      <td>2.279933</td>\n",
              "      <td>16.519996</td>\n",
              "      <td>NaN</td>\n",
              "      <td>NaN</td>\n",
              "      <td>NaN</td>\n",
              "      <td>NaN</td>\n",
              "      <td>NaN</td>\n",
              "    </tr>\n",
              "    <tr>\n",
              "      <th>min</th>\n",
              "      <td>NaN</td>\n",
              "      <td>2016.000000</td>\n",
              "      <td>NaN</td>\n",
              "      <td>NaN</td>\n",
              "      <td>NaN</td>\n",
              "      <td>NaN</td>\n",
              "      <td>0.000000</td>\n",
              "      <td>16.000000</td>\n",
              "      <td>NaN</td>\n",
              "      <td>NaN</td>\n",
              "      <td>NaN</td>\n",
              "      <td>NaN</td>\n",
              "      <td>NaN</td>\n",
              "    </tr>\n",
              "    <tr>\n",
              "      <th>25%</th>\n",
              "      <td>NaN</td>\n",
              "      <td>2016.000000</td>\n",
              "      <td>NaN</td>\n",
              "      <td>NaN</td>\n",
              "      <td>NaN</td>\n",
              "      <td>NaN</td>\n",
              "      <td>2.000000</td>\n",
              "      <td>26.000000</td>\n",
              "      <td>NaN</td>\n",
              "      <td>NaN</td>\n",
              "      <td>NaN</td>\n",
              "      <td>NaN</td>\n",
              "      <td>NaN</td>\n",
              "    </tr>\n",
              "    <tr>\n",
              "      <th>50%</th>\n",
              "      <td>NaN</td>\n",
              "      <td>2017.000000</td>\n",
              "      <td>NaN</td>\n",
              "      <td>NaN</td>\n",
              "      <td>NaN</td>\n",
              "      <td>NaN</td>\n",
              "      <td>3.000000</td>\n",
              "      <td>35.000000</td>\n",
              "      <td>NaN</td>\n",
              "      <td>NaN</td>\n",
              "      <td>NaN</td>\n",
              "      <td>NaN</td>\n",
              "      <td>NaN</td>\n",
              "    </tr>\n",
              "    <tr>\n",
              "      <th>75%</th>\n",
              "      <td>NaN</td>\n",
              "      <td>2018.000000</td>\n",
              "      <td>NaN</td>\n",
              "      <td>NaN</td>\n",
              "      <td>NaN</td>\n",
              "      <td>NaN</td>\n",
              "      <td>5.000000</td>\n",
              "      <td>49.000000</td>\n",
              "      <td>NaN</td>\n",
              "      <td>NaN</td>\n",
              "      <td>NaN</td>\n",
              "      <td>NaN</td>\n",
              "      <td>NaN</td>\n",
              "    </tr>\n",
              "    <tr>\n",
              "      <th>max</th>\n",
              "      <td>NaN</td>\n",
              "      <td>2056.000000</td>\n",
              "      <td>NaN</td>\n",
              "      <td>NaN</td>\n",
              "      <td>NaN</td>\n",
              "      <td>NaN</td>\n",
              "      <td>21.000000</td>\n",
              "      <td>100.000000</td>\n",
              "      <td>NaN</td>\n",
              "      <td>NaN</td>\n",
              "      <td>NaN</td>\n",
              "      <td>NaN</td>\n",
              "      <td>NaN</td>\n",
              "    </tr>\n",
              "  </tbody>\n",
              "</table>\n",
              "</div>"
            ],
            "text/plain": [
              "       country          year  ... Level of Educuation    Type of Job\n",
              "count    23510  23524.000000  ...               23495          23494\n",
              "unique       4           NaN  ...                   7             10\n",
              "top     Rwanda           NaN  ...   Primary education  Self employed\n",
              "freq      8735           NaN  ...               12775           6428\n",
              "mean       NaN   2016.979000  ...                 NaN            NaN\n",
              "std        NaN      0.899669  ...                 NaN            NaN\n",
              "min        NaN   2016.000000  ...                 NaN            NaN\n",
              "25%        NaN   2016.000000  ...                 NaN            NaN\n",
              "50%        NaN   2017.000000  ...                 NaN            NaN\n",
              "75%        NaN   2018.000000  ...                 NaN            NaN\n",
              "max        NaN   2056.000000  ...                 NaN            NaN\n",
              "\n",
              "[11 rows x 13 columns]"
            ]
          },
          "metadata": {},
          "execution_count": 1230
        }
      ]
    },
    {
      "cell_type": "code",
      "metadata": {
        "colab": {
          "base_uri": "https://localhost:8080/"
        },
        "id": "_FlZi5i_wwHL",
        "outputId": "d7c29785-b5cf-48cd-e3e5-e86c85e0b9ce"
      },
      "source": [
        "# displaying number of entries in the dataset\n",
        "print(finance_data.shape)"
      ],
      "execution_count": 1231,
      "outputs": [
        {
          "output_type": "stream",
          "name": "stdout",
          "text": [
            "(23524, 13)\n"
          ]
        }
      ]
    },
    {
      "cell_type": "code",
      "metadata": {
        "colab": {
          "base_uri": "https://localhost:8080/"
        },
        "id": "vquyts1WxK_v",
        "outputId": "f9792a9c-4874-4cd9-9233-cbb8f2418e48"
      },
      "source": [
        "# displaying total number of attributes & unique values of the columns\n",
        "print(finance_data.nunique())"
      ],
      "execution_count": 1232,
      "outputs": [
        {
          "output_type": "stream",
          "name": "stdout",
          "text": [
            "country                      4\n",
            "year                         6\n",
            "uniqueid                  8735\n",
            "Has a Bank account           2\n",
            "Type of Location             2\n",
            "Cell Phone Access            2\n",
            "household_size              21\n",
            "Respondent Age              85\n",
            "gender_of_respondent         2\n",
            "The relathip with head       6\n",
            "marital_status               5\n",
            "Level of Educuation          7\n",
            "Type of Job                 10\n",
            "dtype: int64\n"
          ]
        }
      ]
    },
    {
      "cell_type": "code",
      "metadata": {
        "colab": {
          "base_uri": "https://localhost:8080/",
          "height": 632
        },
        "id": "MKba4Oegn9--",
        "outputId": "73d82dd6-123d-40a4-f269-7fe819ec5493"
      },
      "source": [
        "# renaming the columns by adding underscores for uniformity\n",
        "new_finance_data = finance_data.rename({'Has a Bank account': 'has_a_bank_account', 'Type of Location': 'type_of_location','Cell Phone Access': 'cell_phone_access', 'Respondent Age': 'respondent_age', 'The relathip with head': 'the_relationship_with_head', 'Level of Educuation': 'level_of_education', 'Type of Job': 'type_of_job'}, axis=1)\n",
        "new_finance_data"
      ],
      "execution_count": 1233,
      "outputs": [
        {
          "output_type": "execute_result",
          "data": {
            "text/html": [
              "<div>\n",
              "<style scoped>\n",
              "    .dataframe tbody tr th:only-of-type {\n",
              "        vertical-align: middle;\n",
              "    }\n",
              "\n",
              "    .dataframe tbody tr th {\n",
              "        vertical-align: top;\n",
              "    }\n",
              "\n",
              "    .dataframe thead th {\n",
              "        text-align: right;\n",
              "    }\n",
              "</style>\n",
              "<table border=\"1\" class=\"dataframe\">\n",
              "  <thead>\n",
              "    <tr style=\"text-align: right;\">\n",
              "      <th></th>\n",
              "      <th>country</th>\n",
              "      <th>year</th>\n",
              "      <th>uniqueid</th>\n",
              "      <th>has_a_bank_account</th>\n",
              "      <th>type_of_location</th>\n",
              "      <th>cell_phone_access</th>\n",
              "      <th>household_size</th>\n",
              "      <th>respondent_age</th>\n",
              "      <th>gender_of_respondent</th>\n",
              "      <th>the_relationship_with_head</th>\n",
              "      <th>marital_status</th>\n",
              "      <th>level_of_education</th>\n",
              "      <th>type_of_job</th>\n",
              "    </tr>\n",
              "  </thead>\n",
              "  <tbody>\n",
              "    <tr>\n",
              "      <th>0</th>\n",
              "      <td>Kenya</td>\n",
              "      <td>2018</td>\n",
              "      <td>uniqueid_1</td>\n",
              "      <td>Yes</td>\n",
              "      <td>Rural</td>\n",
              "      <td>Yes</td>\n",
              "      <td>3.0</td>\n",
              "      <td>24.0</td>\n",
              "      <td>Female</td>\n",
              "      <td>Spouse</td>\n",
              "      <td>Married/Living together</td>\n",
              "      <td>Secondary education</td>\n",
              "      <td>Self employed</td>\n",
              "    </tr>\n",
              "    <tr>\n",
              "      <th>1</th>\n",
              "      <td>Kenya</td>\n",
              "      <td>2018</td>\n",
              "      <td>uniqueid_2</td>\n",
              "      <td>No</td>\n",
              "      <td>Rural</td>\n",
              "      <td>No</td>\n",
              "      <td>5.0</td>\n",
              "      <td>70.0</td>\n",
              "      <td>Female</td>\n",
              "      <td>Head of Household</td>\n",
              "      <td>Widowed</td>\n",
              "      <td>No formal education</td>\n",
              "      <td>Government Dependent</td>\n",
              "    </tr>\n",
              "    <tr>\n",
              "      <th>2</th>\n",
              "      <td>Kenya</td>\n",
              "      <td>2018</td>\n",
              "      <td>uniqueid_3</td>\n",
              "      <td>Yes</td>\n",
              "      <td>Urban</td>\n",
              "      <td>Yes</td>\n",
              "      <td>5.0</td>\n",
              "      <td>26.0</td>\n",
              "      <td>Male</td>\n",
              "      <td>Other relative</td>\n",
              "      <td>Single/Never Married</td>\n",
              "      <td>Vocational/Specialised training</td>\n",
              "      <td>Self employed</td>\n",
              "    </tr>\n",
              "    <tr>\n",
              "      <th>3</th>\n",
              "      <td>Kenya</td>\n",
              "      <td>2018</td>\n",
              "      <td>uniqueid_4</td>\n",
              "      <td>No</td>\n",
              "      <td>Rural</td>\n",
              "      <td>Yes</td>\n",
              "      <td>5.0</td>\n",
              "      <td>34.0</td>\n",
              "      <td>Female</td>\n",
              "      <td>Head of Household</td>\n",
              "      <td>Married/Living together</td>\n",
              "      <td>Primary education</td>\n",
              "      <td>Formally employed Private</td>\n",
              "    </tr>\n",
              "    <tr>\n",
              "      <th>4</th>\n",
              "      <td>Kenya</td>\n",
              "      <td>2018</td>\n",
              "      <td>uniqueid_5</td>\n",
              "      <td>No</td>\n",
              "      <td>Urban</td>\n",
              "      <td>No</td>\n",
              "      <td>8.0</td>\n",
              "      <td>26.0</td>\n",
              "      <td>Male</td>\n",
              "      <td>Child</td>\n",
              "      <td>Single/Never Married</td>\n",
              "      <td>Primary education</td>\n",
              "      <td>Informally employed</td>\n",
              "    </tr>\n",
              "    <tr>\n",
              "      <th>...</th>\n",
              "      <td>...</td>\n",
              "      <td>...</td>\n",
              "      <td>...</td>\n",
              "      <td>...</td>\n",
              "      <td>...</td>\n",
              "      <td>...</td>\n",
              "      <td>...</td>\n",
              "      <td>...</td>\n",
              "      <td>...</td>\n",
              "      <td>...</td>\n",
              "      <td>...</td>\n",
              "      <td>...</td>\n",
              "      <td>...</td>\n",
              "    </tr>\n",
              "    <tr>\n",
              "      <th>23519</th>\n",
              "      <td>Uganda</td>\n",
              "      <td>2018</td>\n",
              "      <td>uniqueid_2113</td>\n",
              "      <td>No</td>\n",
              "      <td>Rural</td>\n",
              "      <td>Yes</td>\n",
              "      <td>4.0</td>\n",
              "      <td>48.0</td>\n",
              "      <td>Female</td>\n",
              "      <td>Head of Household</td>\n",
              "      <td>Divorced/Seperated</td>\n",
              "      <td>No formal education</td>\n",
              "      <td>Other Income</td>\n",
              "    </tr>\n",
              "    <tr>\n",
              "      <th>23520</th>\n",
              "      <td>Uganda</td>\n",
              "      <td>2018</td>\n",
              "      <td>uniqueid_2114</td>\n",
              "      <td>No</td>\n",
              "      <td>Rural</td>\n",
              "      <td>Yes</td>\n",
              "      <td>2.0</td>\n",
              "      <td>27.0</td>\n",
              "      <td>Female</td>\n",
              "      <td>Head of Household</td>\n",
              "      <td>Single/Never Married</td>\n",
              "      <td>Secondary education</td>\n",
              "      <td>Other Income</td>\n",
              "    </tr>\n",
              "    <tr>\n",
              "      <th>23521</th>\n",
              "      <td>Uganda</td>\n",
              "      <td>2018</td>\n",
              "      <td>uniqueid_2115</td>\n",
              "      <td>No</td>\n",
              "      <td>Rural</td>\n",
              "      <td>Yes</td>\n",
              "      <td>5.0</td>\n",
              "      <td>27.0</td>\n",
              "      <td>Female</td>\n",
              "      <td>Parent</td>\n",
              "      <td>Widowed</td>\n",
              "      <td>Primary education</td>\n",
              "      <td>Other Income</td>\n",
              "    </tr>\n",
              "    <tr>\n",
              "      <th>23522</th>\n",
              "      <td>Uganda</td>\n",
              "      <td>2018</td>\n",
              "      <td>uniqueid_2116</td>\n",
              "      <td>No</td>\n",
              "      <td>Urban</td>\n",
              "      <td>Yes</td>\n",
              "      <td>7.0</td>\n",
              "      <td>30.0</td>\n",
              "      <td>Female</td>\n",
              "      <td>Parent</td>\n",
              "      <td>Divorced/Seperated</td>\n",
              "      <td>Secondary education</td>\n",
              "      <td>Self employed</td>\n",
              "    </tr>\n",
              "    <tr>\n",
              "      <th>23523</th>\n",
              "      <td>Uganda</td>\n",
              "      <td>2018</td>\n",
              "      <td>uniqueid_2117</td>\n",
              "      <td>No</td>\n",
              "      <td>Rural</td>\n",
              "      <td>Yes</td>\n",
              "      <td>10.0</td>\n",
              "      <td>20.0</td>\n",
              "      <td>Male</td>\n",
              "      <td>Child</td>\n",
              "      <td>Single/Never Married</td>\n",
              "      <td>Secondary education</td>\n",
              "      <td>No Income</td>\n",
              "    </tr>\n",
              "  </tbody>\n",
              "</table>\n",
              "<p>23524 rows × 13 columns</p>\n",
              "</div>"
            ],
            "text/plain": [
              "      country  year  ...               level_of_education                type_of_job\n",
              "0       Kenya  2018  ...              Secondary education              Self employed\n",
              "1       Kenya  2018  ...              No formal education       Government Dependent\n",
              "2       Kenya  2018  ...  Vocational/Specialised training              Self employed\n",
              "3       Kenya  2018  ...                Primary education  Formally employed Private\n",
              "4       Kenya  2018  ...                Primary education        Informally employed\n",
              "...       ...   ...  ...                              ...                        ...\n",
              "23519  Uganda  2018  ...              No formal education               Other Income\n",
              "23520  Uganda  2018  ...              Secondary education               Other Income\n",
              "23521  Uganda  2018  ...                Primary education               Other Income\n",
              "23522  Uganda  2018  ...              Secondary education              Self employed\n",
              "23523  Uganda  2018  ...              Secondary education                  No Income\n",
              "\n",
              "[23524 rows x 13 columns]"
            ]
          },
          "metadata": {},
          "execution_count": 1233
        }
      ]
    },
    {
      "cell_type": "code",
      "metadata": {
        "colab": {
          "base_uri": "https://localhost:8080/"
        },
        "id": "50-r0h6bGNCz",
        "outputId": "04faad93-2238-43c6-9b2a-c5a2f3a9c15b"
      },
      "source": [
        "# Identifying Non-Categorical columns\n",
        "num_cols = new_finance_data._get_numeric_data().columns\n",
        "num_cols"
      ],
      "execution_count": 1234,
      "outputs": [
        {
          "output_type": "execute_result",
          "data": {
            "text/plain": [
              "Index(['year', 'household_size', 'respondent_age'], dtype='object')"
            ]
          },
          "metadata": {},
          "execution_count": 1234
        }
      ]
    },
    {
      "cell_type": "code",
      "metadata": {
        "colab": {
          "base_uri": "https://localhost:8080/",
          "height": 315
        },
        "id": "w9PEALkfKBh2",
        "outputId": "99096e2c-33b6-4cc4-84c8-9e75fca40f56"
      },
      "source": [
        "# function to plot the univariate distribution of the Categorical columns\n",
        "col_names = ['country', 'type_of_location ', 'cell_phone_access', 'gender_of_respondent ', 'the_relationship_with_head ', 'marital_status', 'level_of_education', 'type_of_job']\n",
        "def drawCategorical(item):\n",
        "  draw = new_finance_data[item].value_counts().plot.bar(title='Freq dist '+item)\n",
        "  if item == col_names:\n",
        "    return draw\n",
        "# bar chart for country column\n",
        "drawCategorical('country')\n",
        "# bar chart for 'type_of_location' column\n",
        "# drawCategorical('type_of_location')\n",
        "# bar chart for 'cell_phone_access' column\n",
        "# drawCategorical('cell_phone_access')\n",
        "# bar chart for 'gender_of_respondent' column\n",
        "# drawCategorical('gender_of_respondent')\n",
        "# bar chart for 'the_relationship_with_head' column\n",
        "# drawCategorical('the_relationship_with_head')\n",
        "# bar chart for 'marital_status' column\n",
        "# drawCategorical('marital_status')\n",
        "# bar chart for 'level_of_educuation' column\n",
        "# drawCategorical('level_of_educuation')\n",
        "# bar chart for 'type_of_job' column\n",
        "# drawCategorical('type_of_job')"
      ],
      "execution_count": 1235,
      "outputs": [
        {
          "output_type": "display_data",
          "data": {
            "image/png": "[encoded data removed]",
            "text/plain": [
              "<Figure size 432x288 with 1 Axes>"
            ]
          },
          "metadata": {
            "needs_background": "light"
          }
        }
      ]
    },
    {
      "cell_type": "code",
      "metadata": {
        "colab": {
          "base_uri": "https://localhost:8080/",
          "height": 723
        },
        "id": "x_aJHt9cKGBD",
        "outputId": "1ac424c4-c4a9-4d08-c0dc-6ee96c63b88e"
      },
      "source": [
        "# plotting the univariate distribution of the numerical columns\n",
        "col_names = ['household_size','respondent_age']\n",
        "\n",
        "fig, ax = plt.subplots(len(col_names), figsize=(16,12))\n",
        "\n",
        "for i, col_val in enumerate(col_names):\n",
        "\n",
        "    sns.distplot(new_finance_data[col_val], hist=True, ax=ax[i])\n",
        "    ax[i].set_title('Freq dist '+col_val, fontsize=10)\n",
        "    ax[i].set_xlabel(col_val, fontsize=8)\n",
        "    ax[i].set_ylabel('Count', fontsize=8)\n",
        "\n",
        "plt.show()"
      ],
      "execution_count": 1236,
      "outputs": [
        {
          "output_type": "stream",
          "name": "stderr",
          "text": [
            "/usr/local/lib/python3.7/dist-packages/seaborn/distributions.py:2557: FutureWarning: `distplot` is a deprecated function and will be removed in a future version. Please adapt your code to use either `displot` (a figure-level function with similar flexibility) or `histplot` (an axes-level function for histograms).\n",
            "  warnings.warn(msg, FutureWarning)\n",
            "/usr/local/lib/python3.7/dist-packages/seaborn/distributions.py:2557: FutureWarning: `distplot` is a deprecated function and will be removed in a future version. Please adapt your code to use either `displot` (a figure-level function with similar flexibility) or `histplot` (an axes-level function for histograms).\n",
            "  warnings.warn(msg, FutureWarning)\n"
          ]
        },
        {
          "output_type": "display_data",
          "data": {
            "image/png": "[encoded data removed]",
            "text/plain": [
              "<Figure size 1152x864 with 2 Axes>"
            ]
          },
          "metadata": {
            "needs_background": "light"
          }
        }
      ]
    },
    {
      "cell_type": "markdown",
      "metadata": {
        "id": "bZBPcuV4kewR"
      },
      "source": [
        "# 5. Cleaning Data"
      ]
    },
    {
      "cell_type": "code",
      "metadata": {
        "colab": {
          "base_uri": "https://localhost:8080/"
        },
        "id": "6-4ZP8k4l1vl",
        "outputId": "6a26ae0e-a6e4-4dba-ac2f-57810e126a23"
      },
      "source": [
        "# Checking if there are null values in the dataset\n",
        "new_finance_data.isnull().values.any()"
      ],
      "execution_count": 1237,
      "outputs": [
        {
          "output_type": "execute_result",
          "data": {
            "text/plain": [
              "True"
            ]
          },
          "metadata": {},
          "execution_count": 1237
        }
      ]
    },
    {
      "cell_type": "code",
      "metadata": {
        "colab": {
          "base_uri": "https://localhost:8080/"
        },
        "id": "RyFC65DmHoiN",
        "outputId": "2f81bfd6-5c1f-43d2-dc85-35acca984dcc"
      },
      "source": [
        "# Total number of missing values\n",
        "new_finance_data.isnull().sum()"
      ],
      "execution_count": 1238,
      "outputs": [
        {
          "output_type": "execute_result",
          "data": {
            "text/plain": [
              "country                       14\n",
              "year                           0\n",
              "uniqueid                       0\n",
              "has_a_bank_account            36\n",
              "type_of_location              15\n",
              "cell_phone_access             11\n",
              "household_size                28\n",
              "respondent_age                34\n",
              "gender_of_respondent          34\n",
              "the_relationship_with_head     4\n",
              "marital_status                32\n",
              "level_of_education            29\n",
              "type_of_job                   30\n",
              "dtype: int64"
            ]
          },
          "metadata": {},
          "execution_count": 1238
        }
      ]
    },
    {
      "cell_type": "code",
      "metadata": {
        "colab": {
          "base_uri": "https://localhost:8080/",
          "height": 731
        },
        "id": "6I0N_lU7oHdt",
        "outputId": "4a81c675-2e41-4faa-8887-497c72144779"
      },
      "source": [
        "# displaying the null values in the 'country' column \n",
        "countryNA = pd.isnull(new_finance_data[\"country\"]) \n",
        "new_finance_data[countryNA]\n"
      ],
      "execution_count": 1239,
      "outputs": [
        {
          "output_type": "execute_result",
          "data": {
            "text/html": [
              "<div>\n",
              "<style scoped>\n",
              "    .dataframe tbody tr th:only-of-type {\n",
              "        vertical-align: middle;\n",
              "    }\n",
              "\n",
              "    .dataframe tbody tr th {\n",
              "        vertical-align: top;\n",
              "    }\n",
              "\n",
              "    .dataframe thead th {\n",
              "        text-align: right;\n",
              "    }\n",
              "</style>\n",
              "<table border=\"1\" class=\"dataframe\">\n",
              "  <thead>\n",
              "    <tr style=\"text-align: right;\">\n",
              "      <th></th>\n",
              "      <th>country</th>\n",
              "      <th>year</th>\n",
              "      <th>uniqueid</th>\n",
              "      <th>has_a_bank_account</th>\n",
              "      <th>type_of_location</th>\n",
              "      <th>cell_phone_access</th>\n",
              "      <th>household_size</th>\n",
              "      <th>respondent_age</th>\n",
              "      <th>gender_of_respondent</th>\n",
              "      <th>the_relationship_with_head</th>\n",
              "      <th>marital_status</th>\n",
              "      <th>level_of_education</th>\n",
              "      <th>type_of_job</th>\n",
              "    </tr>\n",
              "  </thead>\n",
              "  <tbody>\n",
              "    <tr>\n",
              "      <th>18200</th>\n",
              "      <td>NaN</td>\n",
              "      <td>2017</td>\n",
              "      <td>uniqueid_3398</td>\n",
              "      <td>No</td>\n",
              "      <td>Urban</td>\n",
              "      <td>Yes</td>\n",
              "      <td>1.0</td>\n",
              "      <td>25.0</td>\n",
              "      <td>Female</td>\n",
              "      <td>Spouse</td>\n",
              "      <td>Single/Never Married</td>\n",
              "      <td>Primary education</td>\n",
              "      <td>Remittance Dependent</td>\n",
              "    </tr>\n",
              "    <tr>\n",
              "      <th>18201</th>\n",
              "      <td>NaN</td>\n",
              "      <td>2017</td>\n",
              "      <td>uniqueid_3399</td>\n",
              "      <td>No</td>\n",
              "      <td>Urban</td>\n",
              "      <td>No</td>\n",
              "      <td>1.0</td>\n",
              "      <td>60.0</td>\n",
              "      <td>Female</td>\n",
              "      <td>Head of Household</td>\n",
              "      <td>Widowed</td>\n",
              "      <td>Primary education</td>\n",
              "      <td>Self employed</td>\n",
              "    </tr>\n",
              "    <tr>\n",
              "      <th>18202</th>\n",
              "      <td>NaN</td>\n",
              "      <td>2017</td>\n",
              "      <td>uniqueid_3400</td>\n",
              "      <td>No</td>\n",
              "      <td>Urban</td>\n",
              "      <td>Yes</td>\n",
              "      <td>1.0</td>\n",
              "      <td>19.0</td>\n",
              "      <td>Female</td>\n",
              "      <td>Spouse</td>\n",
              "      <td>Single/Never Married</td>\n",
              "      <td>Primary education</td>\n",
              "      <td>No Income</td>\n",
              "    </tr>\n",
              "    <tr>\n",
              "      <th>18203</th>\n",
              "      <td>NaN</td>\n",
              "      <td>2017</td>\n",
              "      <td>uniqueid_3401</td>\n",
              "      <td>No</td>\n",
              "      <td>Urban</td>\n",
              "      <td>No</td>\n",
              "      <td>1.0</td>\n",
              "      <td>62.0</td>\n",
              "      <td>Female</td>\n",
              "      <td>Head of Household</td>\n",
              "      <td>Widowed</td>\n",
              "      <td>No formal education</td>\n",
              "      <td>Self employed</td>\n",
              "    </tr>\n",
              "    <tr>\n",
              "      <th>18204</th>\n",
              "      <td>NaN</td>\n",
              "      <td>2017</td>\n",
              "      <td>uniqueid_3402</td>\n",
              "      <td>No</td>\n",
              "      <td>Urban</td>\n",
              "      <td>No</td>\n",
              "      <td>2.0</td>\n",
              "      <td>42.0</td>\n",
              "      <td>Female</td>\n",
              "      <td>Head of Household</td>\n",
              "      <td>Widowed</td>\n",
              "      <td>No formal education</td>\n",
              "      <td>Self employed</td>\n",
              "    </tr>\n",
              "    <tr>\n",
              "      <th>18205</th>\n",
              "      <td>NaN</td>\n",
              "      <td>2017</td>\n",
              "      <td>uniqueid_3403</td>\n",
              "      <td>No</td>\n",
              "      <td>Rural</td>\n",
              "      <td>No</td>\n",
              "      <td>3.0</td>\n",
              "      <td>18.0</td>\n",
              "      <td>Male</td>\n",
              "      <td>Child</td>\n",
              "      <td>Divorced/Seperated</td>\n",
              "      <td>Secondary education</td>\n",
              "      <td>Remittance Dependent</td>\n",
              "    </tr>\n",
              "    <tr>\n",
              "      <th>18206</th>\n",
              "      <td>NaN</td>\n",
              "      <td>2017</td>\n",
              "      <td>uniqueid_3404</td>\n",
              "      <td>No</td>\n",
              "      <td>Urban</td>\n",
              "      <td>Yes</td>\n",
              "      <td>2.0</td>\n",
              "      <td>73.0</td>\n",
              "      <td>Female</td>\n",
              "      <td>Head of Household</td>\n",
              "      <td>Married/Living together</td>\n",
              "      <td>No formal education</td>\n",
              "      <td>Self employed</td>\n",
              "    </tr>\n",
              "    <tr>\n",
              "      <th>18207</th>\n",
              "      <td>NaN</td>\n",
              "      <td>2017</td>\n",
              "      <td>uniqueid_3405</td>\n",
              "      <td>No</td>\n",
              "      <td>Urban</td>\n",
              "      <td>No</td>\n",
              "      <td>1.0</td>\n",
              "      <td>40.0</td>\n",
              "      <td>Male</td>\n",
              "      <td>Head of Household</td>\n",
              "      <td>Widowed</td>\n",
              "      <td>No formal education</td>\n",
              "      <td>Self employed</td>\n",
              "    </tr>\n",
              "    <tr>\n",
              "      <th>18208</th>\n",
              "      <td>NaN</td>\n",
              "      <td>2017</td>\n",
              "      <td>uniqueid_3406</td>\n",
              "      <td>No</td>\n",
              "      <td>Urban</td>\n",
              "      <td>No</td>\n",
              "      <td>3.0</td>\n",
              "      <td>28.0</td>\n",
              "      <td>Male</td>\n",
              "      <td>Parent</td>\n",
              "      <td>Married/Living together</td>\n",
              "      <td>No formal education</td>\n",
              "      <td>Self employed</td>\n",
              "    </tr>\n",
              "    <tr>\n",
              "      <th>18312</th>\n",
              "      <td>NaN</td>\n",
              "      <td>2017</td>\n",
              "      <td>uniqueid_3510</td>\n",
              "      <td>No</td>\n",
              "      <td>Urban</td>\n",
              "      <td>No</td>\n",
              "      <td>2.0</td>\n",
              "      <td>19.0</td>\n",
              "      <td>Male</td>\n",
              "      <td>Parent</td>\n",
              "      <td>Divorced/Seperated</td>\n",
              "      <td>Secondary education</td>\n",
              "      <td>No Income</td>\n",
              "    </tr>\n",
              "    <tr>\n",
              "      <th>18313</th>\n",
              "      <td>NaN</td>\n",
              "      <td>2017</td>\n",
              "      <td>uniqueid_3511</td>\n",
              "      <td>No</td>\n",
              "      <td>Urban</td>\n",
              "      <td>Yes</td>\n",
              "      <td>2.0</td>\n",
              "      <td>20.0</td>\n",
              "      <td>Female</td>\n",
              "      <td>Other relative</td>\n",
              "      <td>Divorced/Seperated</td>\n",
              "      <td>No formal education</td>\n",
              "      <td>Informally employed</td>\n",
              "    </tr>\n",
              "    <tr>\n",
              "      <th>18314</th>\n",
              "      <td>NaN</td>\n",
              "      <td>2017</td>\n",
              "      <td>uniqueid_3512</td>\n",
              "      <td>No</td>\n",
              "      <td>Urban</td>\n",
              "      <td>No</td>\n",
              "      <td>3.0</td>\n",
              "      <td>22.0</td>\n",
              "      <td>Female</td>\n",
              "      <td>Spouse</td>\n",
              "      <td>Single/Never Married</td>\n",
              "      <td>Primary education</td>\n",
              "      <td>Self employed</td>\n",
              "    </tr>\n",
              "    <tr>\n",
              "      <th>18315</th>\n",
              "      <td>NaN</td>\n",
              "      <td>2017</td>\n",
              "      <td>uniqueid_3513</td>\n",
              "      <td>No</td>\n",
              "      <td>Rural</td>\n",
              "      <td>Yes</td>\n",
              "      <td>3.0</td>\n",
              "      <td>44.0</td>\n",
              "      <td>Female</td>\n",
              "      <td>Other relative</td>\n",
              "      <td>Widowed</td>\n",
              "      <td>Primary education</td>\n",
              "      <td>Self employed</td>\n",
              "    </tr>\n",
              "    <tr>\n",
              "      <th>18316</th>\n",
              "      <td>NaN</td>\n",
              "      <td>2017</td>\n",
              "      <td>uniqueid_3514</td>\n",
              "      <td>No</td>\n",
              "      <td>Rural</td>\n",
              "      <td>Yes</td>\n",
              "      <td>2.0</td>\n",
              "      <td>67.0</td>\n",
              "      <td>Female</td>\n",
              "      <td>Spouse</td>\n",
              "      <td>Single/Never Married</td>\n",
              "      <td>No formal education</td>\n",
              "      <td>Remittance Dependent</td>\n",
              "    </tr>\n",
              "  </tbody>\n",
              "</table>\n",
              "</div>"
            ],
            "text/plain": [
              "      country  year  ...   level_of_education           type_of_job\n",
              "18200     NaN  2017  ...    Primary education  Remittance Dependent\n",
              "18201     NaN  2017  ...    Primary education         Self employed\n",
              "18202     NaN  2017  ...    Primary education             No Income\n",
              "18203     NaN  2017  ...  No formal education         Self employed\n",
              "18204     NaN  2017  ...  No formal education         Self employed\n",
              "18205     NaN  2017  ...  Secondary education  Remittance Dependent\n",
              "18206     NaN  2017  ...  No formal education         Self employed\n",
              "18207     NaN  2017  ...  No formal education         Self employed\n",
              "18208     NaN  2017  ...  No formal education         Self employed\n",
              "18312     NaN  2017  ...  Secondary education             No Income\n",
              "18313     NaN  2017  ...  No formal education   Informally employed\n",
              "18314     NaN  2017  ...    Primary education         Self employed\n",
              "18315     NaN  2017  ...    Primary education         Self employed\n",
              "18316     NaN  2017  ...  No formal education  Remittance Dependent\n",
              "\n",
              "[14 rows x 13 columns]"
            ]
          },
          "metadata": {},
          "execution_count": 1239
        }
      ]
    },
    {
      "cell_type": "code",
      "metadata": {
        "colab": {
          "base_uri": "https://localhost:8080/"
        },
        "id": "An-_tiGh-JnY",
        "outputId": "676d830d-47df-444b-97aa-8650e13f397e"
      },
      "source": [
        "# determining the method to fill the null values based on the country column\n",
        "# 'country' values at different indices \n",
        "new_finance_data.values[18199]\n",
        "#new_finance_data.values[18311]\n",
        "#new_finance_data.values[18317]\n",
        "\n"
      ],
      "execution_count": 1240,
      "outputs": [
        {
          "output_type": "execute_result",
          "data": {
            "text/plain": [
              "array(['Tanzania', 2017, 'uniqueid_3397', 'No', 'Urban', 'No', 2.0, 46.0,\n",
              "       'Female', 'Spouse', 'Single/Never Married', 'Primary education',\n",
              "       'Self employed'], dtype=object)"
            ]
          },
          "metadata": {},
          "execution_count": 1240
        }
      ]
    },
    {
      "cell_type": "code",
      "metadata": {
        "colab": {
          "base_uri": "https://localhost:8080/",
          "height": 632
        },
        "id": "ClP4_wVE_kqI",
        "outputId": "6825bafa-b3e5-4ad1-8845-7aa2991b8840"
      },
      "source": [
        "# filling null values using forward fill\n",
        "fill_null = new_finance_data.ffill(axis = 0)\n",
        "fill_null"
      ],
      "execution_count": 1241,
      "outputs": [
        {
          "output_type": "execute_result",
          "data": {
            "text/html": [
              "<div>\n",
              "<style scoped>\n",
              "    .dataframe tbody tr th:only-of-type {\n",
              "        vertical-align: middle;\n",
              "    }\n",
              "\n",
              "    .dataframe tbody tr th {\n",
              "        vertical-align: top;\n",
              "    }\n",
              "\n",
              "    .dataframe thead th {\n",
              "        text-align: right;\n",
              "    }\n",
              "</style>\n",
              "<table border=\"1\" class=\"dataframe\">\n",
              "  <thead>\n",
              "    <tr style=\"text-align: right;\">\n",
              "      <th></th>\n",
              "      <th>country</th>\n",
              "      <th>year</th>\n",
              "      <th>uniqueid</th>\n",
              "      <th>has_a_bank_account</th>\n",
              "      <th>type_of_location</th>\n",
              "      <th>cell_phone_access</th>\n",
              "      <th>household_size</th>\n",
              "      <th>respondent_age</th>\n",
              "      <th>gender_of_respondent</th>\n",
              "      <th>the_relationship_with_head</th>\n",
              "      <th>marital_status</th>\n",
              "      <th>level_of_education</th>\n",
              "      <th>type_of_job</th>\n",
              "    </tr>\n",
              "  </thead>\n",
              "  <tbody>\n",
              "    <tr>\n",
              "      <th>0</th>\n",
              "      <td>Kenya</td>\n",
              "      <td>2018</td>\n",
              "      <td>uniqueid_1</td>\n",
              "      <td>Yes</td>\n",
              "      <td>Rural</td>\n",
              "      <td>Yes</td>\n",
              "      <td>3.0</td>\n",
              "      <td>24.0</td>\n",
              "      <td>Female</td>\n",
              "      <td>Spouse</td>\n",
              "      <td>Married/Living together</td>\n",
              "      <td>Secondary education</td>\n",
              "      <td>Self employed</td>\n",
              "    </tr>\n",
              "    <tr>\n",
              "      <th>1</th>\n",
              "      <td>Kenya</td>\n",
              "      <td>2018</td>\n",
              "      <td>uniqueid_2</td>\n",
              "      <td>No</td>\n",
              "      <td>Rural</td>\n",
              "      <td>No</td>\n",
              "      <td>5.0</td>\n",
              "      <td>70.0</td>\n",
              "      <td>Female</td>\n",
              "      <td>Head of Household</td>\n",
              "      <td>Widowed</td>\n",
              "      <td>No formal education</td>\n",
              "      <td>Government Dependent</td>\n",
              "    </tr>\n",
              "    <tr>\n",
              "      <th>2</th>\n",
              "      <td>Kenya</td>\n",
              "      <td>2018</td>\n",
              "      <td>uniqueid_3</td>\n",
              "      <td>Yes</td>\n",
              "      <td>Urban</td>\n",
              "      <td>Yes</td>\n",
              "      <td>5.0</td>\n",
              "      <td>26.0</td>\n",
              "      <td>Male</td>\n",
              "      <td>Other relative</td>\n",
              "      <td>Single/Never Married</td>\n",
              "      <td>Vocational/Specialised training</td>\n",
              "      <td>Self employed</td>\n",
              "    </tr>\n",
              "    <tr>\n",
              "      <th>3</th>\n",
              "      <td>Kenya</td>\n",
              "      <td>2018</td>\n",
              "      <td>uniqueid_4</td>\n",
              "      <td>No</td>\n",
              "      <td>Rural</td>\n",
              "      <td>Yes</td>\n",
              "      <td>5.0</td>\n",
              "      <td>34.0</td>\n",
              "      <td>Female</td>\n",
              "      <td>Head of Household</td>\n",
              "      <td>Married/Living together</td>\n",
              "      <td>Primary education</td>\n",
              "      <td>Formally employed Private</td>\n",
              "    </tr>\n",
              "    <tr>\n",
              "      <th>4</th>\n",
              "      <td>Kenya</td>\n",
              "      <td>2018</td>\n",
              "      <td>uniqueid_5</td>\n",
              "      <td>No</td>\n",
              "      <td>Urban</td>\n",
              "      <td>No</td>\n",
              "      <td>8.0</td>\n",
              "      <td>26.0</td>\n",
              "      <td>Male</td>\n",
              "      <td>Child</td>\n",
              "      <td>Single/Never Married</td>\n",
              "      <td>Primary education</td>\n",
              "      <td>Informally employed</td>\n",
              "    </tr>\n",
              "    <tr>\n",
              "      <th>...</th>\n",
              "      <td>...</td>\n",
              "      <td>...</td>\n",
              "      <td>...</td>\n",
              "      <td>...</td>\n",
              "      <td>...</td>\n",
              "      <td>...</td>\n",
              "      <td>...</td>\n",
              "      <td>...</td>\n",
              "      <td>...</td>\n",
              "      <td>...</td>\n",
              "      <td>...</td>\n",
              "      <td>...</td>\n",
              "      <td>...</td>\n",
              "    </tr>\n",
              "    <tr>\n",
              "      <th>23519</th>\n",
              "      <td>Uganda</td>\n",
              "      <td>2018</td>\n",
              "      <td>uniqueid_2113</td>\n",
              "      <td>No</td>\n",
              "      <td>Rural</td>\n",
              "      <td>Yes</td>\n",
              "      <td>4.0</td>\n",
              "      <td>48.0</td>\n",
              "      <td>Female</td>\n",
              "      <td>Head of Household</td>\n",
              "      <td>Divorced/Seperated</td>\n",
              "      <td>No formal education</td>\n",
              "      <td>Other Income</td>\n",
              "    </tr>\n",
              "    <tr>\n",
              "      <th>23520</th>\n",
              "      <td>Uganda</td>\n",
              "      <td>2018</td>\n",
              "      <td>uniqueid_2114</td>\n",
              "      <td>No</td>\n",
              "      <td>Rural</td>\n",
              "      <td>Yes</td>\n",
              "      <td>2.0</td>\n",
              "      <td>27.0</td>\n",
              "      <td>Female</td>\n",
              "      <td>Head of Household</td>\n",
              "      <td>Single/Never Married</td>\n",
              "      <td>Secondary education</td>\n",
              "      <td>Other Income</td>\n",
              "    </tr>\n",
              "    <tr>\n",
              "      <th>23521</th>\n",
              "      <td>Uganda</td>\n",
              "      <td>2018</td>\n",
              "      <td>uniqueid_2115</td>\n",
              "      <td>No</td>\n",
              "      <td>Rural</td>\n",
              "      <td>Yes</td>\n",
              "      <td>5.0</td>\n",
              "      <td>27.0</td>\n",
              "      <td>Female</td>\n",
              "      <td>Parent</td>\n",
              "      <td>Widowed</td>\n",
              "      <td>Primary education</td>\n",
              "      <td>Other Income</td>\n",
              "    </tr>\n",
              "    <tr>\n",
              "      <th>23522</th>\n",
              "      <td>Uganda</td>\n",
              "      <td>2018</td>\n",
              "      <td>uniqueid_2116</td>\n",
              "      <td>No</td>\n",
              "      <td>Urban</td>\n",
              "      <td>Yes</td>\n",
              "      <td>7.0</td>\n",
              "      <td>30.0</td>\n",
              "      <td>Female</td>\n",
              "      <td>Parent</td>\n",
              "      <td>Divorced/Seperated</td>\n",
              "      <td>Secondary education</td>\n",
              "      <td>Self employed</td>\n",
              "    </tr>\n",
              "    <tr>\n",
              "      <th>23523</th>\n",
              "      <td>Uganda</td>\n",
              "      <td>2018</td>\n",
              "      <td>uniqueid_2117</td>\n",
              "      <td>No</td>\n",
              "      <td>Rural</td>\n",
              "      <td>Yes</td>\n",
              "      <td>10.0</td>\n",
              "      <td>20.0</td>\n",
              "      <td>Male</td>\n",
              "      <td>Child</td>\n",
              "      <td>Single/Never Married</td>\n",
              "      <td>Secondary education</td>\n",
              "      <td>No Income</td>\n",
              "    </tr>\n",
              "  </tbody>\n",
              "</table>\n",
              "<p>23524 rows × 13 columns</p>\n",
              "</div>"
            ],
            "text/plain": [
              "      country  year  ...               level_of_education                type_of_job\n",
              "0       Kenya  2018  ...              Secondary education              Self employed\n",
              "1       Kenya  2018  ...              No formal education       Government Dependent\n",
              "2       Kenya  2018  ...  Vocational/Specialised training              Self employed\n",
              "3       Kenya  2018  ...                Primary education  Formally employed Private\n",
              "4       Kenya  2018  ...                Primary education        Informally employed\n",
              "...       ...   ...  ...                              ...                        ...\n",
              "23519  Uganda  2018  ...              No formal education               Other Income\n",
              "23520  Uganda  2018  ...              Secondary education               Other Income\n",
              "23521  Uganda  2018  ...                Primary education               Other Income\n",
              "23522  Uganda  2018  ...              Secondary education              Self employed\n",
              "23523  Uganda  2018  ...              Secondary education                  No Income\n",
              "\n",
              "[23524 rows x 13 columns]"
            ]
          },
          "metadata": {},
          "execution_count": 1241
        }
      ]
    },
    {
      "cell_type": "code",
      "metadata": {
        "colab": {
          "base_uri": "https://localhost:8080/",
          "height": 731
        },
        "id": "bCw9QLxM_qjf",
        "outputId": "5b757970-2bae-4a55-e610-b450db77fb89"
      },
      "source": [
        "# checking if the null values are filled using 'country' column\n",
        "fill_null[countryNA]\n"
      ],
      "execution_count": 1242,
      "outputs": [
        {
          "output_type": "execute_result",
          "data": {
            "text/html": [
              "<div>\n",
              "<style scoped>\n",
              "    .dataframe tbody tr th:only-of-type {\n",
              "        vertical-align: middle;\n",
              "    }\n",
              "\n",
              "    .dataframe tbody tr th {\n",
              "        vertical-align: top;\n",
              "    }\n",
              "\n",
              "    .dataframe thead th {\n",
              "        text-align: right;\n",
              "    }\n",
              "</style>\n",
              "<table border=\"1\" class=\"dataframe\">\n",
              "  <thead>\n",
              "    <tr style=\"text-align: right;\">\n",
              "      <th></th>\n",
              "      <th>country</th>\n",
              "      <th>year</th>\n",
              "      <th>uniqueid</th>\n",
              "      <th>has_a_bank_account</th>\n",
              "      <th>type_of_location</th>\n",
              "      <th>cell_phone_access</th>\n",
              "      <th>household_size</th>\n",
              "      <th>respondent_age</th>\n",
              "      <th>gender_of_respondent</th>\n",
              "      <th>the_relationship_with_head</th>\n",
              "      <th>marital_status</th>\n",
              "      <th>level_of_education</th>\n",
              "      <th>type_of_job</th>\n",
              "    </tr>\n",
              "  </thead>\n",
              "  <tbody>\n",
              "    <tr>\n",
              "      <th>18200</th>\n",
              "      <td>Tanzania</td>\n",
              "      <td>2017</td>\n",
              "      <td>uniqueid_3398</td>\n",
              "      <td>No</td>\n",
              "      <td>Urban</td>\n",
              "      <td>Yes</td>\n",
              "      <td>1.0</td>\n",
              "      <td>25.0</td>\n",
              "      <td>Female</td>\n",
              "      <td>Spouse</td>\n",
              "      <td>Single/Never Married</td>\n",
              "      <td>Primary education</td>\n",
              "      <td>Remittance Dependent</td>\n",
              "    </tr>\n",
              "    <tr>\n",
              "      <th>18201</th>\n",
              "      <td>Tanzania</td>\n",
              "      <td>2017</td>\n",
              "      <td>uniqueid_3399</td>\n",
              "      <td>No</td>\n",
              "      <td>Urban</td>\n",
              "      <td>No</td>\n",
              "      <td>1.0</td>\n",
              "      <td>60.0</td>\n",
              "      <td>Female</td>\n",
              "      <td>Head of Household</td>\n",
              "      <td>Widowed</td>\n",
              "      <td>Primary education</td>\n",
              "      <td>Self employed</td>\n",
              "    </tr>\n",
              "    <tr>\n",
              "      <th>18202</th>\n",
              "      <td>Tanzania</td>\n",
              "      <td>2017</td>\n",
              "      <td>uniqueid_3400</td>\n",
              "      <td>No</td>\n",
              "      <td>Urban</td>\n",
              "      <td>Yes</td>\n",
              "      <td>1.0</td>\n",
              "      <td>19.0</td>\n",
              "      <td>Female</td>\n",
              "      <td>Spouse</td>\n",
              "      <td>Single/Never Married</td>\n",
              "      <td>Primary education</td>\n",
              "      <td>No Income</td>\n",
              "    </tr>\n",
              "    <tr>\n",
              "      <th>18203</th>\n",
              "      <td>Tanzania</td>\n",
              "      <td>2017</td>\n",
              "      <td>uniqueid_3401</td>\n",
              "      <td>No</td>\n",
              "      <td>Urban</td>\n",
              "      <td>No</td>\n",
              "      <td>1.0</td>\n",
              "      <td>62.0</td>\n",
              "      <td>Female</td>\n",
              "      <td>Head of Household</td>\n",
              "      <td>Widowed</td>\n",
              "      <td>No formal education</td>\n",
              "      <td>Self employed</td>\n",
              "    </tr>\n",
              "    <tr>\n",
              "      <th>18204</th>\n",
              "      <td>Tanzania</td>\n",
              "      <td>2017</td>\n",
              "      <td>uniqueid_3402</td>\n",
              "      <td>No</td>\n",
              "      <td>Urban</td>\n",
              "      <td>No</td>\n",
              "      <td>2.0</td>\n",
              "      <td>42.0</td>\n",
              "      <td>Female</td>\n",
              "      <td>Head of Household</td>\n",
              "      <td>Widowed</td>\n",
              "      <td>No formal education</td>\n",
              "      <td>Self employed</td>\n",
              "    </tr>\n",
              "    <tr>\n",
              "      <th>18205</th>\n",
              "      <td>Tanzania</td>\n",
              "      <td>2017</td>\n",
              "      <td>uniqueid_3403</td>\n",
              "      <td>No</td>\n",
              "      <td>Rural</td>\n",
              "      <td>No</td>\n",
              "      <td>3.0</td>\n",
              "      <td>18.0</td>\n",
              "      <td>Male</td>\n",
              "      <td>Child</td>\n",
              "      <td>Divorced/Seperated</td>\n",
              "      <td>Secondary education</td>\n",
              "      <td>Remittance Dependent</td>\n",
              "    </tr>\n",
              "    <tr>\n",
              "      <th>18206</th>\n",
              "      <td>Tanzania</td>\n",
              "      <td>2017</td>\n",
              "      <td>uniqueid_3404</td>\n",
              "      <td>No</td>\n",
              "      <td>Urban</td>\n",
              "      <td>Yes</td>\n",
              "      <td>2.0</td>\n",
              "      <td>73.0</td>\n",
              "      <td>Female</td>\n",
              "      <td>Head of Household</td>\n",
              "      <td>Married/Living together</td>\n",
              "      <td>No formal education</td>\n",
              "      <td>Self employed</td>\n",
              "    </tr>\n",
              "    <tr>\n",
              "      <th>18207</th>\n",
              "      <td>Tanzania</td>\n",
              "      <td>2017</td>\n",
              "      <td>uniqueid_3405</td>\n",
              "      <td>No</td>\n",
              "      <td>Urban</td>\n",
              "      <td>No</td>\n",
              "      <td>1.0</td>\n",
              "      <td>40.0</td>\n",
              "      <td>Male</td>\n",
              "      <td>Head of Household</td>\n",
              "      <td>Widowed</td>\n",
              "      <td>No formal education</td>\n",
              "      <td>Self employed</td>\n",
              "    </tr>\n",
              "    <tr>\n",
              "      <th>18208</th>\n",
              "      <td>Tanzania</td>\n",
              "      <td>2017</td>\n",
              "      <td>uniqueid_3406</td>\n",
              "      <td>No</td>\n",
              "      <td>Urban</td>\n",
              "      <td>No</td>\n",
              "      <td>3.0</td>\n",
              "      <td>28.0</td>\n",
              "      <td>Male</td>\n",
              "      <td>Parent</td>\n",
              "      <td>Married/Living together</td>\n",
              "      <td>No formal education</td>\n",
              "      <td>Self employed</td>\n",
              "    </tr>\n",
              "    <tr>\n",
              "      <th>18312</th>\n",
              "      <td>Tanzania</td>\n",
              "      <td>2017</td>\n",
              "      <td>uniqueid_3510</td>\n",
              "      <td>No</td>\n",
              "      <td>Urban</td>\n",
              "      <td>No</td>\n",
              "      <td>2.0</td>\n",
              "      <td>19.0</td>\n",
              "      <td>Male</td>\n",
              "      <td>Parent</td>\n",
              "      <td>Divorced/Seperated</td>\n",
              "      <td>Secondary education</td>\n",
              "      <td>No Income</td>\n",
              "    </tr>\n",
              "    <tr>\n",
              "      <th>18313</th>\n",
              "      <td>Tanzania</td>\n",
              "      <td>2017</td>\n",
              "      <td>uniqueid_3511</td>\n",
              "      <td>No</td>\n",
              "      <td>Urban</td>\n",
              "      <td>Yes</td>\n",
              "      <td>2.0</td>\n",
              "      <td>20.0</td>\n",
              "      <td>Female</td>\n",
              "      <td>Other relative</td>\n",
              "      <td>Divorced/Seperated</td>\n",
              "      <td>No formal education</td>\n",
              "      <td>Informally employed</td>\n",
              "    </tr>\n",
              "    <tr>\n",
              "      <th>18314</th>\n",
              "      <td>Tanzania</td>\n",
              "      <td>2017</td>\n",
              "      <td>uniqueid_3512</td>\n",
              "      <td>No</td>\n",
              "      <td>Urban</td>\n",
              "      <td>No</td>\n",
              "      <td>3.0</td>\n",
              "      <td>22.0</td>\n",
              "      <td>Female</td>\n",
              "      <td>Spouse</td>\n",
              "      <td>Single/Never Married</td>\n",
              "      <td>Primary education</td>\n",
              "      <td>Self employed</td>\n",
              "    </tr>\n",
              "    <tr>\n",
              "      <th>18315</th>\n",
              "      <td>Tanzania</td>\n",
              "      <td>2017</td>\n",
              "      <td>uniqueid_3513</td>\n",
              "      <td>No</td>\n",
              "      <td>Rural</td>\n",
              "      <td>Yes</td>\n",
              "      <td>3.0</td>\n",
              "      <td>44.0</td>\n",
              "      <td>Female</td>\n",
              "      <td>Other relative</td>\n",
              "      <td>Widowed</td>\n",
              "      <td>Primary education</td>\n",
              "      <td>Self employed</td>\n",
              "    </tr>\n",
              "    <tr>\n",
              "      <th>18316</th>\n",
              "      <td>Tanzania</td>\n",
              "      <td>2017</td>\n",
              "      <td>uniqueid_3514</td>\n",
              "      <td>No</td>\n",
              "      <td>Rural</td>\n",
              "      <td>Yes</td>\n",
              "      <td>2.0</td>\n",
              "      <td>67.0</td>\n",
              "      <td>Female</td>\n",
              "      <td>Spouse</td>\n",
              "      <td>Single/Never Married</td>\n",
              "      <td>No formal education</td>\n",
              "      <td>Remittance Dependent</td>\n",
              "    </tr>\n",
              "  </tbody>\n",
              "</table>\n",
              "</div>"
            ],
            "text/plain": [
              "        country  year  ...   level_of_education           type_of_job\n",
              "18200  Tanzania  2017  ...    Primary education  Remittance Dependent\n",
              "18201  Tanzania  2017  ...    Primary education         Self employed\n",
              "18202  Tanzania  2017  ...    Primary education             No Income\n",
              "18203  Tanzania  2017  ...  No formal education         Self employed\n",
              "18204  Tanzania  2017  ...  No formal education         Self employed\n",
              "18205  Tanzania  2017  ...  Secondary education  Remittance Dependent\n",
              "18206  Tanzania  2017  ...  No formal education         Self employed\n",
              "18207  Tanzania  2017  ...  No formal education         Self employed\n",
              "18208  Tanzania  2017  ...  No formal education         Self employed\n",
              "18312  Tanzania  2017  ...  Secondary education             No Income\n",
              "18313  Tanzania  2017  ...  No formal education   Informally employed\n",
              "18314  Tanzania  2017  ...    Primary education         Self employed\n",
              "18315  Tanzania  2017  ...    Primary education         Self employed\n",
              "18316  Tanzania  2017  ...  No formal education  Remittance Dependent\n",
              "\n",
              "[14 rows x 13 columns]"
            ]
          },
          "metadata": {},
          "execution_count": 1242
        }
      ]
    },
    {
      "cell_type": "code",
      "metadata": {
        "colab": {
          "base_uri": "https://localhost:8080/",
          "height": 1000
        },
        "id": "R5C5xOjeKtNm",
        "outputId": "d7898f84-87e6-4a45-ffc6-9a52bb9a0020"
      },
      "source": [
        "# checking for outliers\n",
        "col_names = ['year', 'household_size','respondent_age']\n",
        "\n",
        "fig, ax = plt.subplots(len(col_names), figsize=(8,40))\n",
        "\n",
        "for i, col_val in enumerate(col_names):\n",
        "\n",
        "    sns.boxplot(y=fill_null[col_val], ax=ax[i])\n",
        "    ax[i].set_title('Box plot - {}'.format(col_val), fontsize=10)\n",
        "    ax[i].set_xlabel(col_val, fontsize=8)\n",
        "\n",
        "plt.show()"
      ],
      "execution_count": 1243,
      "outputs": [
        {
          "output_type": "display_data",
          "data": {
            "image/png": "[encoded data removed]",
            "text/plain": [
              "<Figure size 576x2880 with 3 Axes>"
            ]
          },
          "metadata": {
            "needs_background": "light"
          }
        }
      ]
    },
    {
      "cell_type": "code",
      "metadata": {
        "colab": {
          "base_uri": "https://localhost:8080/",
          "height": 1000
        },
        "id": "0RnPKSL8L8fR",
        "outputId": "3d493d3a-244e-43fe-a678-aee46ba4e239"
      },
      "source": [
        "# removing Numeric outliers using Percentile Outlier Removal Technique\n",
        "\n",
        "def percentile_based_outlier(data, threshold=95):\n",
        "     diff = (100 - threshold) / 2\n",
        "     minval, maxval = np.percentile(data, [diff, 100 - diff])\n",
        "     return (data < minval) | (data > maxval)\n",
        "col_names = ['year', 'household_size','respondent_age']\n",
        "\n",
        "fig, ax = plt.subplots(len(col_names), figsize=(8,40))\n",
        "\n",
        "for i, col_val in enumerate(col_names):\n",
        "    x = fill_null[col_val][:1000]\n",
        "    sns.distplot(x, ax=ax[i], rug=True, hist=False)\n",
        "    outliers = x[percentile_based_outlier(x)]\n",
        "    ax[i].plot(outliers, np.zeros_like(outliers), 'ro', clip_on=False)\n",
        "\n",
        "    ax[i].set_title('Outlier detection - {}'.format(col_val), fontsize=10)\n",
        "    ax[i].set_xlabel(col_val, fontsize=8)\n",
        "\n",
        "plt.show()"
      ],
      "execution_count": 1244,
      "outputs": [
        {
          "output_type": "stream",
          "name": "stderr",
          "text": [
            "/usr/local/lib/python3.7/dist-packages/seaborn/distributions.py:2557: FutureWarning: `distplot` is a deprecated function and will be removed in a future version. Please adapt your code to use either `displot` (a figure-level function with similar flexibility) or `kdeplot` (an axes-level function for kernel density plots).\n",
            "  warnings.warn(msg, FutureWarning)\n",
            "/usr/local/lib/python3.7/dist-packages/seaborn/distributions.py:2056: FutureWarning: The `axis` variable is no longer used and will be removed. Instead, assign variables directly to `x` or `y`.\n",
            "  warnings.warn(msg, FutureWarning)\n",
            "/usr/local/lib/python3.7/dist-packages/seaborn/distributions.py:2557: FutureWarning: `distplot` is a deprecated function and will be removed in a future version. Please adapt your code to use either `displot` (a figure-level function with similar flexibility) or `kdeplot` (an axes-level function for kernel density plots).\n",
            "  warnings.warn(msg, FutureWarning)\n",
            "/usr/local/lib/python3.7/dist-packages/seaborn/distributions.py:2056: FutureWarning: The `axis` variable is no longer used and will be removed. Instead, assign variables directly to `x` or `y`.\n",
            "  warnings.warn(msg, FutureWarning)\n",
            "/usr/local/lib/python3.7/dist-packages/seaborn/distributions.py:2557: FutureWarning: `distplot` is a deprecated function and will be removed in a future version. Please adapt your code to use either `displot` (a figure-level function with similar flexibility) or `kdeplot` (an axes-level function for kernel density plots).\n",
            "  warnings.warn(msg, FutureWarning)\n",
            "/usr/local/lib/python3.7/dist-packages/seaborn/distributions.py:2056: FutureWarning: The `axis` variable is no longer used and will be removed. Instead, assign variables directly to `x` or `y`.\n",
            "  warnings.warn(msg, FutureWarning)\n"
          ]
        },
        {
          "output_type": "display_data",
          "data": {
            "image/png": "[encoded data removed]",
            "text/plain": [
              "<Figure size 576x2880 with 3 Axes>"
            ]
          },
          "metadata": {
            "needs_background": "light"
          }
        }
      ]
    },
    {
      "cell_type": "code",
      "metadata": {
        "id": "i-KyCgItiMIy"
      },
      "source": [
        "fill_null = fill_null[fill_null['year']<=2018]\n",
        "\n",
        "#We can also remove those whose age is above 80 years \n",
        "fill_null = fill_null[fill_null['respondent_age']<+80]"
      ],
      "execution_count": 1245,
      "outputs": []
    },
    {
      "cell_type": "code",
      "metadata": {
        "colab": {
          "base_uri": "https://localhost:8080/",
          "height": 506
        },
        "id": "zjvntMqGSgOr",
        "outputId": "c8eef1c5-7f86-4632-c2c8-7eb519efac90"
      },
      "source": [
        "f,ax = plt.subplots(figsize=(10, 8))\n",
        "corr = fill_null.corr()\n",
        "sns.heatmap(corr,\n",
        "            xticklabels=corr.columns.values,\n",
        "            yticklabels=corr.columns.values)"
      ],
      "execution_count": 1246,
      "outputs": [
        {
          "output_type": "execute_result",
          "data": {
            "text/plain": [
              "<matplotlib.axes._subplots.AxesSubplot at 0x7f6c9bd8dd50>"
            ]
          },
          "metadata": {},
          "execution_count": 1246
        },
        {
          "output_type": "display_data",
          "data": {
            "image/png": "[encoded data removed]",
            "text/plain": [
              "<Figure size 720x576 with 2 Axes>"
            ]
          },
          "metadata": {
            "needs_background": "light"
          }
        }
      ]
    },
    {
      "cell_type": "markdown",
      "metadata": {
        "id": "0XJTPKUCgp3X"
      },
      "source": [
        "# 7. Exporting the Clean Dataset"
      ]
    },
    {
      "cell_type": "code",
      "metadata": {
        "id": "A6eN477haP7T"
      },
      "source": [
        "# Let's now save our clean dataset in a safe place\n",
        "fill_null.to_csv('new_financial_dataset.csv')\n"
      ],
      "execution_count": 1247,
      "outputs": []
    },
    {
      "cell_type": "code",
      "metadata": {
        "colab": {
          "base_uri": "https://localhost:8080/"
        },
        "id": "CTvGkP1Hkwzw",
        "outputId": "d4dbaafc-44d5-4002-a16a-3ee565f5142e"
      },
      "source": [
        "fill_null.info()"
      ],
      "execution_count": 1248,
      "outputs": [
        {
          "output_type": "stream",
          "name": "stdout",
          "text": [
            "<class 'pandas.core.frame.DataFrame'>\n",
            "Int64Index: 23058 entries, 0 to 23523\n",
            "Data columns (total 13 columns):\n",
            " #   Column                      Non-Null Count  Dtype  \n",
            "---  ------                      --------------  -----  \n",
            " 0   country                     23058 non-null  object \n",
            " 1   year                        23058 non-null  int64  \n",
            " 2   uniqueid                    23058 non-null  object \n",
            " 3   has_a_bank_account          23058 non-null  object \n",
            " 4   type_of_location            23058 non-null  object \n",
            " 5   cell_phone_access           23058 non-null  object \n",
            " 6   household_size              23058 non-null  float64\n",
            " 7   respondent_age              23058 non-null  float64\n",
            " 8   gender_of_respondent        23058 non-null  object \n",
            " 9   the_relationship_with_head  23058 non-null  object \n",
            " 10  marital_status              23058 non-null  object \n",
            " 11  level_of_education          23058 non-null  object \n",
            " 12  type_of_job                 23058 non-null  object \n",
            "dtypes: float64(2), int64(1), object(10)\n",
            "memory usage: 2.5+ MB\n"
          ]
        }
      ]
    },
    {
      "cell_type": "markdown",
      "metadata": {
        "id": "WToM5Nc7YG5o"
      },
      "source": [
        "# Univariate Analysis with Python\n"
      ]
    },
    {
      "cell_type": "markdown",
      "metadata": {
        "id": "I_RLEqMRYpIy"
      },
      "source": [
        "## 1.2 Categorical Variables\n"
      ]
    },
    {
      "cell_type": "markdown",
      "metadata": {
        "id": "S74Oj_BhY4_L"
      },
      "source": [
        "### 1.21 Frequency Tables"
      ]
    },
    {
      "cell_type": "code",
      "metadata": {
        "colab": {
          "base_uri": "https://localhost:8080/"
        },
        "id": "ZuDw5FxVZfAX",
        "outputId": "7ec8094d-6ffc-4047-bd50-d9104097950a"
      },
      "source": [
        "# Creating Frequency table of column using the value_counts() function\n",
        "#\n",
        "# Creating Frequency table of 'has_a_bank_account' column\n",
        "fill_null.has_a_bank_account.value_counts()\n"
      ],
      "execution_count": 1249,
      "outputs": [
        {
          "output_type": "execute_result",
          "data": {
            "text/plain": [
              "No     19778\n",
              "Yes     3280\n",
              "Name: has_a_bank_account, dtype: int64"
            ]
          },
          "metadata": {},
          "execution_count": 1249
        }
      ]
    },
    {
      "cell_type": "code",
      "metadata": {
        "id": "VJ5uO0fez68k"
      },
      "source": [
        ""
      ],
      "execution_count": 1249,
      "outputs": []
    },
    {
      "cell_type": "markdown",
      "metadata": {
        "id": "ZR-h6_nO0JyW"
      },
      "source": [
        "#### 1.211 With Bank Account\n"
      ]
    },
    {
      "cell_type": "code",
      "metadata": {
        "colab": {
          "base_uri": "https://localhost:8080/",
          "height": 597
        },
        "id": "yfPm1-W3z2G5",
        "outputId": "e92c348c-ed0f-4480-ce15-04e7386a0970"
      },
      "source": [
        "# Let's now analyse those that Have a Bank Account\n",
        "with_account = fill_null['has_a_bank_account'] == 'Yes'\n",
        "df_with_account = fill_null[with_account]\n",
        "df_with_account"
      ],
      "execution_count": 1250,
      "outputs": [
        {
          "output_type": "execute_result",
          "data": {
            "text/html": [
              "<div>\n",
              "<style scoped>\n",
              "    .dataframe tbody tr th:only-of-type {\n",
              "        vertical-align: middle;\n",
              "    }\n",
              "\n",
              "    .dataframe tbody tr th {\n",
              "        vertical-align: top;\n",
              "    }\n",
              "\n",
              "    .dataframe thead th {\n",
              "        text-align: right;\n",
              "    }\n",
              "</style>\n",
              "<table border=\"1\" class=\"dataframe\">\n",
              "  <thead>\n",
              "    <tr style=\"text-align: right;\">\n",
              "      <th></th>\n",
              "      <th>country</th>\n",
              "      <th>year</th>\n",
              "      <th>uniqueid</th>\n",
              "      <th>has_a_bank_account</th>\n",
              "      <th>type_of_location</th>\n",
              "      <th>cell_phone_access</th>\n",
              "      <th>household_size</th>\n",
              "      <th>respondent_age</th>\n",
              "      <th>gender_of_respondent</th>\n",
              "      <th>the_relationship_with_head</th>\n",
              "      <th>marital_status</th>\n",
              "      <th>level_of_education</th>\n",
              "      <th>type_of_job</th>\n",
              "    </tr>\n",
              "  </thead>\n",
              "  <tbody>\n",
              "    <tr>\n",
              "      <th>0</th>\n",
              "      <td>Kenya</td>\n",
              "      <td>2018</td>\n",
              "      <td>uniqueid_1</td>\n",
              "      <td>Yes</td>\n",
              "      <td>Rural</td>\n",
              "      <td>Yes</td>\n",
              "      <td>3.0</td>\n",
              "      <td>24.0</td>\n",
              "      <td>Female</td>\n",
              "      <td>Spouse</td>\n",
              "      <td>Married/Living together</td>\n",
              "      <td>Secondary education</td>\n",
              "      <td>Self employed</td>\n",
              "    </tr>\n",
              "    <tr>\n",
              "      <th>2</th>\n",
              "      <td>Kenya</td>\n",
              "      <td>2018</td>\n",
              "      <td>uniqueid_3</td>\n",
              "      <td>Yes</td>\n",
              "      <td>Urban</td>\n",
              "      <td>Yes</td>\n",
              "      <td>5.0</td>\n",
              "      <td>26.0</td>\n",
              "      <td>Male</td>\n",
              "      <td>Other relative</td>\n",
              "      <td>Single/Never Married</td>\n",
              "      <td>Vocational/Specialised training</td>\n",
              "      <td>Self employed</td>\n",
              "    </tr>\n",
              "    <tr>\n",
              "      <th>8</th>\n",
              "      <td>Kenya</td>\n",
              "      <td>2018</td>\n",
              "      <td>uniqueid_9</td>\n",
              "      <td>Yes</td>\n",
              "      <td>Rural</td>\n",
              "      <td>Yes</td>\n",
              "      <td>3.0</td>\n",
              "      <td>54.0</td>\n",
              "      <td>Male</td>\n",
              "      <td>Head of Household</td>\n",
              "      <td>Married/Living together</td>\n",
              "      <td>Secondary education</td>\n",
              "      <td>Farming and Fishing</td>\n",
              "    </tr>\n",
              "    <tr>\n",
              "      <th>11</th>\n",
              "      <td>Kenya</td>\n",
              "      <td>2018</td>\n",
              "      <td>uniqueid_12</td>\n",
              "      <td>Yes</td>\n",
              "      <td>Rural</td>\n",
              "      <td>Yes</td>\n",
              "      <td>3.0</td>\n",
              "      <td>69.0</td>\n",
              "      <td>Male</td>\n",
              "      <td>Head of Household</td>\n",
              "      <td>Married/Living together</td>\n",
              "      <td>Secondary education</td>\n",
              "      <td>Other Income</td>\n",
              "    </tr>\n",
              "    <tr>\n",
              "      <th>17</th>\n",
              "      <td>Kenya</td>\n",
              "      <td>2018</td>\n",
              "      <td>uniqueid_18</td>\n",
              "      <td>Yes</td>\n",
              "      <td>Rural</td>\n",
              "      <td>Yes</td>\n",
              "      <td>6.0</td>\n",
              "      <td>27.0</td>\n",
              "      <td>Female</td>\n",
              "      <td>Head of Household</td>\n",
              "      <td>Married/Living together</td>\n",
              "      <td>Secondary education</td>\n",
              "      <td>Self employed</td>\n",
              "    </tr>\n",
              "    <tr>\n",
              "      <th>...</th>\n",
              "      <td>...</td>\n",
              "      <td>...</td>\n",
              "      <td>...</td>\n",
              "      <td>...</td>\n",
              "      <td>...</td>\n",
              "      <td>...</td>\n",
              "      <td>...</td>\n",
              "      <td>...</td>\n",
              "      <td>...</td>\n",
              "      <td>...</td>\n",
              "      <td>...</td>\n",
              "      <td>...</td>\n",
              "      <td>...</td>\n",
              "    </tr>\n",
              "    <tr>\n",
              "      <th>23327</th>\n",
              "      <td>Uganda</td>\n",
              "      <td>2018</td>\n",
              "      <td>uniqueid_1905</td>\n",
              "      <td>Yes</td>\n",
              "      <td>Urban</td>\n",
              "      <td>Yes</td>\n",
              "      <td>1.0</td>\n",
              "      <td>24.0</td>\n",
              "      <td>Female</td>\n",
              "      <td>Head of Household</td>\n",
              "      <td>Single/Never Married</td>\n",
              "      <td>Secondary education</td>\n",
              "      <td>Other Income</td>\n",
              "    </tr>\n",
              "    <tr>\n",
              "      <th>23331</th>\n",
              "      <td>Uganda</td>\n",
              "      <td>2018</td>\n",
              "      <td>uniqueid_1909</td>\n",
              "      <td>Yes</td>\n",
              "      <td>Rural</td>\n",
              "      <td>Yes</td>\n",
              "      <td>3.0</td>\n",
              "      <td>26.0</td>\n",
              "      <td>Female</td>\n",
              "      <td>Head of Household</td>\n",
              "      <td>Married/Living together</td>\n",
              "      <td>Secondary education</td>\n",
              "      <td>Other Income</td>\n",
              "    </tr>\n",
              "    <tr>\n",
              "      <th>23351</th>\n",
              "      <td>Uganda</td>\n",
              "      <td>2018</td>\n",
              "      <td>uniqueid_1929</td>\n",
              "      <td>Yes</td>\n",
              "      <td>Rural</td>\n",
              "      <td>Yes</td>\n",
              "      <td>5.0</td>\n",
              "      <td>36.0</td>\n",
              "      <td>Female</td>\n",
              "      <td>Head of Household</td>\n",
              "      <td>Widowed</td>\n",
              "      <td>Primary education</td>\n",
              "      <td>No Income</td>\n",
              "    </tr>\n",
              "    <tr>\n",
              "      <th>23358</th>\n",
              "      <td>Uganda</td>\n",
              "      <td>2018</td>\n",
              "      <td>uniqueid_1936</td>\n",
              "      <td>Yes</td>\n",
              "      <td>Rural</td>\n",
              "      <td>Yes</td>\n",
              "      <td>10.0</td>\n",
              "      <td>50.0</td>\n",
              "      <td>Female</td>\n",
              "      <td>Head of Household</td>\n",
              "      <td>Widowed</td>\n",
              "      <td>Primary education</td>\n",
              "      <td>Self employed</td>\n",
              "    </tr>\n",
              "    <tr>\n",
              "      <th>23362</th>\n",
              "      <td>Uganda</td>\n",
              "      <td>2018</td>\n",
              "      <td>uniqueid_1940</td>\n",
              "      <td>Yes</td>\n",
              "      <td>Urban</td>\n",
              "      <td>No</td>\n",
              "      <td>7.0</td>\n",
              "      <td>18.0</td>\n",
              "      <td>Female</td>\n",
              "      <td>Parent</td>\n",
              "      <td>Single/Never Married</td>\n",
              "      <td>Secondary education</td>\n",
              "      <td>Other Income</td>\n",
              "    </tr>\n",
              "  </tbody>\n",
              "</table>\n",
              "<p>3280 rows × 13 columns</p>\n",
              "</div>"
            ],
            "text/plain": [
              "      country  year  ...               level_of_education          type_of_job\n",
              "0       Kenya  2018  ...              Secondary education        Self employed\n",
              "2       Kenya  2018  ...  Vocational/Specialised training        Self employed\n",
              "8       Kenya  2018  ...              Secondary education  Farming and Fishing\n",
              "11      Kenya  2018  ...              Secondary education         Other Income\n",
              "17      Kenya  2018  ...              Secondary education        Self employed\n",
              "...       ...   ...  ...                              ...                  ...\n",
              "23327  Uganda  2018  ...              Secondary education         Other Income\n",
              "23331  Uganda  2018  ...              Secondary education         Other Income\n",
              "23351  Uganda  2018  ...                Primary education            No Income\n",
              "23358  Uganda  2018  ...                Primary education        Self employed\n",
              "23362  Uganda  2018  ...              Secondary education         Other Income\n",
              "\n",
              "[3280 rows x 13 columns]"
            ]
          },
          "metadata": {},
          "execution_count": 1250
        }
      ]
    },
    {
      "cell_type": "code",
      "metadata": {
        "colab": {
          "base_uri": "https://localhost:8080/"
        },
        "id": "LQh_0c-8uzgs",
        "outputId": "b2a3f88d-804e-4933-e333-9341d86f4ef1"
      },
      "source": [
        "# Creating Frequency table of 'type_of_location' for those with bank account\n",
        "df_with_account.type_of_location.value_counts()"
      ],
      "execution_count": 1251,
      "outputs": [
        {
          "output_type": "execute_result",
          "data": {
            "text/plain": [
              "Urban    1641\n",
              "Rural    1639\n",
              "Name: type_of_location, dtype: int64"
            ]
          },
          "metadata": {},
          "execution_count": 1251
        }
      ]
    },
    {
      "cell_type": "code",
      "metadata": {
        "colab": {
          "base_uri": "https://localhost:8080/"
        },
        "id": "HfKzSWKyvDPs",
        "outputId": "bc9fb129-5e5c-4329-e7d7-a5b995d54c2c"
      },
      "source": [
        "# Creating Frequency table of 'cell_phone_access' for those with bank account\n",
        "df_with_account.cell_phone_access.value_counts()"
      ],
      "execution_count": 1252,
      "outputs": [
        {
          "output_type": "execute_result",
          "data": {
            "text/plain": [
              "Yes    3187\n",
              "No       93\n",
              "Name: cell_phone_access, dtype: int64"
            ]
          },
          "metadata": {},
          "execution_count": 1252
        }
      ]
    },
    {
      "cell_type": "code",
      "metadata": {
        "colab": {
          "base_uri": "https://localhost:8080/"
        },
        "id": "fxsSUul0wQD1",
        "outputId": "c1d5ceae-aecc-444b-94f7-3cb4ef2d7054"
      },
      "source": [
        "# Creating Frequency table of 'gender_of_respondent' for those with bank account\n",
        "df_with_account.gender_of_respondent.value_counts()"
      ],
      "execution_count": 1253,
      "outputs": [
        {
          "output_type": "execute_result",
          "data": {
            "text/plain": [
              "Male      1808\n",
              "Female    1472\n",
              "Name: gender_of_respondent, dtype: int64"
            ]
          },
          "metadata": {},
          "execution_count": 1253
        }
      ]
    },
    {
      "cell_type": "code",
      "metadata": {
        "colab": {
          "base_uri": "https://localhost:8080/"
        },
        "id": "28ez-u3Lwfdk",
        "outputId": "0cc524a1-ba02-464e-8078-281eb0de0b4e"
      },
      "source": [
        "# Creating Frequency table of ' the_relationship_with_head' for those with bank account\n",
        "df_with_account.the_relationship_with_head.value_counts()"
      ],
      "execution_count": 1254,
      "outputs": [
        {
          "output_type": "execute_result",
          "data": {
            "text/plain": [
              "Head of Household      2234\n",
              "Spouse                  700\n",
              "Child                   192\n",
              "Parent                   67\n",
              "Other relative           66\n",
              "Other non-relatives      21\n",
              "Name: the_relationship_with_head, dtype: int64"
            ]
          },
          "metadata": {},
          "execution_count": 1254
        }
      ]
    },
    {
      "cell_type": "code",
      "metadata": {
        "colab": {
          "base_uri": "https://localhost:8080/"
        },
        "id": "Y-V5pNKBxTHZ",
        "outputId": "7a215381-19f2-40d8-c7af-cbc0fa0ad28b"
      },
      "source": [
        "# Creating Frequency table of 'marital_status' for those with bank account\n",
        "df_with_account.marital_status.value_counts()"
      ],
      "execution_count": 1255,
      "outputs": [
        {
          "output_type": "execute_result",
          "data": {
            "text/plain": [
              "Married/Living together    1848\n",
              "Single/Never Married        970\n",
              "Divorced/Seperated          235\n",
              "Widowed                     225\n",
              "Dont know                     2\n",
              "Name: marital_status, dtype: int64"
            ]
          },
          "metadata": {},
          "execution_count": 1255
        }
      ]
    },
    {
      "cell_type": "code",
      "metadata": {
        "colab": {
          "base_uri": "https://localhost:8080/"
        },
        "id": "WOHSvF4Hxcxh",
        "outputId": "543c3726-2c7a-4e3a-8e5c-d4eb685e02a9"
      },
      "source": [
        "# Creating Frequency table of ' level_of_education' for those with bank account\n",
        "df_with_account.level_of_education.value_counts()\n"
      ],
      "execution_count": 1256,
      "outputs": [
        {
          "output_type": "execute_result",
          "data": {
            "text/plain": [
              "Primary education                  1083\n",
              "Secondary education                 979\n",
              "Tertiary education                  590\n",
              "Vocational/Specialised training     458\n",
              "No formal education                 159\n",
              "Other/Dont know/RTA                   6\n",
              "6                                     5\n",
              "Name: level_of_education, dtype: int64"
            ]
          },
          "metadata": {},
          "execution_count": 1256
        }
      ]
    },
    {
      "cell_type": "code",
      "metadata": {
        "colab": {
          "base_uri": "https://localhost:8080/"
        },
        "id": "8Eq91u-BxniE",
        "outputId": "9b6b4ed3-8928-4523-b994-97640d2d3adb"
      },
      "source": [
        "# Creating Frequency table of 'type_of_job' for those with bank account\n",
        "df_with_account.type_of_job.value_counts()"
      ],
      "execution_count": 1257,
      "outputs": [
        {
          "output_type": "execute_result",
          "data": {
            "text/plain": [
              "Self employed                   851\n",
              "Farming and Fishing             618\n",
              "Formally employed Private       571\n",
              "Informally employed             445\n",
              "Formally employed Government    300\n",
              "Remittance Dependent            232\n",
              "Other Income                    192\n",
              "Government Dependent             41\n",
              "No Income                        16\n",
              "Dont Know/Refuse to answer       14\n",
              "Name: type_of_job, dtype: int64"
            ]
          },
          "metadata": {},
          "execution_count": 1257
        }
      ]
    },
    {
      "cell_type": "markdown",
      "metadata": {
        "id": "O6QwMXKG6VHn"
      },
      "source": [
        "### 1.22 Bar Charts "
      ]
    },
    {
      "cell_type": "code",
      "metadata": {
        "colab": {
          "base_uri": "https://localhost:8080/",
          "height": 295
        },
        "id": "8tczz7NR6dvs",
        "outputId": "b3ddf9a2-8b48-4e0f-d054-75d766c83935"
      },
      "source": [
        "# Bar charts are used to display values associated with categorical data.\n",
        "#\n",
        "# 1. type_of_location\n",
        "\n",
        "# Defining our data\n",
        "x = ['Rural', 'Urban']\n",
        "people = [1677,1648]\n",
        " \n",
        "plt.bar(x, people, color='green')\n",
        "\n",
        "# Labelling our x axis\n",
        "plt.xlabel(\"Location\")\n",
        "\n",
        "# Labelling our y axis\n",
        "plt.ylabel(\"Number of people\")\n",
        "\n",
        "# Giving a title to our Bar chart\n",
        "plt.title(\"Number of people with Bank Account from different Locations\")\n",
        "\n",
        "# Displaying our chart\n",
        "plt.show()"
      ],
      "execution_count": 1258,
      "outputs": [
        {
          "output_type": "display_data",
          "data": {
            "image/png": "[encoded data removed]",
            "text/plain": [
              "<Figure size 432x288 with 1 Axes>"
            ]
          },
          "metadata": {
            "needs_background": "light"
          }
        }
      ]
    },
    {
      "cell_type": "code",
      "metadata": {
        "colab": {
          "base_uri": "https://localhost:8080/",
          "height": 295
        },
        "id": "Zn1k5lok--8A",
        "outputId": "ce8bfe38-748a-4a05-b531-9dbcb96b7a07"
      },
      "source": [
        "# 2. cell_phone_access\n",
        "\n",
        "# Defining our data\n",
        "x = ['Yes', 'No']\n",
        "people = [3214,111]\n",
        " \n",
        "plt.bar(x, people, color='Orange')\n",
        "\n",
        "# Labelling our x axis\n",
        "plt.xlabel(\"Cell Phone Access\")\n",
        "\n",
        "# Labelling our y axis\n",
        "plt.ylabel(\"Number of people\")\n",
        "\n",
        "# Giving a title to our Bar chart\n",
        "plt.title(\"Number of people with Bank Account having access to Cell Phones\")\n",
        "\n",
        "# Displaying our chart\n",
        "plt.show()"
      ],
      "execution_count": 1259,
      "outputs": [
        {
          "output_type": "display_data",
          "data": {
            "image/png": "[encoded data removed]",
            "text/plain": [
              "<Figure size 432x288 with 1 Axes>"
            ]
          },
          "metadata": {
            "needs_background": "light"
          }
        }
      ]
    },
    {
      "cell_type": "code",
      "metadata": {
        "colab": {
          "base_uri": "https://localhost:8080/",
          "height": 295
        },
        "id": "kAeVlf0l_-HY",
        "outputId": "61a8cd36-f963-4f64-cb95-a26b178a2124"
      },
      "source": [
        "# 3. Relationship with Head\n",
        "\n",
        "# Defining our data\n",
        "x = ['Head of Household', 'Spouse', 'Child', 'Parent', 'Other relative', 'Other non-relatives']\n",
        "people = [2277,701,193,67,66,21]\n",
        " \n",
        "plt.barh(x, people, color='Brown')\n",
        "\n",
        "# Labelling our x axis\n",
        "plt.xlabel(\"Number of people\")\n",
        "\n",
        "# Labelling our y axis\n",
        "plt.ylabel(\"Relationship with the Head\")\n",
        "\n",
        "# Giving a title to our Bar chart\n",
        "plt.title(\"Number of people Related with the Head of House with Bank Account\")\n",
        "\n",
        "# Displaying our chart\n",
        "plt.show()"
      ],
      "execution_count": 1260,
      "outputs": [
        {
          "output_type": "display_data",
          "data": {
            "image/png": "[encoded data removed]",
            "text/plain": [
              "<Figure size 432x288 with 1 Axes>"
            ]
          },
          "metadata": {
            "needs_background": "light"
          }
        }
      ]
    },
    {
      "cell_type": "code",
      "metadata": {
        "colab": {
          "base_uri": "https://localhost:8080/",
          "height": 295
        },
        "id": "5OAWr0iQDazt",
        "outputId": "8ac62216-cddc-48fb-b10e-bdc03f4e80a1"
      },
      "source": [
        "# 4.Level of Education\n",
        "\n",
        "# Defining our data\n",
        "x = ['Primary education', 'Secondary education', 'Tertiary education', 'Vocational/Specialised training   ', 'No formal education', 'Other/Dont know/RTA', '6']\n",
        "people = [1097,984,592,458,183,6,5]\n",
        "\n",
        "plt.barh(x, people, color='blue')\n",
        "\n",
        "# Labelling our x axis\n",
        "plt.xlabel(\"Number of people\")\n",
        "\n",
        "# Labelling our y axis\n",
        "plt.ylabel(\"Level of Education\")\n",
        "\n",
        "# Giving a title to our Bar chart\n",
        "plt.title(\"Level of Education of people  with Bank Account\")\n",
        "\n",
        "# Displaying our chart\n",
        "plt.show()"
      ],
      "execution_count": 1261,
      "outputs": [
        {
          "output_type": "display_data",
          "data": {
            "image/png": "[encoded data removed]",
            "text/plain": [
              "<Figure size 432x288 with 1 Axes>"
            ]
          },
          "metadata": {
            "needs_background": "light"
          }
        }
      ]
    },
    {
      "cell_type": "code",
      "metadata": {
        "colab": {
          "base_uri": "https://localhost:8080/",
          "height": 295
        },
        "id": "kmiJnfCKSz5b",
        "outputId": "70c19451-8d35-41e6-f66e-bc33191198ad"
      },
      "source": [
        "# 5.Type of Job\n",
        "\n",
        "# Defining our data\n",
        "x = ['Self employed', 'Farming and Fishing ', 'Formally employed Private', 'Informally employed', 'Formally employed Government', 'Remittance Dependent', 'Other Income', 'Government Dependent', 'No Income', 'Dont Know/Refuse to answer']\n",
        "people = [854,634,572,446,300,241,196,52,16,14]\n",
        "\n",
        "plt.barh(x, people, color='green')\n",
        "\n",
        "# Labelling our x axis\n",
        "plt.xlabel(\"Number of people\")\n",
        "\n",
        "# Labelling our y axis\n",
        "plt.ylabel(\"Type of Job\")\n",
        "\n",
        "# Giving a title to our Bar chart\n",
        "plt.title(\"Level of Education of people  with Bank Account\")\n",
        "\n",
        "# Displaying our chart\n",
        "plt.show()"
      ],
      "execution_count": 1262,
      "outputs": [
        {
          "output_type": "display_data",
          "data": {
            "image/png": "[encoded data removed]",
            "text/plain": [
              "<Figure size 432x288 with 1 Axes>"
            ]
          },
          "metadata": {
            "needs_background": "light"
          }
        }
      ]
    },
    {
      "cell_type": "markdown",
      "metadata": {
        "id": "l0OD-L1ZU8ip"
      },
      "source": [
        "### 1.23 Pie Charts"
      ]
    },
    {
      "cell_type": "code",
      "metadata": {
        "colab": {
          "base_uri": "https://localhost:8080/",
          "height": 264
        },
        "id": "kY6jE3nKA1Ku",
        "outputId": "c9285fdf-a3ee-4c53-8098-7fa27df7c078"
      },
      "source": [
        "# 6. Marital Status\n",
        "# Create a pie chart\n",
        "#\n",
        "\n",
        "# Defining our labels, sizes, colors and explode (this will explode the 1st slice)\n",
        "labels = 'Married/Living together', 'Single/Never Married', 'Widowed', 'Divorced/Seperated', 'Dont know'\n",
        "sizes  = [1866, 974, 246, 237, 2]\n",
        "colors = ['gold', 'yellowgreen', 'lightcoral', 'lightskyblue']\n",
        "\n",
        "\n",
        "# Plotting our pie chart\n",
        "plt.pie(sizes, labels=labels, colors=colors,\n",
        "autopct='%1.1f%%', shadow=True, startangle=140)\n",
        "\n",
        "plt.axis('equal')\n",
        "plt.title('Pie Chart of Marital Status')\n",
        "plt.show()"
      ],
      "execution_count": 1263,
      "outputs": [
        {
          "output_type": "display_data",
          "data": {
            "image/png": "[encoded data removed]",
            "text/plain": [
              "<Figure size 432x288 with 1 Axes>"
            ]
          },
          "metadata": {}
        }
      ]
    },
    {
      "cell_type": "code",
      "metadata": {
        "colab": {
          "base_uri": "https://localhost:8080/",
          "height": 264
        },
        "id": "MUuLnbJDZt6Q",
        "outputId": "fbffff0c-58b9-4fd5-cb3c-11f4a1cc1cd1"
      },
      "source": [
        "# 6. Gender of Respondent\n",
        "# Create a pie chart\n",
        "#\n",
        "\n",
        "# Defining our labels, sizes, colors and explode (this will explode the 1st slice)\n",
        "labels = 'Male', 'Female'\n",
        "sizes  = [1831,1494]\n",
        "colors = ['lightcoral', 'lightskyblue']\n",
        "\n",
        "\n",
        "# Plotting our pie chart\n",
        "plt.pie(sizes, labels=labels, colors=colors,\n",
        "autopct='%1.1f%%', shadow=True, startangle=140)\n",
        "\n",
        "plt.axis('equal')\n",
        "plt.title('Pie Chart of Gender of Respondent')\n",
        "plt.show()"
      ],
      "execution_count": 1264,
      "outputs": [
        {
          "output_type": "display_data",
          "data": {
            "image/png": "[encoded data removed]",
            "text/plain": [
              "<Figure size 432x288 with 1 Axes>"
            ]
          },
          "metadata": {}
        }
      ]
    },
    {
      "cell_type": "markdown",
      "metadata": {
        "id": "X3LR9XUoVJeb"
      },
      "source": [
        "## 1.3 Numerical Variables"
      ]
    },
    {
      "cell_type": "markdown",
      "metadata": {
        "id": "v8iYwSHtVZ-a"
      },
      "source": [
        "### 1.31 Measures of Central Tendency"
      ]
    },
    {
      "cell_type": "code",
      "metadata": {
        "colab": {
          "base_uri": "https://localhost:8080/"
        },
        "id": "yRmW8wWhVFcK",
        "outputId": "6ca2edde-695b-4e96-eeb1-94f3b58fa114"
      },
      "source": [
        "# 1. Mean\n",
        "# Finding the mean of the household_size \n",
        "df_with_account[\"household_size\"].mean()"
      ],
      "execution_count": 1265,
      "outputs": [
        {
          "output_type": "execute_result",
          "data": {
            "text/plain": [
              "3.563109756097561"
            ]
          },
          "metadata": {},
          "execution_count": 1265
        }
      ]
    },
    {
      "cell_type": "code",
      "metadata": {
        "colab": {
          "base_uri": "https://localhost:8080/"
        },
        "id": "Qm6Sn-dOWprl",
        "outputId": "049f7369-b169-499d-e327-ae7796a920c1"
      },
      "source": [
        "# Finding the mean of the respondent_age \n",
        "df_with_account[\"respondent_age\"].mean()"
      ],
      "execution_count": 1266,
      "outputs": [
        {
          "output_type": "execute_result",
          "data": {
            "text/plain": [
              "38.97530487804878"
            ]
          },
          "metadata": {},
          "execution_count": 1266
        }
      ]
    },
    {
      "cell_type": "code",
      "metadata": {
        "colab": {
          "base_uri": "https://localhost:8080/"
        },
        "id": "iWa8_Am_Xecn",
        "outputId": "daa1e31b-6c2e-43e2-ee5b-66b13ee40126"
      },
      "source": [
        "# 2. Median\n",
        "# Finding the median of household_size\n",
        "df_with_account[\"household_size\"].median()"
      ],
      "execution_count": 1267,
      "outputs": [
        {
          "output_type": "execute_result",
          "data": {
            "text/plain": [
              "3.0"
            ]
          },
          "metadata": {},
          "execution_count": 1267
        }
      ]
    },
    {
      "cell_type": "code",
      "metadata": {
        "colab": {
          "base_uri": "https://localhost:8080/"
        },
        "id": "xn0ox3qjXu0K",
        "outputId": "95e97c6a-24a6-447c-d2e0-8bb6d2f6b0bf"
      },
      "source": [
        "# Finding the median of respondent_age\n",
        "df_with_account[\"respondent_age\"].median()"
      ],
      "execution_count": 1268,
      "outputs": [
        {
          "output_type": "execute_result",
          "data": {
            "text/plain": [
              "36.0"
            ]
          },
          "metadata": {},
          "execution_count": 1268
        }
      ]
    },
    {
      "cell_type": "code",
      "metadata": {
        "colab": {
          "base_uri": "https://localhost:8080/"
        },
        "id": "b9nRbcFKX6xs",
        "outputId": "bdd1c159-6c34-4f32-c2fa-1c5bba8375bd"
      },
      "source": [
        "# 3. Mode\n",
        "# Finding the mode of household_size\n",
        "df_with_account[\"household_size\"].mode()"
      ],
      "execution_count": 1269,
      "outputs": [
        {
          "output_type": "execute_result",
          "data": {
            "text/plain": [
              "0    1.0\n",
              "dtype: float64"
            ]
          },
          "metadata": {},
          "execution_count": 1269
        }
      ]
    },
    {
      "cell_type": "code",
      "metadata": {
        "colab": {
          "base_uri": "https://localhost:8080/"
        },
        "id": "kJI5eqnFYJ96",
        "outputId": "da451086-ebd7-4fae-fba8-44e7929d572b"
      },
      "source": [
        "# Finding the mode of respondent_age\n",
        "df_with_account[\"respondent_age\"].mode()"
      ],
      "execution_count": 1270,
      "outputs": [
        {
          "output_type": "execute_result",
          "data": {
            "text/plain": [
              "0    30.0\n",
              "dtype: float64"
            ]
          },
          "metadata": {},
          "execution_count": 1270
        }
      ]
    },
    {
      "cell_type": "markdown",
      "metadata": {
        "id": "nwdJz2A3Ycnk"
      },
      "source": [
        "### 1.32 Measures of Dispersion/Variability/Spread"
      ]
    },
    {
      "cell_type": "code",
      "metadata": {
        "colab": {
          "base_uri": "https://localhost:8080/"
        },
        "id": "5-x81Y5oYlIj",
        "outputId": "efef61e6-d694-4b9c-c8bd-01225e261afb"
      },
      "source": [
        "# 1. Standard Deviation\n",
        "# Finding the standard deviation of household_size\n",
        "df_with_account[\"household_size\"].std()"
      ],
      "execution_count": 1271,
      "outputs": [
        {
          "output_type": "execute_result",
          "data": {
            "text/plain": [
              "2.2196367992836823"
            ]
          },
          "metadata": {},
          "execution_count": 1271
        }
      ]
    },
    {
      "cell_type": "code",
      "metadata": {
        "colab": {
          "base_uri": "https://localhost:8080/"
        },
        "id": "ctxfq67PZaOS",
        "outputId": "0914f352-b962-4a28-8317-6d01e49ec8bb"
      },
      "source": [
        "# Finding the standard deviation of respondent_age\n",
        "df_with_account[\"respondent_age\"].std()"
      ],
      "execution_count": 1272,
      "outputs": [
        {
          "output_type": "execute_result",
          "data": {
            "text/plain": [
              "13.485661567589487"
            ]
          },
          "metadata": {},
          "execution_count": 1272
        }
      ]
    },
    {
      "cell_type": "code",
      "metadata": {
        "colab": {
          "base_uri": "https://localhost:8080/"
        },
        "id": "dDWm7m-TZ1NJ",
        "outputId": "fc233b4d-4ab4-4165-f359-fc1581bede31"
      },
      "source": [
        "# 2. Variance\n",
        "# Finding the variance of the household_size\n",
        "df_with_account[\"household_size\"].var()"
      ],
      "execution_count": 1273,
      "outputs": [
        {
          "output_type": "execute_result",
          "data": {
            "text/plain": [
              "4.92678752073431"
            ]
          },
          "metadata": {},
          "execution_count": 1273
        }
      ]
    },
    {
      "cell_type": "code",
      "metadata": {
        "colab": {
          "base_uri": "https://localhost:8080/"
        },
        "id": "7GyNwnf6aEL9",
        "outputId": "796ce737-3dcf-457f-bd5d-a872f4ba3796"
      },
      "source": [
        "# Finding the variance of the respondent_age\n",
        "df_with_account[\"respondent_age\"].var()"
      ],
      "execution_count": 1274,
      "outputs": [
        {
          "output_type": "execute_result",
          "data": {
            "text/plain": [
              "181.86306791556012"
            ]
          },
          "metadata": {},
          "execution_count": 1274
        }
      ]
    },
    {
      "cell_type": "code",
      "metadata": {
        "colab": {
          "base_uri": "https://localhost:8080/"
        },
        "id": "Gp6tCVjGaUCC",
        "outputId": "6b236940-98c7-4de3-848d-0c012a6803f6"
      },
      "source": [
        "# 3. Range\n",
        "# Finding the min and max values of the household_size\n",
        "household_size_max = df_with_account[\"household_size\"].max()\n",
        "household_size_min = df_with_account[\"household_size\"].min()\n",
        "\n",
        "# Calculating the range of the household_size\n",
        "household_size_max - household_size_min"
      ],
      "execution_count": 1275,
      "outputs": [
        {
          "output_type": "execute_result",
          "data": {
            "text/plain": [
              "17.0"
            ]
          },
          "metadata": {},
          "execution_count": 1275
        }
      ]
    },
    {
      "cell_type": "code",
      "metadata": {
        "id": "wWYtaoMja8RV",
        "colab": {
          "base_uri": "https://localhost:8080/"
        },
        "outputId": "dcfacd0a-7739-4a31-b963-df0f71ca0342"
      },
      "source": [
        "# Finding the min and max values of the respondent_age\n",
        "respondent_age_max = df_with_account[\"respondent_age\"].max()\n",
        "respondent_age_min = df_with_account[\"respondent_age\"].min()\n",
        "\n",
        "# Calculating the range of the respondent_age\n",
        "respondent_age_max - respondent_age_min"
      ],
      "execution_count": 1276,
      "outputs": [
        {
          "output_type": "execute_result",
          "data": {
            "text/plain": [
              "63.0"
            ]
          },
          "metadata": {},
          "execution_count": 1276
        }
      ]
    },
    {
      "cell_type": "code",
      "metadata": {
        "colab": {
          "base_uri": "https://localhost:8080/"
        },
        "id": "Hd_Lz_Dgemi1",
        "outputId": "fb5fcf5a-282f-45f8-c66f-e81cde2d6ccf"
      },
      "source": [
        "# 4. Quantiles\n",
        "\n",
        "# Finding the quantiles of the household_size\n",
        "df_with_account[\"household_size\"].quantile([0.25,0.5,0.75])"
      ],
      "execution_count": 1277,
      "outputs": [
        {
          "output_type": "execute_result",
          "data": {
            "text/plain": [
              "0.25    2.0\n",
              "0.50    3.0\n",
              "0.75    5.0\n",
              "Name: household_size, dtype: float64"
            ]
          },
          "metadata": {},
          "execution_count": 1277
        }
      ]
    },
    {
      "cell_type": "code",
      "metadata": {
        "colab": {
          "base_uri": "https://localhost:8080/"
        },
        "id": "mAXXsYN6fIZN",
        "outputId": "0a294cc9-4981-40d7-a208-2370562439d2"
      },
      "source": [
        "# Finding the quantiles of the respondent_age\n",
        "df_with_account[\"respondent_age\"].quantile([0.25,0.5,0.75])"
      ],
      "execution_count": 1278,
      "outputs": [
        {
          "output_type": "execute_result",
          "data": {
            "text/plain": [
              "0.25    29.0\n",
              "0.50    36.0\n",
              "0.75    47.0\n",
              "Name: respondent_age, dtype: float64"
            ]
          },
          "metadata": {},
          "execution_count": 1278
        }
      ]
    },
    {
      "cell_type": "code",
      "metadata": {
        "colab": {
          "base_uri": "https://localhost:8080/"
        },
        "id": "gp-zruppf1ei",
        "outputId": "cf9c0882-2f79-48e8-ab6f-f6e65a1a8095"
      },
      "source": [
        "# 5. Skewness\n",
        "# Determining the skewness of household_size\n",
        "df_with_account[\"household_size\"].skew()"
      ],
      "execution_count": 1279,
      "outputs": [
        {
          "output_type": "execute_result",
          "data": {
            "text/plain": [
              "0.9619964706097001"
            ]
          },
          "metadata": {},
          "execution_count": 1279
        }
      ]
    },
    {
      "cell_type": "code",
      "metadata": {
        "colab": {
          "base_uri": "https://localhost:8080/"
        },
        "id": "QpGjUOdSgUdA",
        "outputId": "a15dda72-0772-47fe-f1db-6050545f4eb5"
      },
      "source": [
        "# Determining the skewness of respondent_age\n",
        "df_with_account[\"respondent_age\"].skew()"
      ],
      "execution_count": 1280,
      "outputs": [
        {
          "output_type": "execute_result",
          "data": {
            "text/plain": [
              "0.7886370753621463"
            ]
          },
          "metadata": {},
          "execution_count": 1280
        }
      ]
    },
    {
      "cell_type": "code",
      "metadata": {
        "colab": {
          "base_uri": "https://localhost:8080/"
        },
        "id": "1qRa6Lg6g-Lk",
        "outputId": "938fca75-1d40-43d4-e3aa-6d9309b178cc"
      },
      "source": [
        "# 6. Kurtosis\n",
        "\n",
        "# Determining the kurtosis of household_size\n",
        "df_with_account[\"household_size\"].kurt()"
      ],
      "execution_count": 1281,
      "outputs": [
        {
          "output_type": "execute_result",
          "data": {
            "text/plain": [
              "1.2297181107126698"
            ]
          },
          "metadata": {},
          "execution_count": 1281
        }
      ]
    },
    {
      "cell_type": "code",
      "metadata": {
        "colab": {
          "base_uri": "https://localhost:8080/"
        },
        "id": "MwrWeaGKhR9l",
        "outputId": "60f65e31-dc1b-4ea3-d1bb-47780f980dfd"
      },
      "source": [
        "# Determining the kurtosis of respondent_age\n",
        "df_with_account[\"respondent_age\"].kurt()"
      ],
      "execution_count": 1282,
      "outputs": [
        {
          "output_type": "execute_result",
          "data": {
            "text/plain": [
              "-0.007077065590185505"
            ]
          },
          "metadata": {},
          "execution_count": 1282
        }
      ]
    },
    {
      "cell_type": "code",
      "metadata": {
        "colab": {
          "base_uri": "https://localhost:8080/"
        },
        "id": "fHBL3C3ehfCQ",
        "outputId": "b4c0615b-9861-4887-e71e-655d4a1deaf5"
      },
      "source": [
        "# Summary Statistics\n",
        "\n",
        "# Displaying the summary statistics of the household_size\n",
        "#\n",
        "df_with_account['household_size'].describe()"
      ],
      "execution_count": 1283,
      "outputs": [
        {
          "output_type": "execute_result",
          "data": {
            "text/plain": [
              "count    3280.000000\n",
              "mean        3.563110\n",
              "std         2.219637\n",
              "min         0.000000\n",
              "25%         2.000000\n",
              "50%         3.000000\n",
              "75%         5.000000\n",
              "max        17.000000\n",
              "Name: household_size, dtype: float64"
            ]
          },
          "metadata": {},
          "execution_count": 1283
        }
      ]
    },
    {
      "cell_type": "code",
      "metadata": {
        "colab": {
          "base_uri": "https://localhost:8080/"
        },
        "id": "I1zypKGXyVxu",
        "outputId": "3ca37203-8322-4ab3-b402-85287179a655"
      },
      "source": [
        "# Displaying the summary statistics of the respondent_age\n",
        "#\n",
        "df_with_account['respondent_age'].describe()"
      ],
      "execution_count": 1284,
      "outputs": [
        {
          "output_type": "execute_result",
          "data": {
            "text/plain": [
              "count    3280.000000\n",
              "mean       38.975305\n",
              "std        13.485662\n",
              "min        16.000000\n",
              "25%        29.000000\n",
              "50%        36.000000\n",
              "75%        47.000000\n",
              "max        79.000000\n",
              "Name: respondent_age, dtype: float64"
            ]
          },
          "metadata": {},
          "execution_count": 1284
        }
      ]
    },
    {
      "cell_type": "markdown",
      "metadata": {
        "id": "afjtZSs8ywWM"
      },
      "source": [
        "### 1.33 Visualisation Techniques"
      ]
    },
    {
      "cell_type": "markdown",
      "metadata": {
        "id": "8-7dxe-7y9pV"
      },
      "source": [
        "#### Box Plots"
      ]
    },
    {
      "cell_type": "code",
      "metadata": {
        "colab": {
          "base_uri": "https://localhost:8080/",
          "height": 355
        },
        "id": "mydKZ51qzEaB",
        "outputId": "696d01d1-2d7f-4934-d5b2-245451a2891e"
      },
      "source": [
        "# Creating the boxplot the household_size\n",
        "#\n",
        "sns.boxplot(df_with_account[\"household_size\"], showmeans=True)"
      ],
      "execution_count": 1285,
      "outputs": [
        {
          "output_type": "stream",
          "name": "stderr",
          "text": [
            "/usr/local/lib/python3.7/dist-packages/seaborn/_decorators.py:43: FutureWarning: Pass the following variable as a keyword arg: x. From version 0.12, the only valid positional argument will be `data`, and passing other arguments without an explicit keyword will result in an error or misinterpretation.\n",
            "  FutureWarning\n"
          ]
        },
        {
          "output_type": "execute_result",
          "data": {
            "text/plain": [
              "<matplotlib.axes._subplots.AxesSubplot at 0x7f6c9ccc45d0>"
            ]
          },
          "metadata": {},
          "execution_count": 1285
        },
        {
          "output_type": "display_data",
          "data": {
            "image/png": "[encoded data removed]",
            "text/plain": [
              "<Figure size 432x288 with 1 Axes>"
            ]
          },
          "metadata": {
            "needs_background": "light"
          }
        }
      ]
    },
    {
      "cell_type": "code",
      "metadata": {
        "colab": {
          "base_uri": "https://localhost:8080/",
          "height": 285
        },
        "id": "SRU4O47G0CME",
        "outputId": "cac9aade-5756-4d4c-ff00-fa9b5c5778da"
      },
      "source": [
        "# Creating the boxplot for respondent_age\n",
        "#\n",
        "df_with_account.boxplot([\"respondent_age\"])"
      ],
      "execution_count": 1286,
      "outputs": [
        {
          "output_type": "execute_result",
          "data": {
            "text/plain": [
              "<matplotlib.axes._subplots.AxesSubplot at 0x7f6c9da4e2d0>"
            ]
          },
          "metadata": {},
          "execution_count": 1286
        },
        {
          "output_type": "display_data",
          "data": {
            "image/png": "[encoded data removed]",
            "text/plain": [
              "<Figure size 432x288 with 1 Axes>"
            ]
          },
          "metadata": {
            "needs_background": "light"
          }
        }
      ]
    },
    {
      "cell_type": "markdown",
      "metadata": {
        "id": "tu3HSQGP0sV_"
      },
      "source": [
        "#### Histograms"
      ]
    },
    {
      "cell_type": "code",
      "metadata": {
        "colab": {
          "base_uri": "https://localhost:8080/",
          "height": 283
        },
        "id": "vu-zlwS31vVm",
        "outputId": "f0840a21-7034-46aa-c783-5dbe555893c2"
      },
      "source": [
        "# Plotting the histogram for household_size\n",
        "#\n",
        "df_with_account['household_size'].hist()"
      ],
      "execution_count": 1287,
      "outputs": [
        {
          "output_type": "execute_result",
          "data": {
            "text/plain": [
              "<matplotlib.axes._subplots.AxesSubplot at 0x7f6c9cdfbc50>"
            ]
          },
          "metadata": {},
          "execution_count": 1287
        },
        {
          "output_type": "display_data",
          "data": {
            "image/png": "[encoded data removed]",
            "text/plain": [
              "<Figure size 432x288 with 1 Axes>"
            ]
          },
          "metadata": {
            "needs_background": "light"
          }
        }
      ]
    },
    {
      "cell_type": "code",
      "metadata": {
        "colab": {
          "base_uri": "https://localhost:8080/",
          "height": 355
        },
        "id": "-RMPV0Tb1_wo",
        "outputId": "a4992558-deb5-409c-9507-bf540d9836ab"
      },
      "source": [
        "# Plotting the histogram for respondent_age\n",
        "#\n",
        "#df_with_account['respondent_age'].hist()\n",
        "sns.distplot(df_with_account['respondent_age'], kde=False, label='Respondent Age')"
      ],
      "execution_count": 1288,
      "outputs": [
        {
          "output_type": "stream",
          "name": "stderr",
          "text": [
            "/usr/local/lib/python3.7/dist-packages/seaborn/distributions.py:2557: FutureWarning: `distplot` is a deprecated function and will be removed in a future version. Please adapt your code to use either `displot` (a figure-level function with similar flexibility) or `histplot` (an axes-level function for histograms).\n",
            "  warnings.warn(msg, FutureWarning)\n"
          ]
        },
        {
          "output_type": "execute_result",
          "data": {
            "text/plain": [
              "<matplotlib.axes._subplots.AxesSubplot at 0x7f6c9cdcaa90>"
            ]
          },
          "metadata": {},
          "execution_count": 1288
        },
        {
          "output_type": "display_data",
          "data": {
            "image/png": "[encoded data removed]",
            "text/plain": [
              "<Figure size 432x288 with 1 Axes>"
            ]
          },
          "metadata": {
            "needs_background": "light"
          }
        }
      ]
    },
    {
      "cell_type": "markdown",
      "metadata": {
        "id": "IxxDHw3njAvz"
      },
      "source": [
        "# Bivariate Analysis"
      ]
    },
    {
      "cell_type": "markdown",
      "metadata": {
        "id": "zn7O4-xerBq-"
      },
      "source": [
        "## 1.0 Numerical and Numerical"
      ]
    },
    {
      "cell_type": "markdown",
      "metadata": {
        "id": "gaWDU9azrQfh"
      },
      "source": [
        "### 1.01 Scatter Plots"
      ]
    },
    {
      "cell_type": "code",
      "metadata": {
        "colab": {
          "base_uri": "https://localhost:8080/",
          "height": 296
        },
        "id": "nNGfnUAdr0Zr",
        "outputId": "e457839b-9f60-4e88-9d0c-e8592c2feaaa"
      },
      "source": [
        "# Using Pandas: Plotting our scatterplot to compare the variables\n",
        "df_with_account.plot(x = 'household_size', y = 'respondent_age', kind='scatter')\n",
        "\n",
        "# Giving our scatterplot a title\n",
        "plt.title('household_size vs respondent_age')\n",
        "\n",
        "# Labelling our x axis\n",
        "plt.xlabel('household_size')\n",
        "\n",
        "# Labelling our y axis\n",
        "plt.ylabel('respondent_age')\n",
        "\n",
        "# We then display our scatterplot as shown below\n",
        "# m, b = np.polyfit(x = 'household_size', y = 'respondent_age', 1)\n",
        "# plt.plot(x, m*x + b)\n",
        "plt.show()\n",
        "\n",
        "\n",
        "# The scatterplot graph shows that the variable diameter at breast is strongly correlated to the clearfell stampage fees.\n",
        "# This is because as the variable diameter increases the"
      ],
      "execution_count": 1289,
      "outputs": [
        {
          "output_type": "display_data",
          "data": {
            "image/png": "[encoded data removed]",
            "text/plain": [
              "<Figure size 432x288 with 1 Axes>"
            ]
          },
          "metadata": {
            "needs_background": "light"
          }
        }
      ]
    },
    {
      "cell_type": "markdown",
      "metadata": {
        "id": "l7Zpxh8NhAzi"
      },
      "source": [
        "### 1.02 Correlation"
      ]
    },
    {
      "cell_type": "code",
      "metadata": {
        "colab": {
          "base_uri": "https://localhost:8080/"
        },
        "id": "t3ZNf6oO6gNE",
        "outputId": "676ce930-324f-4d10-b895-0ce4f79f8b61"
      },
      "source": [
        "# Determine the relationship between the household_size and respondent_age \n",
        "# by determining the correlation coeffient.\n",
        "# Calculating the pearson coefficient\n",
        "pearson_coeff = df_with_account[\"household_size\"].corr(df_with_account[\"respondent_age\"], method=\"pearson\") \n",
        "print(pearson_coeff)\n",
        "\n",
        "# Checking whether you have to define the pearson\n",
        "coeff = df_with_account[\"household_size\"].corr(df_with_account[\"respondent_age\"]) \n",
        "print(coeff)\n",
        "# Since the correlation coefficent of household_size and respondent_age is 0.042, \n",
        "# this means that household_size and respondent_age are weakly correlated."
      ],
      "execution_count": 1290,
      "outputs": [
        {
          "output_type": "stream",
          "name": "stdout",
          "text": [
            "0.04234907083048931\n",
            "0.04234907083048931\n"
          ]
        }
      ]
    },
    {
      "cell_type": "markdown",
      "metadata": {
        "id": "kO24vO5e-MIB"
      },
      "source": [
        "### 1.1 Categorical and Categorical"
      ]
    },
    {
      "cell_type": "markdown",
      "metadata": {
        "id": "bE2UY4Ul--AQ"
      },
      "source": [
        "#### 1.11 Stacked Column Chart"
      ]
    },
    {
      "cell_type": "code",
      "metadata": {
        "id": "QSJIY2zkRgK7"
      },
      "source": [
        "def location(item):\n",
        "  country = df_with_account['country'] == item\n",
        "  if item:\n",
        " # type of location   \n",
        "    #return df_with_account[country].type_of_location.value_counts()\n",
        "# cell phone access\n",
        "    return df_with_account[country].cell_phone_access.value_counts()\n",
        "# gender of respondent\n",
        "    #return df_with_account[country].gender_of_respondent.value_counts()\n",
        "# relationship with head\n",
        "    #return df_with_account[country].the_relationship_with_head.value_counts()\n",
        "# marital status\n",
        "    #return df_with_account[country].marital_status.value_counts()\n",
        "# level of education\n",
        "    #return df_with_account[country].level_of_education.value_counts()\n",
        "# type of job\n",
        "    #return df_with_account[country].type_of_job.value_counts()\n",
        "\n"
      ],
      "execution_count": 1291,
      "outputs": []
    },
    {
      "cell_type": "code",
      "metadata": {
        "colab": {
          "base_uri": "https://localhost:8080/"
        },
        "id": "I_sYqOkzXmk2",
        "outputId": "acbb42a9-aa3d-43d7-df8f-29c69c688417"
      },
      "source": [
        "location('Kenya')"
      ],
      "execution_count": 1292,
      "outputs": [
        {
          "output_type": "execute_result",
          "data": {
            "text/plain": [
              "Yes    1443\n",
              "No       47\n",
              "Name: cell_phone_access, dtype: int64"
            ]
          },
          "metadata": {},
          "execution_count": 1292
        }
      ]
    },
    {
      "cell_type": "code",
      "metadata": {
        "colab": {
          "base_uri": "https://localhost:8080/"
        },
        "id": "ExmIu8KwYHVI",
        "outputId": "0579df9b-8edb-451f-9c43-2c863584d550"
      },
      "source": [
        "location('Rwanda')"
      ],
      "execution_count": 1293,
      "outputs": [
        {
          "output_type": "execute_result",
          "data": {
            "text/plain": [
              "Yes    977\n",
              "No      16\n",
              "Name: cell_phone_access, dtype: int64"
            ]
          },
          "metadata": {},
          "execution_count": 1293
        }
      ]
    },
    {
      "cell_type": "code",
      "metadata": {
        "colab": {
          "base_uri": "https://localhost:8080/"
        },
        "id": "kLLE7CCDYQf_",
        "outputId": "26c6d9e7-a528-4918-9c28-f4869bb678c7"
      },
      "source": [
        "location('Tanzania')"
      ],
      "execution_count": 1294,
      "outputs": [
        {
          "output_type": "execute_result",
          "data": {
            "text/plain": [
              "Yes    596\n",
              "No      20\n",
              "Name: cell_phone_access, dtype: int64"
            ]
          },
          "metadata": {},
          "execution_count": 1294
        }
      ]
    },
    {
      "cell_type": "code",
      "metadata": {
        "colab": {
          "base_uri": "https://localhost:8080/"
        },
        "id": "aJXh4ciPYlR4",
        "outputId": "2c3b8af0-0b51-46dd-a523-22df2cfb140a"
      },
      "source": [
        "location('Uganda')"
      ],
      "execution_count": 1295,
      "outputs": [
        {
          "output_type": "execute_result",
          "data": {
            "text/plain": [
              "Yes    171\n",
              "No      10\n",
              "Name: cell_phone_access, dtype: int64"
            ]
          },
          "metadata": {},
          "execution_count": 1295
        }
      ]
    },
    {
      "cell_type": "code",
      "metadata": {
        "colab": {
          "base_uri": "https://localhost:8080/",
          "height": 295
        },
        "id": "zWf2KDDuZRCr",
        "outputId": "bcc5ab2c-cf71-4ef5-e75f-c3730a1e13f6"
      },
      "source": [
        "# In this example, we will first create a stacked column chart from an array and numpy arrays \n",
        "# \n",
        "countries = ['Kenya', 'Rwanda', 'Tanzania', 'Uganda']\n",
        "Urban   = np.array([907,385,239,117])\n",
        "Rural   = np.array([614,618,381,64])\n",
        "\n",
        "\n",
        "X = [country for country in countries]\n",
        "\n",
        "# We stack the silver medal bars on top of the bronze medals bars and similarly gold medal bar on top\n",
        "# by passing the parameter bottom in the plt.bar () as shown below\n",
        "# \n",
        "plt.bar(X, Rural, width=0.6, label='Rural', color='gold', bottom=Urban)\n",
        "plt.bar(X, Urban, width=0.6, label='Urban', color='silver')\n",
        "\n",
        "\n",
        "# labeling our y axis\n",
        "plt.ylabel(\"Type of Location\")\n",
        "\n",
        "# Labeling our x axis\n",
        "plt.xlabel(\"Countries\")\n",
        "\n",
        "# Creating a key/legend for our chart\n",
        "plt.legend(loc=\"upper right\")\n",
        "\n",
        "# Adding a title\n",
        "plt.title(\"Rural-Urban Distribution of people with Bank Accounts\")\n",
        "\n",
        "# Displaying our chart\n",
        "plt.show()"
      ],
      "execution_count": 1296,
      "outputs": [
        {
          "output_type": "display_data",
          "data": {
            "image/png": "[encoded data removed]",
            "text/plain": [
              "<Figure size 432x288 with 1 Axes>"
            ]
          },
          "metadata": {
            "needs_background": "light"
          }
        }
      ]
    },
    {
      "cell_type": "code",
      "metadata": {
        "colab": {
          "base_uri": "https://localhost:8080/",
          "height": 295
        },
        "id": "3sXCYHwEtG7b",
        "outputId": "a6998e24-9cb7-45d6-e049-8b3c3264fb55"
      },
      "source": [
        "# In this example, we will first create a stacked column chart from an array and numpy arrays \n",
        "# \n",
        "countries = ['Kenya', 'Rwanda', 'Tanzania', 'Uganda']\n",
        "Yes   = np.array([1459,984,600,171])\n",
        "No   = np.array([62,19,20,10])\n",
        "\n",
        "\n",
        "X = [country for country in countries]\n",
        "\n",
        "# We stack the silver medal bars on top of the bronze medals bars and similarly gold medal bar on top\n",
        "# by passing the parameter bottom in the plt.bar () as shown below\n",
        "# \n",
        "plt.bar(X, No, width=0.6, label='No', color='gold', bottom=Yes)\n",
        "plt.bar(X, Yes, width=0.6, label='Yes', color='blue')\n",
        "\n",
        "\n",
        "# labeling our y axis\n",
        "plt.ylabel(\"Cell Phone Access\")\n",
        "\n",
        "# Labeling our x axis\n",
        "plt.xlabel(\"Countries\")\n",
        "\n",
        "# Creating a key/legend for our chart\n",
        "plt.legend(loc=\"upper right\")\n",
        "\n",
        "# Adding a title\n",
        "plt.title(\"Cell Phone Access for people with Bank Accounts\")\n",
        "\n",
        "# Displaying our chart\n",
        "plt.show()"
      ],
      "execution_count": 1297,
      "outputs": [
        {
          "output_type": "display_data",
          "data": {
            "image/png": "[encoded data removed]",
            "text/plain": [
              "<Figure size 432x288 with 1 Axes>"
            ]
          },
          "metadata": {
            "needs_background": "light"
          }
        }
      ]
    },
    {
      "cell_type": "code",
      "metadata": {
        "colab": {
          "base_uri": "https://localhost:8080/",
          "height": 295
        },
        "id": "9H_sR4M-tVsB",
        "outputId": "5b8ad77a-8b41-43b9-a672-1ce0702a4596"
      },
      "source": [
        "# In this example, we will first create a stacked column chart from an array and numpy arrays \n",
        "# \n",
        "countries = ['Kenya', 'Rwanda', 'Tanzania', 'Uganda']\n",
        "Male  = np.array([820,557,370,84])\n",
        "Female   = np.array([701,446,250,97])\n",
        "\n",
        "\n",
        "X = [country for country in countries]\n",
        "\n",
        "# We stack the silver medal bars on top of the bronze medals bars and similarly gold medal bar on top\n",
        "# by passing the parameter bottom in the plt.bar () as shown below\n",
        "# \n",
        "plt.bar(X, Male, width=0.6, label='Male', color='silver', bottom=Female)\n",
        "plt.bar(X, Female, width=0.6, label='Female', color='Brown')\n",
        "\n",
        "\n",
        "# labeling our y axis\n",
        "plt.ylabel(\"Gender of Respondent\")\n",
        "\n",
        "# Labeling our x axis\n",
        "plt.xlabel(\"Countries\")\n",
        "\n",
        "# Creating a key/legend for our chart\n",
        "plt.legend(loc=\"upper right\")\n",
        "\n",
        "# Adding a title\n",
        "plt.title(\"Gender of Respondents with Bank Accounts\")\n",
        "\n",
        "# Displaying our chart\n",
        "plt.show()"
      ],
      "execution_count": 1298,
      "outputs": [
        {
          "output_type": "display_data",
          "data": {
            "image/png": "[encoded data removed]",
            "text/plain": [
              "<Figure size 432x288 with 1 Axes>"
            ]
          },
          "metadata": {
            "needs_background": "light"
          }
        }
      ]
    },
    {
      "cell_type": "code",
      "metadata": {
        "colab": {
          "base_uri": "https://localhost:8080/",
          "height": 313
        },
        "id": "7orWiRQQtWiq",
        "outputId": "295eed8a-7523-4bf7-c22a-7e7778690c27"
      },
      "source": [
        "# In this example, we will first create a stacked column chart from an array and numpy arrays \n",
        "# \n",
        "countries = ['Kenya', 'Rwanda', 'Tanzania', 'Uganda']\n",
        "head_of_household   = np.array([1083,611,474,109])\n",
        "spouse   = np.array([304,268,90,39])\n",
        "child = np.array([90,89,11,3])\n",
        "parent = np.array([4,20,25,18])\n",
        "other_relative = np.array([34,5,15,12])\n",
        "other_non_relative = np.array([6,10,5,0])\n",
        "\n",
        "X = [country for country in countries]\n",
        "\n",
        "# We stack the silver medal bars on top of the bronze medals bars and similarly gold medal bar on top\n",
        "# by passing the parameter bottom in the plt.bar () as shown below\n",
        "# \n",
        "plt.bar(X, other_non_relative, width=0.6, label='other_non_relative', color='yellow', bottom=other_relative+parent+child+spouse+head_of_household)\n",
        "plt.bar(X, other_relative, width=0.6, label='non_relative', color='blue', bottom=parent+child+spouse+head_of_household)\n",
        "plt.bar(X, parent, width=0.6, label='parent', color='brown', bottom=child+spouse+head_of_household)\n",
        "plt.bar(X, child, width=0.6, label='child', color='gold', bottom=spouse+head_of_household)\n",
        "plt.bar(X, spouse, width=0.6, label='spouse', color='silver', bottom=head_of_household)\n",
        "plt.bar(X, head_of_household, width=0.6, label='head_of_household', color='silver')\n",
        "\n",
        "\n",
        "# labeling our y axis\n",
        "plt.ylabel(\"Relationship to Household\")\n",
        "\n",
        "# Labeling our x axis\n",
        "plt.xlabel(\"Countries\")\n",
        "\n",
        "# Creating a key/legend for our chart\n",
        "plt.legend(loc=\"upper right\")\n",
        "\n",
        "# Adding a title\n",
        "plt.title(\"Relationship with the Household of people with Bank Accounts\")\n",
        "\n",
        "# Displaying our chartlt.show()"
      ],
      "execution_count": 1299,
      "outputs": [
        {
          "output_type": "execute_result",
          "data": {
            "text/plain": [
              "Text(0.5, 1.0, 'Relationship with the Household of people with Bank Accounts')"
            ]
          },
          "metadata": {},
          "execution_count": 1299
        },
        {
          "output_type": "display_data",
          "data": {
            "image/png": "[encoded data removed]",
            "text/plain": [
              "<Figure size 432x288 with 1 Axes>"
            ]
          },
          "metadata": {
            "needs_background": "light"
          }
        }
      ]
    },
    {
      "cell_type": "code",
      "metadata": {
        "colab": {
          "base_uri": "https://localhost:8080/",
          "height": 295
        },
        "id": "hyqYnqEMtXYV",
        "outputId": "7b5f9ec9-28d2-432b-d926-ca737d06df23"
      },
      "source": [
        "# In this example, we will first create a stacked column chart from an array and numpy arrays \n",
        "# \n",
        "countries = ['Kenya', 'Rwanda', 'Tanzania', 'Uganda']\n",
        "Married_Living_together   = np.array([999,713,41,113])\n",
        "Single_Never_Married   = np.array([326,178,426,44])\n",
        "Widowed = np.array([132,75,30,9])\n",
        "Divorced_Separated = np.array([62,37,123,15])\n",
        "Dont_know = np.array([2,0,0,0])\n",
        "\n",
        "\n",
        "X = [country for country in countries]\n",
        "\n",
        "# We stack the silver medal bars on top of the bronze medals bars and similarly gold medal bar on top\n",
        "# by passing the parameter bottom in the plt.bar () as shown below\n",
        "# \n",
        "plt.bar(X, Dont_know, width=0.6, label='Dont_know', color='gold', bottom=Divorced_Separated+Widowed+Single_Never_Married+Married_Living_together)\n",
        "plt.bar(X, Divorced_Separated, width=0.6, label='Divorced_Separated', color='brown',bottom=Widowed+Single_Never_Married+Married_Living_together)\n",
        "plt.bar(X, Single_Never_Married, width=0.6, label='Single_Never_Married', color='orange',bottom=Single_Never_Married+Married_Living_together)\n",
        "plt.bar(X, Married_Living_together, width=0.6, label='Married_Living_together', color='purple')\n",
        "\n",
        "# labeling our y axis\n",
        "plt.ylabel(\"Marital Status\")\n",
        "\n",
        "# Labeling our x axis\n",
        "plt.xlabel(\"Countries\")\n",
        "\n",
        "# Creating a key/legend for our chart\n",
        "plt.legend(loc=\"upper right\")\n",
        "\n",
        "# Adding a title\n",
        "plt.title(\"Marital Status  of people with Bank Accounts\")\n",
        "\n",
        "# Displaying our chart\n",
        "plt.show()"
      ],
      "execution_count": 1300,
      "outputs": [
        {
          "output_type": "display_data",
          "data": {
            "image/png": "[encoded data removed]",
            "text/plain": [
              "<Figure size 432x288 with 1 Axes>"
            ]
          },
          "metadata": {
            "needs_background": "light"
          }
        }
      ]
    },
    {
      "cell_type": "code",
      "metadata": {
        "colab": {
          "base_uri": "https://localhost:8080/",
          "height": 295
        },
        "id": "xmmArgFptYRS",
        "outputId": "27e31e81-3f82-4a4b-c49e-c7ffcf6ffde7"
      },
      "source": [
        "# In this example, we will first create a stacked column chart from an array and numpy arrays \n",
        "# \n",
        "countries = ['Kenya', 'Rwanda', 'Tanzania', 'Uganda']\n",
        "\n",
        "tertiary   = np.array([218,136,213,25])\n",
        "vocational  = np.array([265,21,125,47])\n",
        "secondary  = np.array([548,331,38,67])\n",
        "primary  = np.array([403,433,223,38])\n",
        "no_informal  = np.array([81,78,20,4])\n",
        "other  = np.array([6,4,1,0])\n",
        "six = np.array([0,4,1,0])\n",
        "\n",
        "X = [country for country in countries]\n",
        "\n",
        "# We stack the silver medal bars on top of the bronze medals bars and similarly gold medal bar on top\n",
        "# by passing the parameter bottom in the plt.bar () as shown below\n",
        "# \n",
        "plt.bar(X, six, width=0.6, label='six', color='cyan', bottom=other+no_informal+primary+secondary+vocational+tertiary)\n",
        "plt.bar(X, other, width=0.6, label='other', color='gold', bottom=no_informal+primary+secondary+vocational+tertiary)\n",
        "plt.bar(X, no_informal, width=0.6, label='no_informal', color='silver', bottom=primary+secondary+vocational+tertiary)\n",
        "plt.bar(X, primary, width=0.6, label='primary', color='green', bottom=secondary+vocational+tertiary)\n",
        "plt.bar(X, secondary, width=0.6, label='secondary', color='brown', bottom=vocational+tertiary)\n",
        "plt.bar(X, vocational, width=0.6, label='vocational', color='blue', bottom=vocational)\n",
        "plt.bar(X, tertiary, width=0.6, label='tertiary', color='maroon')\n",
        "\n",
        "\n",
        "# labeling our y axis\n",
        "plt.ylabel(\"Level of Education\")\n",
        "\n",
        "# Labeling our x axis\n",
        "plt.xlabel(\"Countries\")\n",
        "\n",
        "# Creating a key/legend for our chart\n",
        "plt.legend(loc=\"upper right\")\n",
        "\n",
        "# Adding a title\n",
        "plt.title(\"Level of Education of people with Bank Accounts\")\n",
        "\n",
        "# Displaying our chart\n",
        "plt.show()"
      ],
      "execution_count": 1301,
      "outputs": [
        {
          "output_type": "display_data",
          "data": {
            "image/png": "[encoded data removed]",
            "text/plain": [
              "<Figure size 432x288 with 1 Axes>"
            ]
          },
          "metadata": {
            "needs_background": "light"
          }
        }
      ]
    },
    {
      "cell_type": "code",
      "metadata": {
        "colab": {
          "base_uri": "https://localhost:8080/",
          "height": 295
        },
        "id": "JboW9lDutY6_",
        "outputId": "30a97072-800a-40ca-c001-97559f5cde81"
      },
      "source": [
        "# In this example, we will first create a stacked column chart from an array and numpy arrays \n",
        "# \n",
        "countries = ['Kenya', 'Rwanda', 'Tanzania', 'Uganda']\n",
        "formal_employed_gov   = np.array([216,84,0,0])\n",
        "formal_employed_priv   = np.array([225,56,237,54])\n",
        "self_employed   = np.array([364,182,240,68])\n",
        "gov_dependent   = np.array([19,7,23,3])\n",
        "remm_dependent   = np.array([137,69,35,0])\n",
        "informal_employed   = np.array([186,191,69,0])\n",
        "farming_fishing   = np.array([310,324,0,0])\n",
        "other_income   = np.array([63,82,46,46])\n",
        "no_income  = np.array([0,0,11,5])\n",
        "dont_know  = np.array([1,8,0,5])\n",
        "\n",
        "\n",
        "X = [country for country in countries]\n",
        "\n",
        "# We stack the silver medal bars on top of the bronze medals bars and similarly gold medal bar on top\n",
        "# by passing the parameter bottom in the plt.bar () as shown below\n",
        "# \n",
        "plt.bar(X, dont_know, width=0.6, label='dont_know', color='gold', bottom=no_income+other_income+farming_fishing+informal_employed+remm_dependent+gov_dependent+self_employed+formal_employed_priv+formal_employed_gov)\n",
        "plt.bar(X, no_income, width=0.6, label='no_income', color='silver', bottom=other_income+farming_fishing+informal_employed+remm_dependent+gov_dependent+self_employed+formal_employed_priv+formal_employed_gov)\n",
        "plt.bar(X, other_income, width=0.6, label='other_income', color='maroon', bottom=farming_fishing+informal_employed+remm_dependent+gov_dependent+self_employed+formal_employed_priv+formal_employed_gov)\n",
        "plt.bar(X, farming_fishing, width=0.6, label='farming_fishing', color='green', bottom=informal_employed+remm_dependent+gov_dependent+self_employed+formal_employed_priv+formal_employed_gov)\n",
        "plt.bar(X, informal_employed, width=0.6, label='informal_employed', color='brown', bottom=remm_dependent+gov_dependent+self_employed+formal_employed_priv+formal_employed_gov)\n",
        "plt.bar(X, remm_dependent, width=0.6, label='remm_dependent', color='yellow', bottom=gov_dependent+self_employed+formal_employed_priv+formal_employed_gov)\n",
        "plt.bar(X, gov_dependent, width=0.6, label='gov_dependent', color='red', bottom=self_employed+formal_employed_priv+formal_employed_gov)\n",
        "plt.bar(X, formal_employed_gov, width=0.6, label='formal_employed_gov', color='cyan', bottom=formal_employed_priv+formal_employed_gov)\n",
        "plt.bar(X, formal_employed_priv, width=0.6, label='formal_employed_priv', color='gray', bottom=formal_employed_gov)\n",
        "plt.bar(X, formal_employed_gov, width=0.6, label='formal_employed_gov', color='indigo')\n",
        "\n",
        "# labeling our y axis\n",
        "plt.ylabel(\"Type of Job\")\n",
        "\n",
        "# Labeling our x axis\n",
        "plt.xlabel(\"Countries\")\n",
        "\n",
        "# Creating a key/legend for our chart\n",
        "plt.legend(loc=\"upper right\")\n",
        "\n",
        "# Adding a title\n",
        "plt.title(\"Type of Job for people with Bank Accounts\")\n",
        "\n",
        "# Displaying our chart\n",
        "plt.show()"
      ],
      "execution_count": 1302,
      "outputs": [
        {
          "output_type": "display_data",
          "data": {
            "image/png": "[encoded data removed]",
            "text/plain": [
              "<Figure size 432x288 with 1 Axes>"
            ]
          },
          "metadata": {
            "needs_background": "light"
          }
        }
      ]
    },
    {
      "cell_type": "markdown",
      "metadata": {
        "id": "2hT-f_xFFjVv"
      },
      "source": [
        "### 1.2 Categorical and Numerical"
      ]
    },
    {
      "cell_type": "markdown",
      "metadata": {
        "id": "ffo247sR2DCr"
      },
      "source": [
        "### 1.21 Line Charts"
      ]
    },
    {
      "cell_type": "code",
      "metadata": {
        "colab": {
          "base_uri": "https://localhost:8080/",
          "height": 300
        },
        "id": "U-5yJ9jN2Lb4",
        "outputId": "253f612e-1b33-4a00-fbb3-192afef8d7ce"
      },
      "source": [
        "# Plotting a graph of household_size \n",
        "# ---\n",
        "#\n",
        "\n",
        "\n",
        "# Drawing our line graph\n",
        "fill_null[[\"household_size\"]].plot()\n",
        "# Giving a title to our line graph\n",
        "plt.title(\"Number of households per house\", fontsize=14, y=1.015)\n",
        "\n",
        "# Labelling the y-axis\n",
        "plt.ylabel('households')\n",
        "\n",
        "# Labelling the x-axis\n",
        "plt.xlabel('Points')\n",
        "\n",
        "# Displaying our graph\n",
        "plt.show()"
      ],
      "execution_count": 1303,
      "outputs": [
        {
          "output_type": "display_data",
          "data": {
            "image/png": "[encoded data removed]",
            "text/plain": [
              "<Figure size 432x288 with 1 Axes>"
            ]
          },
          "metadata": {
            "needs_background": "light"
          }
        }
      ]
    },
    {
      "cell_type": "markdown",
      "metadata": {
        "id": "x555uKsLcgL-"
      },
      "source": [
        "### 1.22 Z-Score"
      ]
    },
    {
      "cell_type": "code",
      "metadata": {
        "colab": {
          "base_uri": "https://localhost:8080/"
        },
        "id": "gMaCmc3dbu2B",
        "outputId": "8e479325-8baa-4f9c-b0f2-38aa624d69ba"
      },
      "source": [
        "# Calculating the z - score for household_size\n",
        "# ---\n",
        "#\n",
        "from scipy import stats\n",
        "\n",
        "a=fill_null['household_size']\n",
        "stats.zscore(a)"
      ],
      "execution_count": 1304,
      "outputs": [
        {
          "output_type": "execute_result",
          "data": {
            "text/plain": [
              "array([-0.30927335,  0.56652953,  0.56652953, ...,  0.56652953,\n",
              "        1.44233241,  2.75603672])"
            ]
          },
          "metadata": {},
          "execution_count": 1304
        }
      ]
    },
    {
      "cell_type": "code",
      "metadata": {
        "colab": {
          "base_uri": "https://localhost:8080/"
        },
        "id": "DDHtqaeCcIkS",
        "outputId": "040a1db0-a5b0-4c26-f65c-32de6cca37bf"
      },
      "source": [
        "# Calculating the z - score for respondent_age\n",
        "# ---\n",
        "#\n",
        "from scipy import stats\n",
        "\n",
        "a = fill_null['respondent_age']\n",
        "stats.zscore(a)"
      ],
      "execution_count": 1305,
      "outputs": [
        {
          "output_type": "execute_result",
          "data": {
            "text/plain": [
              "array([-0.90656508,  2.09974279, -0.77585604, ..., -0.71050152,\n",
              "       -0.51443796, -1.16798315])"
            ]
          },
          "metadata": {},
          "execution_count": 1305
        }
      ]
    },
    {
      "cell_type": "markdown",
      "metadata": {
        "id": "mIT8Qio1S7HH"
      },
      "source": [
        "# Multivariate Analysis"
      ]
    },
    {
      "cell_type": "code",
      "metadata": {
        "id": "kpKosXiXlRo9"
      },
      "source": [
        "# Converting Categorical Variables to Numeric Variables\n",
        "\n",
        "# 1. converting 'gender_of_respondent' column from 'Male' 'Female' to '1' '2'\n",
        "gender = {'Male':1, 'Female':2}\n",
        "fill_null['gender_of_respondent']=fill_null['gender_of_respondent'].map(gender)\n",
        "\n"
      ],
      "execution_count": 1306,
      "outputs": []
    },
    {
      "cell_type": "code",
      "metadata": {
        "id": "toqoyZtywIuq"
      },
      "source": [
        "# 2. converting 'type_of_location' column to numerical data\n",
        "r_location  = {'Urban':1, 'Rural':2}\n",
        "fill_null['type_of_location']=fill_null['type_of_location'].map(r_location)"
      ],
      "execution_count": 1307,
      "outputs": []
    },
    {
      "cell_type": "code",
      "metadata": {
        "id": "z0Q4wAuxwZXS"
      },
      "source": [
        "# 3. converting 'cell_phone_access' column to numerical data\n",
        "cellphone = {'Yes':1, 'No':2}\n",
        "fill_null['cell_phone_access']=fill_null['cell_phone_access'].map(cellphone)"
      ],
      "execution_count": 1308,
      "outputs": []
    },
    {
      "cell_type": "code",
      "metadata": {
        "id": "TajSIxKbwm4Q"
      },
      "source": [
        "# 4. converting 'the_relationship_with_head' column to numerical data\n",
        "relationship = {'Head of Household':1, 'Spouse':2, 'Child':3, 'Parent':4, 'Other relative': 5, 'Other non-relative':6}\n",
        "fill_null['the_relationship_with_head']=fill_null['the_relationship_with_head'].map(relationship)"
      ],
      "execution_count": 1309,
      "outputs": []
    },
    {
      "cell_type": "code",
      "metadata": {
        "id": "4poHAUiPw0Rh"
      },
      "source": [
        "# 5. converting 'marital_status' column to numerical data\n",
        "status = {'Married/Living together':1, 'Single/Never Married':2, 'Widowed':3, 'Divorced/Separated':4, 'Dont know':5}\n",
        "fill_null['marital_status']=fill_null['marital_status'].map(status)\n"
      ],
      "execution_count": 1310,
      "outputs": []
    },
    {
      "cell_type": "code",
      "metadata": {
        "id": "-4-TfFSRw-7r"
      },
      "source": [
        "# 6. converting 'level_of_education' column to numerical data\n",
        "education = {'Tertiary edication':1, 'Vocational/Specialised training':2, 'Secondary education':3, 'Primary education':4, 'No formal education':5, 'Other/Dont Know/RTA':6}\n",
        "fill_null['level_of_education']=fill_null['level_of_education'].map(education)\n"
      ],
      "execution_count": 1311,
      "outputs": []
    },
    {
      "cell_type": "code",
      "metadata": {
        "id": "FlPJxvUBxDMK"
      },
      "source": [
        "# 7. converting 'type_of_job' column to numerical data\n",
        "job = {'Formally employed Government':1, 'Formally employed Private':2, 'Self employed':3, 'Govenrment Dependent':4, 'Remmitance Dependent':5, 'Informally employed':6, 'Farming and Fishing':7, 'Other Income':8, 'No Income':9, 'Dont know/Refuse to Answer':10}\n",
        "fill_null['type_of_job']=fill_null['type_of_job'].map(job)"
      ],
      "execution_count": 1312,
      "outputs": []
    },
    {
      "cell_type": "code",
      "metadata": {
        "id": "J5I8rCbBCX6N"
      },
      "source": [
        "# 8. converting 'country' column to numerical data\n",
        "country = {'Kenya':1, 'Rwanda':2, 'Tanzania':3, 'Uganda':4}\n",
        "fill_null['country']=fill_null['country'].map(country)"
      ],
      "execution_count": 1313,
      "outputs": []
    },
    {
      "cell_type": "code",
      "metadata": {
        "id": "9iRBTcPdIQci"
      },
      "source": [
        "# 9. converting 'has_a_bank_account' column to numerical data\n",
        "account = {'Yes':1, 'No':2}\n",
        "fill_null['has_a_bank_account']=fill_null['has_a_bank_account'].map(account)"
      ],
      "execution_count": 1314,
      "outputs": []
    },
    {
      "cell_type": "code",
      "metadata": {
        "colab": {
          "base_uri": "https://localhost:8080/",
          "height": 442
        },
        "id": "XKW2u5I2l0mn",
        "outputId": "e2294b79-23ac-49ba-c586-67034714884e"
      },
      "source": [
        "# Previewing our new dataset\n",
        "fill_null"
      ],
      "execution_count": 1315,
      "outputs": [
        {
          "output_type": "execute_result",
          "data": {
            "text/html": [
              "<div>\n",
              "<style scoped>\n",
              "    .dataframe tbody tr th:only-of-type {\n",
              "        vertical-align: middle;\n",
              "    }\n",
              "\n",
              "    .dataframe tbody tr th {\n",
              "        vertical-align: top;\n",
              "    }\n",
              "\n",
              "    .dataframe thead th {\n",
              "        text-align: right;\n",
              "    }\n",
              "</style>\n",
              "<table border=\"1\" class=\"dataframe\">\n",
              "  <thead>\n",
              "    <tr style=\"text-align: right;\">\n",
              "      <th></th>\n",
              "      <th>country</th>\n",
              "      <th>year</th>\n",
              "      <th>uniqueid</th>\n",
              "      <th>has_a_bank_account</th>\n",
              "      <th>type_of_location</th>\n",
              "      <th>cell_phone_access</th>\n",
              "      <th>household_size</th>\n",
              "      <th>respondent_age</th>\n",
              "      <th>gender_of_respondent</th>\n",
              "      <th>the_relationship_with_head</th>\n",
              "      <th>marital_status</th>\n",
              "      <th>level_of_education</th>\n",
              "      <th>type_of_job</th>\n",
              "    </tr>\n",
              "  </thead>\n",
              "  <tbody>\n",
              "    <tr>\n",
              "      <th>0</th>\n",
              "      <td>1</td>\n",
              "      <td>2018</td>\n",
              "      <td>uniqueid_1</td>\n",
              "      <td>1</td>\n",
              "      <td>2</td>\n",
              "      <td>1</td>\n",
              "      <td>3.0</td>\n",
              "      <td>24.0</td>\n",
              "      <td>2</td>\n",
              "      <td>2.0</td>\n",
              "      <td>1.0</td>\n",
              "      <td>3.0</td>\n",
              "      <td>3.0</td>\n",
              "    </tr>\n",
              "    <tr>\n",
              "      <th>1</th>\n",
              "      <td>1</td>\n",
              "      <td>2018</td>\n",
              "      <td>uniqueid_2</td>\n",
              "      <td>2</td>\n",
              "      <td>2</td>\n",
              "      <td>2</td>\n",
              "      <td>5.0</td>\n",
              "      <td>70.0</td>\n",
              "      <td>2</td>\n",
              "      <td>1.0</td>\n",
              "      <td>3.0</td>\n",
              "      <td>5.0</td>\n",
              "      <td>NaN</td>\n",
              "    </tr>\n",
              "    <tr>\n",
              "      <th>2</th>\n",
              "      <td>1</td>\n",
              "      <td>2018</td>\n",
              "      <td>uniqueid_3</td>\n",
              "      <td>1</td>\n",
              "      <td>1</td>\n",
              "      <td>1</td>\n",
              "      <td>5.0</td>\n",
              "      <td>26.0</td>\n",
              "      <td>1</td>\n",
              "      <td>5.0</td>\n",
              "      <td>2.0</td>\n",
              "      <td>2.0</td>\n",
              "      <td>3.0</td>\n",
              "    </tr>\n",
              "    <tr>\n",
              "      <th>3</th>\n",
              "      <td>1</td>\n",
              "      <td>2018</td>\n",
              "      <td>uniqueid_4</td>\n",
              "      <td>2</td>\n",
              "      <td>2</td>\n",
              "      <td>1</td>\n",
              "      <td>5.0</td>\n",
              "      <td>34.0</td>\n",
              "      <td>2</td>\n",
              "      <td>1.0</td>\n",
              "      <td>1.0</td>\n",
              "      <td>4.0</td>\n",
              "      <td>2.0</td>\n",
              "    </tr>\n",
              "    <tr>\n",
              "      <th>4</th>\n",
              "      <td>1</td>\n",
              "      <td>2018</td>\n",
              "      <td>uniqueid_5</td>\n",
              "      <td>2</td>\n",
              "      <td>1</td>\n",
              "      <td>2</td>\n",
              "      <td>8.0</td>\n",
              "      <td>26.0</td>\n",
              "      <td>1</td>\n",
              "      <td>3.0</td>\n",
              "      <td>2.0</td>\n",
              "      <td>4.0</td>\n",
              "      <td>6.0</td>\n",
              "    </tr>\n",
              "    <tr>\n",
              "      <th>...</th>\n",
              "      <td>...</td>\n",
              "      <td>...</td>\n",
              "      <td>...</td>\n",
              "      <td>...</td>\n",
              "      <td>...</td>\n",
              "      <td>...</td>\n",
              "      <td>...</td>\n",
              "      <td>...</td>\n",
              "      <td>...</td>\n",
              "      <td>...</td>\n",
              "      <td>...</td>\n",
              "      <td>...</td>\n",
              "      <td>...</td>\n",
              "    </tr>\n",
              "    <tr>\n",
              "      <th>23519</th>\n",
              "      <td>4</td>\n",
              "      <td>2018</td>\n",
              "      <td>uniqueid_2113</td>\n",
              "      <td>2</td>\n",
              "      <td>2</td>\n",
              "      <td>1</td>\n",
              "      <td>4.0</td>\n",
              "      <td>48.0</td>\n",
              "      <td>2</td>\n",
              "      <td>1.0</td>\n",
              "      <td>NaN</td>\n",
              "      <td>5.0</td>\n",
              "      <td>8.0</td>\n",
              "    </tr>\n",
              "    <tr>\n",
              "      <th>23520</th>\n",
              "      <td>4</td>\n",
              "      <td>2018</td>\n",
              "      <td>uniqueid_2114</td>\n",
              "      <td>2</td>\n",
              "      <td>2</td>\n",
              "      <td>1</td>\n",
              "      <td>2.0</td>\n",
              "      <td>27.0</td>\n",
              "      <td>2</td>\n",
              "      <td>1.0</td>\n",
              "      <td>2.0</td>\n",
              "      <td>3.0</td>\n",
              "      <td>8.0</td>\n",
              "    </tr>\n",
              "    <tr>\n",
              "      <th>23521</th>\n",
              "      <td>4</td>\n",
              "      <td>2018</td>\n",
              "      <td>uniqueid_2115</td>\n",
              "      <td>2</td>\n",
              "      <td>2</td>\n",
              "      <td>1</td>\n",
              "      <td>5.0</td>\n",
              "      <td>27.0</td>\n",
              "      <td>2</td>\n",
              "      <td>4.0</td>\n",
              "      <td>3.0</td>\n",
              "      <td>4.0</td>\n",
              "      <td>8.0</td>\n",
              "    </tr>\n",
              "    <tr>\n",
              "      <th>23522</th>\n",
              "      <td>4</td>\n",
              "      <td>2018</td>\n",
              "      <td>uniqueid_2116</td>\n",
              "      <td>2</td>\n",
              "      <td>1</td>\n",
              "      <td>1</td>\n",
              "      <td>7.0</td>\n",
              "      <td>30.0</td>\n",
              "      <td>2</td>\n",
              "      <td>4.0</td>\n",
              "      <td>NaN</td>\n",
              "      <td>3.0</td>\n",
              "      <td>3.0</td>\n",
              "    </tr>\n",
              "    <tr>\n",
              "      <th>23523</th>\n",
              "      <td>4</td>\n",
              "      <td>2018</td>\n",
              "      <td>uniqueid_2117</td>\n",
              "      <td>2</td>\n",
              "      <td>2</td>\n",
              "      <td>1</td>\n",
              "      <td>10.0</td>\n",
              "      <td>20.0</td>\n",
              "      <td>1</td>\n",
              "      <td>3.0</td>\n",
              "      <td>2.0</td>\n",
              "      <td>3.0</td>\n",
              "      <td>9.0</td>\n",
              "    </tr>\n",
              "  </tbody>\n",
              "</table>\n",
              "<p>23058 rows × 13 columns</p>\n",
              "</div>"
            ],
            "text/plain": [
              "       country  year  ... level_of_education  type_of_job\n",
              "0            1  2018  ...                3.0          3.0\n",
              "1            1  2018  ...                5.0          NaN\n",
              "2            1  2018  ...                2.0          3.0\n",
              "3            1  2018  ...                4.0          2.0\n",
              "4            1  2018  ...                4.0          6.0\n",
              "...        ...   ...  ...                ...          ...\n",
              "23519        4  2018  ...                5.0          8.0\n",
              "23520        4  2018  ...                3.0          8.0\n",
              "23521        4  2018  ...                4.0          8.0\n",
              "23522        4  2018  ...                3.0          3.0\n",
              "23523        4  2018  ...                3.0          9.0\n",
              "\n",
              "[23058 rows x 13 columns]"
            ]
          },
          "metadata": {},
          "execution_count": 1315
        }
      ]
    },
    {
      "cell_type": "code",
      "metadata": {
        "colab": {
          "base_uri": "https://localhost:8080/"
        },
        "id": "6ioj5x9PDtAq",
        "outputId": "c8f8fba2-f1b5-4382-f134-59974df59843"
      },
      "source": [
        "fill_null.info()"
      ],
      "execution_count": 1316,
      "outputs": [
        {
          "output_type": "stream",
          "name": "stdout",
          "text": [
            "<class 'pandas.core.frame.DataFrame'>\n",
            "Int64Index: 23058 entries, 0 to 23523\n",
            "Data columns (total 13 columns):\n",
            " #   Column                      Non-Null Count  Dtype  \n",
            "---  ------                      --------------  -----  \n",
            " 0   country                     23058 non-null  int64  \n",
            " 1   year                        23058 non-null  int64  \n",
            " 2   uniqueid                    23058 non-null  object \n",
            " 3   has_a_bank_account          23058 non-null  int64  \n",
            " 4   type_of_location            23058 non-null  int64  \n",
            " 5   cell_phone_access           23058 non-null  int64  \n",
            " 6   household_size              23058 non-null  float64\n",
            " 7   respondent_age              23058 non-null  float64\n",
            " 8   gender_of_respondent        23058 non-null  int64  \n",
            " 9   the_relationship_with_head  22868 non-null  float64\n",
            " 10  marital_status              20986 non-null  float64\n",
            " 11  level_of_education          21876 non-null  float64\n",
            " 12  type_of_job                 20351 non-null  float64\n",
            "dtypes: float64(6), int64(6), object(1)\n",
            "memory usage: 2.5+ MB\n"
          ]
        }
      ]
    },
    {
      "cell_type": "code",
      "metadata": {
        "id": "bsxyFC2H5c-a"
      },
      "source": [
        "# removing null values\n",
        "columns= fill_null.columns.to_list()\n",
        "def na_values(df, columns):\n",
        "    df = df.dropna(subset=columns, inplace=True)\n",
        "    return df\n",
        "na_values(fill_null,columns)"
      ],
      "execution_count": 1317,
      "outputs": []
    },
    {
      "cell_type": "code",
      "metadata": {
        "id": "HxjZpOqI5xT3"
      },
      "source": [
        "# converting datatypes to integers\n",
        "fill_null['respondent_age'] = fill_null['respondent_age'].astype(int)\n",
        "fill_null['marital_status'] = fill_null['marital_status'].astype(int)\n",
        "fill_null['the_relationship_with_head'] = fill_null['the_relationship_with_head'].astype(int)\n",
        "fill_null['level_of_education'] = fill_null['level_of_education'].astype(int)\n",
        "fill_null['type_of_job'] = fill_null['type_of_job'].astype(int)\n",
        "fill_null['household_size'] = fill_null['household_size'].astype(int)"
      ],
      "execution_count": 1318,
      "outputs": []
    },
    {
      "cell_type": "code",
      "metadata": {
        "colab": {
          "base_uri": "https://localhost:8080/"
        },
        "id": "PQDVYi4N607G",
        "outputId": "e6ca9ee5-e3fb-4be1-d460-037ca46b663c"
      },
      "source": [
        "fill_null.info()"
      ],
      "execution_count": 1319,
      "outputs": [
        {
          "output_type": "stream",
          "name": "stdout",
          "text": [
            "<class 'pandas.core.frame.DataFrame'>\n",
            "Int64Index: 17589 entries, 0 to 23523\n",
            "Data columns (total 13 columns):\n",
            " #   Column                      Non-Null Count  Dtype \n",
            "---  ------                      --------------  ----- \n",
            " 0   country                     17589 non-null  int64 \n",
            " 1   year                        17589 non-null  int64 \n",
            " 2   uniqueid                    17589 non-null  object\n",
            " 3   has_a_bank_account          17589 non-null  int64 \n",
            " 4   type_of_location            17589 non-null  int64 \n",
            " 5   cell_phone_access           17589 non-null  int64 \n",
            " 6   household_size              17589 non-null  int64 \n",
            " 7   respondent_age              17589 non-null  int64 \n",
            " 8   gender_of_respondent        17589 non-null  int64 \n",
            " 9   the_relationship_with_head  17589 non-null  int64 \n",
            " 10  marital_status              17589 non-null  int64 \n",
            " 11  level_of_education          17589 non-null  int64 \n",
            " 12  type_of_job                 17589 non-null  int64 \n",
            "dtypes: int64(12), object(1)\n",
            "memory usage: 1.9+ MB\n"
          ]
        }
      ]
    },
    {
      "cell_type": "markdown",
      "metadata": {
        "id": "jAS2uM50G9yx"
      },
      "source": [
        "### 1.1 Principal Component Analysis"
      ]
    },
    {
      "cell_type": "code",
      "metadata": {
        "colab": {
          "base_uri": "https://localhost:8080/",
          "height": 442
        },
        "id": "AbPDbFGMyNfa",
        "outputId": "c4a8b9c5-2ef3-46e1-a5f9-45d0ba4a3c8b"
      },
      "source": [
        "# 1. Preprocessing\n",
        "# 1. divide the dataset into a feature set and corresponding labels. \n",
        "# The following script performs this task.\n",
        "# The script below stores the feature sets into the X variable \n",
        "# and the series of corresponding labels in to the y variable.\n",
        "# \n",
        "\n",
        "X = fill_null.drop(['year', 'uniqueid'], 1)\n",
        "y = fill_null['has_a_bank_account']\n",
        "X"
      ],
      "execution_count": 1320,
      "outputs": [
        {
          "output_type": "execute_result",
          "data": {
            "text/html": [
              "<div>\n",
              "<style scoped>\n",
              "    .dataframe tbody tr th:only-of-type {\n",
              "        vertical-align: middle;\n",
              "    }\n",
              "\n",
              "    .dataframe tbody tr th {\n",
              "        vertical-align: top;\n",
              "    }\n",
              "\n",
              "    .dataframe thead th {\n",
              "        text-align: right;\n",
              "    }\n",
              "</style>\n",
              "<table border=\"1\" class=\"dataframe\">\n",
              "  <thead>\n",
              "    <tr style=\"text-align: right;\">\n",
              "      <th></th>\n",
              "      <th>country</th>\n",
              "      <th>has_a_bank_account</th>\n",
              "      <th>type_of_location</th>\n",
              "      <th>cell_phone_access</th>\n",
              "      <th>household_size</th>\n",
              "      <th>respondent_age</th>\n",
              "      <th>gender_of_respondent</th>\n",
              "      <th>the_relationship_with_head</th>\n",
              "      <th>marital_status</th>\n",
              "      <th>level_of_education</th>\n",
              "      <th>type_of_job</th>\n",
              "    </tr>\n",
              "  </thead>\n",
              "  <tbody>\n",
              "    <tr>\n",
              "      <th>0</th>\n",
              "      <td>1</td>\n",
              "      <td>1</td>\n",
              "      <td>2</td>\n",
              "      <td>1</td>\n",
              "      <td>3</td>\n",
              "      <td>24</td>\n",
              "      <td>2</td>\n",
              "      <td>2</td>\n",
              "      <td>1</td>\n",
              "      <td>3</td>\n",
              "      <td>3</td>\n",
              "    </tr>\n",
              "    <tr>\n",
              "      <th>2</th>\n",
              "      <td>1</td>\n",
              "      <td>1</td>\n",
              "      <td>1</td>\n",
              "      <td>1</td>\n",
              "      <td>5</td>\n",
              "      <td>26</td>\n",
              "      <td>1</td>\n",
              "      <td>5</td>\n",
              "      <td>2</td>\n",
              "      <td>2</td>\n",
              "      <td>3</td>\n",
              "    </tr>\n",
              "    <tr>\n",
              "      <th>3</th>\n",
              "      <td>1</td>\n",
              "      <td>2</td>\n",
              "      <td>2</td>\n",
              "      <td>1</td>\n",
              "      <td>5</td>\n",
              "      <td>34</td>\n",
              "      <td>2</td>\n",
              "      <td>1</td>\n",
              "      <td>1</td>\n",
              "      <td>4</td>\n",
              "      <td>2</td>\n",
              "    </tr>\n",
              "    <tr>\n",
              "      <th>4</th>\n",
              "      <td>1</td>\n",
              "      <td>2</td>\n",
              "      <td>1</td>\n",
              "      <td>2</td>\n",
              "      <td>8</td>\n",
              "      <td>26</td>\n",
              "      <td>1</td>\n",
              "      <td>3</td>\n",
              "      <td>2</td>\n",
              "      <td>4</td>\n",
              "      <td>6</td>\n",
              "    </tr>\n",
              "    <tr>\n",
              "      <th>5</th>\n",
              "      <td>1</td>\n",
              "      <td>2</td>\n",
              "      <td>2</td>\n",
              "      <td>2</td>\n",
              "      <td>7</td>\n",
              "      <td>26</td>\n",
              "      <td>2</td>\n",
              "      <td>2</td>\n",
              "      <td>1</td>\n",
              "      <td>4</td>\n",
              "      <td>6</td>\n",
              "    </tr>\n",
              "    <tr>\n",
              "      <th>...</th>\n",
              "      <td>...</td>\n",
              "      <td>...</td>\n",
              "      <td>...</td>\n",
              "      <td>...</td>\n",
              "      <td>...</td>\n",
              "      <td>...</td>\n",
              "      <td>...</td>\n",
              "      <td>...</td>\n",
              "      <td>...</td>\n",
              "      <td>...</td>\n",
              "      <td>...</td>\n",
              "    </tr>\n",
              "    <tr>\n",
              "      <th>23517</th>\n",
              "      <td>4</td>\n",
              "      <td>2</td>\n",
              "      <td>1</td>\n",
              "      <td>1</td>\n",
              "      <td>2</td>\n",
              "      <td>16</td>\n",
              "      <td>1</td>\n",
              "      <td>4</td>\n",
              "      <td>2</td>\n",
              "      <td>4</td>\n",
              "      <td>8</td>\n",
              "    </tr>\n",
              "    <tr>\n",
              "      <th>23518</th>\n",
              "      <td>4</td>\n",
              "      <td>2</td>\n",
              "      <td>2</td>\n",
              "      <td>1</td>\n",
              "      <td>2</td>\n",
              "      <td>20</td>\n",
              "      <td>2</td>\n",
              "      <td>3</td>\n",
              "      <td>2</td>\n",
              "      <td>4</td>\n",
              "      <td>9</td>\n",
              "    </tr>\n",
              "    <tr>\n",
              "      <th>23520</th>\n",
              "      <td>4</td>\n",
              "      <td>2</td>\n",
              "      <td>2</td>\n",
              "      <td>1</td>\n",
              "      <td>2</td>\n",
              "      <td>27</td>\n",
              "      <td>2</td>\n",
              "      <td>1</td>\n",
              "      <td>2</td>\n",
              "      <td>3</td>\n",
              "      <td>8</td>\n",
              "    </tr>\n",
              "    <tr>\n",
              "      <th>23521</th>\n",
              "      <td>4</td>\n",
              "      <td>2</td>\n",
              "      <td>2</td>\n",
              "      <td>1</td>\n",
              "      <td>5</td>\n",
              "      <td>27</td>\n",
              "      <td>2</td>\n",
              "      <td>4</td>\n",
              "      <td>3</td>\n",
              "      <td>4</td>\n",
              "      <td>8</td>\n",
              "    </tr>\n",
              "    <tr>\n",
              "      <th>23523</th>\n",
              "      <td>4</td>\n",
              "      <td>2</td>\n",
              "      <td>2</td>\n",
              "      <td>1</td>\n",
              "      <td>10</td>\n",
              "      <td>20</td>\n",
              "      <td>1</td>\n",
              "      <td>3</td>\n",
              "      <td>2</td>\n",
              "      <td>3</td>\n",
              "      <td>9</td>\n",
              "    </tr>\n",
              "  </tbody>\n",
              "</table>\n",
              "<p>17589 rows × 11 columns</p>\n",
              "</div>"
            ],
            "text/plain": [
              "       country  has_a_bank_account  ...  level_of_education  type_of_job\n",
              "0            1                   1  ...                   3            3\n",
              "2            1                   1  ...                   2            3\n",
              "3            1                   2  ...                   4            2\n",
              "4            1                   2  ...                   4            6\n",
              "5            1                   2  ...                   4            6\n",
              "...        ...                 ...  ...                 ...          ...\n",
              "23517        4                   2  ...                   4            8\n",
              "23518        4                   2  ...                   4            9\n",
              "23520        4                   2  ...                   3            8\n",
              "23521        4                   2  ...                   4            8\n",
              "23523        4                   2  ...                   3            9\n",
              "\n",
              "[17589 rows x 11 columns]"
            ]
          },
          "metadata": {},
          "execution_count": 1320
        }
      ]
    },
    {
      "cell_type": "code",
      "metadata": {
        "id": "qth4rZ6v3Y8I"
      },
      "source": [
        "# 2. Splitting the dataset into the Training set and Test set\n",
        "# The next preprocessing step is to divide data into training and test sets. \n",
        "# We execute the following script to do so:\n",
        "#\n",
        "from sklearn.model_selection import train_test_split\n",
        "\n",
        "X_train, X_test, y_train, y_test = train_test_split(X, y, test_size=0.2, random_state=0)"
      ],
      "execution_count": 1321,
      "outputs": []
    },
    {
      "cell_type": "code",
      "metadata": {
        "id": "F0ObObfv5NMn"
      },
      "source": [
        "# 3. Normalization\n",
        "# We will perform standard scalar normalization to normalize our feature set. \n",
        "# To do this, we execute the following code:\n",
        "# \n",
        "from sklearn.preprocessing import StandardScaler\n",
        "\n",
        "sc = StandardScaler()\n",
        "X_train = sc.fit_transform(X_train)\n",
        "X_test = sc.transform(X_test)"
      ],
      "execution_count": 1322,
      "outputs": []
    },
    {
      "cell_type": "code",
      "metadata": {
        "id": "7a2Beqr_JsGD"
      },
      "source": [
        "# 4. Applying PCA\n",
        " \n",
        "# We did not specify the number of components in the constructor. \n",
        "# Hence, all four of the features in the feature set will be returned for both the training and test sets.\n",
        "# \n",
        "# import PCA from Python's Scikit-Learn library\n",
        "\n",
        "from sklearn.decomposition import PCA\n",
        "#Initialize the PCA class \n",
        "pca = PCA()\n",
        "# Call the fit and then transform methods by passing the feature set to these methods.\n",
        "# The transform method returns the specified number of principal components.\n",
        "X_train = pca.fit_transform(X_train)\n",
        "X_test = pca.transform(X_test)"
      ],
      "execution_count": 1323,
      "outputs": []
    },
    {
      "cell_type": "code",
      "metadata": {
        "colab": {
          "base_uri": "https://localhost:8080/"
        },
        "id": "yw378ANb7SDh",
        "outputId": "36d989e8-c4cc-4b69-9ff4-5250593170db"
      },
      "source": [
        "# 5. Explained Variance Ratio\n",
        "# The PCA class contains explained_variance_ratio_ which returns the variance caused by each of the principal components. \n",
        "# We execute the following line of code to find the \"explained variance ratio\".\n",
        "# \n",
        "explained_variance = pca.explained_variance_ratio_\n",
        "\n",
        "# The explained_variance variable is now a float type array which contains variance ratios for each principal component. \n",
        "# The values for the explained_variance variable looks like what is shown in the output. \n",
        "# It can be seen that first principal component is responsible for 18.702% variance. \n",
        "# Similarly, the second principal component causes 14.43% variance in the dataset.\n",
        "# Similarly, the third principal component causes 9.68% variance in the dataset.\n",
        "# Similarly, the fourth principal component causes 7.50% variance in the dataset.\n",
        "# Similarly, the fifth principal component causes 7.00% variance in the dataset.\n",
        "# Similarly, the sixth principal component causes 6.46% variance in the dataset.\n",
        "# Similarly, the seventh principal component causes 5.84% variance in the dataset.\n",
        "# Similarly, the eighth principal component causes 5.26% variance in the dataset.\n",
        "# Similarly, the nineth principal component causes 5.21% variance in the dataset.\n",
        "# Similarly, the tenth principal component causes 3.91% variance in the dataset.\n",
        "# Collectively we can say that (18.70+15.96+14.43+9.68+7.50+7.00+6.46+5.84+5.26+5.21+3.91) 99.95% percent of the classification information contained \n",
        "# in the feature set is captured by the first two principal components.\n",
        "explained_variance"
      ],
      "execution_count": 1324,
      "outputs": [
        {
          "output_type": "execute_result",
          "data": {
            "text/plain": [
              "array([0.18704177, 0.15961661, 0.1443358 , 0.09683433, 0.07508267,\n",
              "       0.07002608, 0.06469812, 0.05847207, 0.05261656, 0.05210933,\n",
              "       0.03916665])"
            ]
          },
          "metadata": {},
          "execution_count": 1324
        }
      ]
    },
    {
      "cell_type": "code",
      "metadata": {
        "id": "-J41CoJO975O"
      },
      "source": [
        "# 6. Using 1 Principal Component\n",
        "# Let's use 1 principal component to train our algorithm. To do so, execute the following code:\n",
        "# \n",
        "from sklearn.decomposition import PCA\n",
        "\n",
        "pca = PCA(n_components=1)\n",
        "X_train = pca.fit_transform(X_train)\n",
        "X_test = pca.transform(X_test)"
      ],
      "execution_count": 1325,
      "outputs": []
    },
    {
      "cell_type": "code",
      "metadata": {
        "id": "Xdi58CFi-RjE"
      },
      "source": [
        "# 7. Training and Making Predictions\n",
        "# using random forest classification for making the predictions.\n",
        "# \n",
        "from sklearn.ensemble import RandomForestClassifier\n",
        "\n",
        "classifier = RandomForestClassifier(max_depth=2, random_state=0)\n",
        "classifier.fit(X_train, y_train)\n",
        "\n",
        "# Predicting the Test set results\n",
        "y_pred = classifier.predict(X_test)"
      ],
      "execution_count": 1326,
      "outputs": []
    },
    {
      "cell_type": "code",
      "metadata": {
        "colab": {
          "base_uri": "https://localhost:8080/"
        },
        "id": "YOtka7yP-cEH",
        "outputId": "57750a35-d9e9-439f-8709-28d0a2425be7"
      },
      "source": [
        "# 8. Performance Evaluation\n",
        "# \n",
        "from sklearn.metrics import confusion_matrix\n",
        "from sklearn.metrics import accuracy_score\n",
        "\n",
        "cm = confusion_matrix(y_test, y_pred)\n",
        "print(cm)\n",
        "print('Accuracy' , accuracy_score(y_test, y_pred))\n",
        "\n",
        "# Noting that from the output that with only one feature, \n",
        "# the random forest algorithm is able to correctly predict 28 out of 30 instances, \n",
        "# resulting in 87.35% accuracy."
      ],
      "execution_count": 1327,
      "outputs": [
        {
          "output_type": "stream",
          "name": "stdout",
          "text": [
            "[[   0  445]\n",
            " [   0 3073]]\n",
            "Accuracy 0.873507674815236\n"
          ]
        }
      ]
    },
    {
      "cell_type": "code",
      "metadata": {
        "colab": {
          "base_uri": "https://localhost:8080/"
        },
        "id": "I-2S-zBdBXbq",
        "outputId": "6eb39349-8bce-40a9-fb44-20b06b3a1613"
      },
      "source": [
        "# 9. Results with 2 Principal Components\n",
        "# Lets now write code to evaluate clasification performance of the \n",
        "# random forest algorithm with 2 principal components.\n",
        "X_train, X_test, y_train, y_test = train_test_split(X, y, test_size=0.2, random_state=0)\n",
        "\n",
        "sc = StandardScaler()\n",
        "X_train = sc.fit_transform(X_train)\n",
        "X_test = sc.transform(X_test)\n",
        "\n",
        "pca = PCA(n_components=2)\n",
        "X_train = pca.fit_transform(X_train)\n",
        "X_test = pca.transform(X_test)\n",
        "\n",
        "# With two principal components the classification accuracy increase to 93.91%\n",
        "classifier = RandomForestClassifier(max_depth=1, random_state=0)\n",
        "classifier.fit(X_train, y_train)"
      ],
      "execution_count": 1328,
      "outputs": [
        {
          "output_type": "execute_result",
          "data": {
            "text/plain": [
              "RandomForestClassifier(bootstrap=True, ccp_alpha=0.0, class_weight=None,\n",
              "                       criterion='gini', max_depth=1, max_features='auto',\n",
              "                       max_leaf_nodes=None, max_samples=None,\n",
              "                       min_impurity_decrease=0.0, min_impurity_split=None,\n",
              "                       min_samples_leaf=1, min_samples_split=2,\n",
              "                       min_weight_fraction_leaf=0.0, n_estimators=100,\n",
              "                       n_jobs=None, oob_score=False, random_state=0, verbose=0,\n",
              "                       warm_start=False)"
            ]
          },
          "metadata": {},
          "execution_count": 1328
        }
      ]
    },
    {
      "cell_type": "code",
      "metadata": {
        "colab": {
          "base_uri": "https://localhost:8080/"
        },
        "id": "In-O86QDC_M4",
        "outputId": "2754d875-5b44-4c6d-e91c-fcef9daa8f11"
      },
      "source": [
        "# Predicting the Test set results\n",
        "y_pred = classifier.predict(X_test)\n",
        "\n",
        "cm = confusion_matrix(y_test, y_pred)\n",
        "print(cm)\n",
        "print('Accuracy' , accuracy_score(y_test, y_pred))"
      ],
      "execution_count": 1329,
      "outputs": [
        {
          "output_type": "stream",
          "name": "stdout",
          "text": [
            "[[ 258  187]\n",
            " [  43 3030]]\n",
            "Accuracy 0.9346219442865265\n"
          ]
        }
      ]
    },
    {
      "cell_type": "code",
      "metadata": {
        "colab": {
          "base_uri": "https://localhost:8080/"
        },
        "id": "lNFfOPpJEpF8",
        "outputId": "d9be2dc4-80dc-472e-dce2-67035b1a5cd6"
      },
      "source": [
        "# 9. Results with 11 Principal Components\n",
        "# Lets now write code to evaluate clasification performance of the \n",
        "# random forest algorithm with 11 principal components.\n",
        "X_train, X_test, y_train, y_test = train_test_split(X, y, test_size=0.2, random_state=0)\n",
        "\n",
        "sc = StandardScaler()\n",
        "X_train = sc.fit_transform(X_train)\n",
        "X_test = sc.transform(X_test)\n",
        "\n",
        "pca = PCA(n_components=11)\n",
        "X_train = pca.fit_transform(X_train)\n",
        "X_test = pca.transform(X_test)\n",
        "\n",
        "# With two principal components the classification accuracy again increase to 94.00%\n",
        "classifier = RandomForestClassifier(max_depth=10, random_state=0)\n",
        "classifier.fit(X_train, y_train)"
      ],
      "execution_count": 1330,
      "outputs": [
        {
          "output_type": "execute_result",
          "data": {
            "text/plain": [
              "RandomForestClassifier(bootstrap=True, ccp_alpha=0.0, class_weight=None,\n",
              "                       criterion='gini', max_depth=10, max_features='auto',\n",
              "                       max_leaf_nodes=None, max_samples=None,\n",
              "                       min_impurity_decrease=0.0, min_impurity_split=None,\n",
              "                       min_samples_leaf=1, min_samples_split=2,\n",
              "                       min_weight_fraction_leaf=0.0, n_estimators=100,\n",
              "                       n_jobs=None, oob_score=False, random_state=0, verbose=0,\n",
              "                       warm_start=False)"
            ]
          },
          "metadata": {},
          "execution_count": 1330
        }
      ]
    },
    {
      "cell_type": "code",
      "metadata": {
        "colab": {
          "base_uri": "https://localhost:8080/"
        },
        "id": "KWoy_B1_Ewxw",
        "outputId": "7aa7b1bf-0c66-4f21-854f-a515a03a506e"
      },
      "source": [
        "# Predicting the Test set results\n",
        "y_pred = classifier.predict(X_test)\n",
        "\n",
        "cm = confusion_matrix(y_test, y_pred)\n",
        "print(cm)\n",
        "print('Accuracy' , accuracy_score(y_test, y_pred))\n",
        "# With all the 11 principal components the classification accuracy becomes 100%"
      ],
      "execution_count": 1331,
      "outputs": [
        {
          "output_type": "stream",
          "name": "stdout",
          "text": [
            "[[ 445    0]\n",
            " [   0 3073]]\n",
            "Accuracy 1.0\n"
          ]
        }
      ]
    },
    {
      "cell_type": "markdown",
      "metadata": {
        "id": "cYLjQcuiHXYJ"
      },
      "source": [
        "### 1.2 Factor Analysis"
      ]
    },
    {
      "cell_type": "code",
      "metadata": {
        "id": "umjCcah8XQ0A"
      },
      "source": [
        "# dropping year and uniqueid columns, they are unnecessary\n",
        "fill_null.drop(['year', 'uniqueid'],axis=1,inplace=True)"
      ],
      "execution_count": 1332,
      "outputs": []
    },
    {
      "cell_type": "code",
      "metadata": {
        "colab": {
          "base_uri": "https://localhost:8080/"
        },
        "id": "xrxKcFbhhZi2",
        "outputId": "f68b0880-562a-4674-879b-cb00a0c35e4e"
      },
      "source": [
        "# previewing our dataset information\n",
        "fill_null.info()"
      ],
      "execution_count": 1333,
      "outputs": [
        {
          "output_type": "stream",
          "name": "stdout",
          "text": [
            "<class 'pandas.core.frame.DataFrame'>\n",
            "Int64Index: 17589 entries, 0 to 23523\n",
            "Data columns (total 11 columns):\n",
            " #   Column                      Non-Null Count  Dtype\n",
            "---  ------                      --------------  -----\n",
            " 0   country                     17589 non-null  int64\n",
            " 1   has_a_bank_account          17589 non-null  int64\n",
            " 2   type_of_location            17589 non-null  int64\n",
            " 3   cell_phone_access           17589 non-null  int64\n",
            " 4   household_size              17589 non-null  int64\n",
            " 5   respondent_age              17589 non-null  int64\n",
            " 6   gender_of_respondent        17589 non-null  int64\n",
            " 7   the_relationship_with_head  17589 non-null  int64\n",
            " 8   marital_status              17589 non-null  int64\n",
            " 9   level_of_education          17589 non-null  int64\n",
            " 10  type_of_job                 17589 non-null  int64\n",
            "dtypes: int64(11)\n",
            "memory usage: 1.6 MB\n"
          ]
        }
      ]
    },
    {
      "cell_type": "code",
      "metadata": {
        "colab": {
          "base_uri": "https://localhost:8080/"
        },
        "id": "eMmzzjxMHeqS",
        "outputId": "2b93145e-68ce-4412-ff64-17d523cf18fe"
      },
      "source": [
        "# 1. Adequacy Test\n",
        "# Before we perform factor analysis,we need to evaluate the “factorability” of our dataset. \n",
        "# Factorability means \"can we found the factors in the dataset?\". \n",
        "# There are two methods to check the factorability or sampling adequacy:\n",
        "# - Bartlett’s Test\n",
        "# - Kaiser-Meyer-Olkin Test\n",
        "# ---\n",
        "# We will use Bartlett’s test of sphericity to check whether or not the observed variables intercorrelate at all \n",
        "# using the observed correlation matrix against the identity matrix. If the test found statistically insignificant, \n",
        "# we should not employ a factor analysis.\n",
        "# ---\n",
        "\n",
        "# Installing factor analyzer \n",
        "!pip install factor_analyzer==0.2.3\n",
        "\n",
        "from factor_analyzer.factor_analyzer import calculate_bartlett_sphericity\n",
        "\n",
        "chi_square_value,p_value=calculate_bartlett_sphericity(fill_null)\n",
        "chi_square_value, p_value\n",
        "\n",
        "# In Bartlett ’s test, the p-value is 0. The test was statistically significant, \n",
        "# indicating that the observed correlation matrix is not an identity matrix."
      ],
      "execution_count": 1334,
      "outputs": [
        {
          "output_type": "stream",
          "name": "stdout",
          "text": [
            "Requirement already satisfied: factor_analyzer==0.2.3 in /usr/local/lib/python3.7/dist-packages (0.2.3)\n",
            "Requirement already satisfied: numpy in /usr/local/lib/python3.7/dist-packages (from factor_analyzer==0.2.3) (1.19.5)\n",
            "Requirement already satisfied: pandas in /usr/local/lib/python3.7/dist-packages (from factor_analyzer==0.2.3) (1.1.5)\n",
            "Requirement already satisfied: scipy in /usr/local/lib/python3.7/dist-packages (from factor_analyzer==0.2.3) (1.4.1)\n",
            "Requirement already satisfied: python-dateutil>=2.7.3 in /usr/local/lib/python3.7/dist-packages (from pandas->factor_analyzer==0.2.3) (2.8.2)\n",
            "Requirement already satisfied: pytz>=2017.2 in /usr/local/lib/python3.7/dist-packages (from pandas->factor_analyzer==0.2.3) (2018.9)\n",
            "Requirement already satisfied: six>=1.5 in /usr/local/lib/python3.7/dist-packages (from python-dateutil>=2.7.3->pandas->factor_analyzer==0.2.3) (1.15.0)\n"
          ]
        },
        {
          "output_type": "execute_result",
          "data": {
            "text/plain": [
              "(24178.364393246855, 0.0)"
            ]
          },
          "metadata": {},
          "execution_count": 1334
        }
      ]
    },
    {
      "cell_type": "code",
      "metadata": {
        "colab": {
          "base_uri": "https://localhost:8080/",
          "height": 393
        },
        "id": "1opmdBC9QloA",
        "outputId": "6073572e-1f3d-4bfa-bf02-f47818285895"
      },
      "source": [
        "# 2. Choosing the Number of Factors\n",
        "# For choosing the number of factors, you can use the Kaiser criterion and scree plot. Both are based on eigenvalues.\n",
        "# \n",
        "from factor_analyzer.factor_analyzer import FactorAnalyzer\n",
        "\n",
        "# Creating factor analysis object and perform factor analysis\n",
        "fa = FactorAnalyzer()\n",
        "fa.analyze(fill_null, 11, rotation=None)\n",
        "\n",
        "# Checking the Eigenvalues\n",
        "ev, v = fa.get_eigenvalues()\n",
        "ev\n",
        "\n",
        "# Here, we can see only for 4-factors eigenvalues are greater than one. \n",
        "# It means we need to choose only 4 factors (or unobserved variables)."
      ],
      "execution_count": 1335,
      "outputs": [
        {
          "output_type": "execute_result",
          "data": {
            "text/html": [
              "<div>\n",
              "<style scoped>\n",
              "    .dataframe tbody tr th:only-of-type {\n",
              "        vertical-align: middle;\n",
              "    }\n",
              "\n",
              "    .dataframe tbody tr th {\n",
              "        vertical-align: top;\n",
              "    }\n",
              "\n",
              "    .dataframe thead th {\n",
              "        text-align: right;\n",
              "    }\n",
              "</style>\n",
              "<table border=\"1\" class=\"dataframe\">\n",
              "  <thead>\n",
              "    <tr style=\"text-align: right;\">\n",
              "      <th></th>\n",
              "      <th>Original_Eigenvalues</th>\n",
              "    </tr>\n",
              "  </thead>\n",
              "  <tbody>\n",
              "    <tr>\n",
              "      <th>0</th>\n",
              "      <td>2.062356</td>\n",
              "    </tr>\n",
              "    <tr>\n",
              "      <th>1</th>\n",
              "      <td>1.765827</td>\n",
              "    </tr>\n",
              "    <tr>\n",
              "      <th>2</th>\n",
              "      <td>1.589468</td>\n",
              "    </tr>\n",
              "    <tr>\n",
              "      <th>3</th>\n",
              "      <td>1.052437</td>\n",
              "    </tr>\n",
              "    <tr>\n",
              "      <th>4</th>\n",
              "      <td>0.826636</td>\n",
              "    </tr>\n",
              "    <tr>\n",
              "      <th>5</th>\n",
              "      <td>0.768506</td>\n",
              "    </tr>\n",
              "    <tr>\n",
              "      <th>6</th>\n",
              "      <td>0.705882</td>\n",
              "    </tr>\n",
              "    <tr>\n",
              "      <th>7</th>\n",
              "      <td>0.643958</td>\n",
              "    </tr>\n",
              "    <tr>\n",
              "      <th>8</th>\n",
              "      <td>0.581069</td>\n",
              "    </tr>\n",
              "    <tr>\n",
              "      <th>9</th>\n",
              "      <td>0.569773</td>\n",
              "    </tr>\n",
              "    <tr>\n",
              "      <th>10</th>\n",
              "      <td>0.434089</td>\n",
              "    </tr>\n",
              "  </tbody>\n",
              "</table>\n",
              "</div>"
            ],
            "text/plain": [
              "    Original_Eigenvalues\n",
              "0               2.062356\n",
              "1               1.765827\n",
              "2               1.589468\n",
              "3               1.052437\n",
              "4               0.826636\n",
              "5               0.768506\n",
              "6               0.705882\n",
              "7               0.643958\n",
              "8               0.581069\n",
              "9               0.569773\n",
              "10              0.434089"
            ]
          },
          "metadata": {},
          "execution_count": 1335
        }
      ]
    },
    {
      "cell_type": "code",
      "metadata": {
        "colab": {
          "base_uri": "https://localhost:8080/",
          "height": 393
        },
        "id": "ffud22-RTGsd",
        "outputId": "54fd93a9-0b62-4c84-9807-956155bfb9d7"
      },
      "source": [
        "# 3. Performing Factor Analysis\n",
        "# Creating factor analysis object and perform factor analysis\n",
        "#\n",
        "fa = FactorAnalyzer()\n",
        "fa.analyze(fill_null, 4, rotation=\"varimax\")\n",
        "fa.loadings\n",
        "\n",
        "# We will note that\n",
        "# Factor 1 has high factor loadings for type_of_location,household_size and type_of_job \n",
        "# Factor 2 has high factor loadings for has_a_bank_account,cell_phone_access, and level_of_education \n",
        "# Factor 3 has high factor loadings for respondent_age,the_relationship_with_head and level_of_education \n",
        "# Factor 4 has none of the high loagings for any variable and is not easily interpretable. Its good if we take only three factors.\n"
      ],
      "execution_count": 1336,
      "outputs": [
        {
          "output_type": "execute_result",
          "data": {
            "text/html": [
              "<div>\n",
              "<style scoped>\n",
              "    .dataframe tbody tr th:only-of-type {\n",
              "        vertical-align: middle;\n",
              "    }\n",
              "\n",
              "    .dataframe tbody tr th {\n",
              "        vertical-align: top;\n",
              "    }\n",
              "\n",
              "    .dataframe thead th {\n",
              "        text-align: right;\n",
              "    }\n",
              "</style>\n",
              "<table border=\"1\" class=\"dataframe\">\n",
              "  <thead>\n",
              "    <tr style=\"text-align: right;\">\n",
              "      <th></th>\n",
              "      <th>Factor1</th>\n",
              "      <th>Factor2</th>\n",
              "      <th>Factor3</th>\n",
              "      <th>Factor4</th>\n",
              "    </tr>\n",
              "  </thead>\n",
              "  <tbody>\n",
              "    <tr>\n",
              "      <th>country</th>\n",
              "      <td>-0.372644</td>\n",
              "      <td>0.383876</td>\n",
              "      <td>0.091961</td>\n",
              "      <td>0.008342</td>\n",
              "    </tr>\n",
              "    <tr>\n",
              "      <th>has_a_bank_account</th>\n",
              "      <td>0.108849</td>\n",
              "      <td>0.534778</td>\n",
              "      <td>0.075624</td>\n",
              "      <td>0.031915</td>\n",
              "    </tr>\n",
              "    <tr>\n",
              "      <th>type_of_location</th>\n",
              "      <td>0.599826</td>\n",
              "      <td>0.035443</td>\n",
              "      <td>-0.001304</td>\n",
              "      <td>-0.168564</td>\n",
              "    </tr>\n",
              "    <tr>\n",
              "      <th>cell_phone_access</th>\n",
              "      <td>-0.110141</td>\n",
              "      <td>0.405475</td>\n",
              "      <td>-0.011427</td>\n",
              "      <td>0.163257</td>\n",
              "    </tr>\n",
              "    <tr>\n",
              "      <th>household_size</th>\n",
              "      <td>0.420383</td>\n",
              "      <td>-0.033046</td>\n",
              "      <td>0.211572</td>\n",
              "      <td>-0.372384</td>\n",
              "    </tr>\n",
              "    <tr>\n",
              "      <th>respondent_age</th>\n",
              "      <td>0.085547</td>\n",
              "      <td>0.095926</td>\n",
              "      <td>-0.527207</td>\n",
              "      <td>0.201120</td>\n",
              "    </tr>\n",
              "    <tr>\n",
              "      <th>gender_of_respondent</th>\n",
              "      <td>0.084190</td>\n",
              "      <td>0.186701</td>\n",
              "      <td>0.239452</td>\n",
              "      <td>0.268846</td>\n",
              "    </tr>\n",
              "    <tr>\n",
              "      <th>the_relationship_with_head</th>\n",
              "      <td>0.137003</td>\n",
              "      <td>0.047591</td>\n",
              "      <td>0.868712</td>\n",
              "      <td>0.125006</td>\n",
              "    </tr>\n",
              "    <tr>\n",
              "      <th>marital_status</th>\n",
              "      <td>-0.183953</td>\n",
              "      <td>0.152352</td>\n",
              "      <td>-0.061760</td>\n",
              "      <td>0.605371</td>\n",
              "    </tr>\n",
              "    <tr>\n",
              "      <th>level_of_education</th>\n",
              "      <td>0.188494</td>\n",
              "      <td>0.578433</td>\n",
              "      <td>-0.254503</td>\n",
              "      <td>0.116795</td>\n",
              "    </tr>\n",
              "    <tr>\n",
              "      <th>type_of_job</th>\n",
              "      <td>0.591392</td>\n",
              "      <td>0.089509</td>\n",
              "      <td>0.022328</td>\n",
              "      <td>0.023065</td>\n",
              "    </tr>\n",
              "  </tbody>\n",
              "</table>\n",
              "</div>"
            ],
            "text/plain": [
              "                             Factor1   Factor2   Factor3   Factor4\n",
              "country                    -0.372644  0.383876  0.091961  0.008342\n",
              "has_a_bank_account          0.108849  0.534778  0.075624  0.031915\n",
              "type_of_location            0.599826  0.035443 -0.001304 -0.168564\n",
              "cell_phone_access          -0.110141  0.405475 -0.011427  0.163257\n",
              "household_size              0.420383 -0.033046  0.211572 -0.372384\n",
              "respondent_age              0.085547  0.095926 -0.527207  0.201120\n",
              "gender_of_respondent        0.084190  0.186701  0.239452  0.268846\n",
              "the_relationship_with_head  0.137003  0.047591  0.868712  0.125006\n",
              "marital_status             -0.183953  0.152352 -0.061760  0.605371\n",
              "level_of_education          0.188494  0.578433 -0.254503  0.116795\n",
              "type_of_job                 0.591392  0.089509  0.022328  0.023065"
            ]
          },
          "metadata": {},
          "execution_count": 1336
        }
      ]
    },
    {
      "cell_type": "code",
      "metadata": {
        "colab": {
          "base_uri": "https://localhost:8080/",
          "height": 393
        },
        "id": "JOwpKr_mbV28",
        "outputId": "05b3f2ba-b777-4d38-f906-a7377cf81fbf"
      },
      "source": [
        "# 4. Performing factor analysis for 3 factors\n",
        "\n",
        "# Create factor analysis object and perform factor analysis using 3 factors\n",
        "fa = FactorAnalyzer()\n",
        "fa.analyze(fill_null, 3, rotation=\"varimax\")\n",
        "fa.loadings"
      ],
      "execution_count": 1337,
      "outputs": [
        {
          "output_type": "execute_result",
          "data": {
            "text/html": [
              "<div>\n",
              "<style scoped>\n",
              "    .dataframe tbody tr th:only-of-type {\n",
              "        vertical-align: middle;\n",
              "    }\n",
              "\n",
              "    .dataframe tbody tr th {\n",
              "        vertical-align: top;\n",
              "    }\n",
              "\n",
              "    .dataframe thead th {\n",
              "        text-align: right;\n",
              "    }\n",
              "</style>\n",
              "<table border=\"1\" class=\"dataframe\">\n",
              "  <thead>\n",
              "    <tr style=\"text-align: right;\">\n",
              "      <th></th>\n",
              "      <th>Factor1</th>\n",
              "      <th>Factor2</th>\n",
              "      <th>Factor3</th>\n",
              "    </tr>\n",
              "  </thead>\n",
              "  <tbody>\n",
              "    <tr>\n",
              "      <th>country</th>\n",
              "      <td>-0.315175</td>\n",
              "      <td>0.276979</td>\n",
              "      <td>0.072449</td>\n",
              "    </tr>\n",
              "    <tr>\n",
              "      <th>has_a_bank_account</th>\n",
              "      <td>0.095363</td>\n",
              "      <td>0.497324</td>\n",
              "      <td>0.036283</td>\n",
              "    </tr>\n",
              "    <tr>\n",
              "      <th>type_of_location</th>\n",
              "      <td>0.643722</td>\n",
              "      <td>0.044767</td>\n",
              "      <td>-0.030925</td>\n",
              "    </tr>\n",
              "    <tr>\n",
              "      <th>cell_phone_access</th>\n",
              "      <td>-0.162696</td>\n",
              "      <td>0.423719</td>\n",
              "      <td>-0.032958</td>\n",
              "    </tr>\n",
              "    <tr>\n",
              "      <th>household_size</th>\n",
              "      <td>0.533671</td>\n",
              "      <td>-0.112549</td>\n",
              "      <td>0.196950</td>\n",
              "    </tr>\n",
              "    <tr>\n",
              "      <th>respondent_age</th>\n",
              "      <td>-0.014985</td>\n",
              "      <td>0.144652</td>\n",
              "      <td>-0.531021</td>\n",
              "    </tr>\n",
              "    <tr>\n",
              "      <th>gender_of_respondent</th>\n",
              "      <td>-0.011209</td>\n",
              "      <td>0.308386</td>\n",
              "      <td>0.220696</td>\n",
              "    </tr>\n",
              "    <tr>\n",
              "      <th>the_relationship_with_head</th>\n",
              "      <td>0.113424</td>\n",
              "      <td>0.172157</td>\n",
              "      <td>0.836642</td>\n",
              "    </tr>\n",
              "    <tr>\n",
              "      <th>marital_status</th>\n",
              "      <td>-0.348723</td>\n",
              "      <td>0.315106</td>\n",
              "      <td>-0.065764</td>\n",
              "    </tr>\n",
              "    <tr>\n",
              "      <th>level_of_education</th>\n",
              "      <td>0.129821</td>\n",
              "      <td>0.585947</td>\n",
              "      <td>-0.303828</td>\n",
              "    </tr>\n",
              "    <tr>\n",
              "      <th>type_of_job</th>\n",
              "      <td>0.525053</td>\n",
              "      <td>0.167488</td>\n",
              "      <td>-0.004921</td>\n",
              "    </tr>\n",
              "  </tbody>\n",
              "</table>\n",
              "</div>"
            ],
            "text/plain": [
              "                             Factor1   Factor2   Factor3\n",
              "country                    -0.315175  0.276979  0.072449\n",
              "has_a_bank_account          0.095363  0.497324  0.036283\n",
              "type_of_location            0.643722  0.044767 -0.030925\n",
              "cell_phone_access          -0.162696  0.423719 -0.032958\n",
              "household_size              0.533671 -0.112549  0.196950\n",
              "respondent_age             -0.014985  0.144652 -0.531021\n",
              "gender_of_respondent       -0.011209  0.308386  0.220696\n",
              "the_relationship_with_head  0.113424  0.172157  0.836642\n",
              "marital_status             -0.348723  0.315106 -0.065764\n",
              "level_of_education          0.129821  0.585947 -0.303828\n",
              "type_of_job                 0.525053  0.167488 -0.004921"
            ]
          },
          "metadata": {},
          "execution_count": 1337
        }
      ]
    },
    {
      "cell_type": "code",
      "metadata": {
        "colab": {
          "base_uri": "https://localhost:8080/",
          "height": 143
        },
        "id": "_59xJBadbw8Z",
        "outputId": "134d7232-8400-47a8-ae51-69404d6a26a6"
      },
      "source": [
        "# 5. Getting variance of each factors\n",
        "# \n",
        "fa.get_factor_variance()\n",
        "\n",
        "# Noting total 32% cumulative Variance explained by the 3 factors."
      ],
      "execution_count": 1338,
      "outputs": [
        {
          "output_type": "execute_result",
          "data": {
            "text/html": [
              "<div>\n",
              "<style scoped>\n",
              "    .dataframe tbody tr th:only-of-type {\n",
              "        vertical-align: middle;\n",
              "    }\n",
              "\n",
              "    .dataframe tbody tr th {\n",
              "        vertical-align: top;\n",
              "    }\n",
              "\n",
              "    .dataframe thead th {\n",
              "        text-align: right;\n",
              "    }\n",
              "</style>\n",
              "<table border=\"1\" class=\"dataframe\">\n",
              "  <thead>\n",
              "    <tr style=\"text-align: right;\">\n",
              "      <th></th>\n",
              "      <th>Factor1</th>\n",
              "      <th>Factor2</th>\n",
              "      <th>Factor3</th>\n",
              "    </tr>\n",
              "  </thead>\n",
              "  <tbody>\n",
              "    <tr>\n",
              "      <th>SS Loadings</th>\n",
              "      <td>1.261439</td>\n",
              "      <td>1.134600</td>\n",
              "      <td>1.174718</td>\n",
              "    </tr>\n",
              "    <tr>\n",
              "      <th>Proportion Var</th>\n",
              "      <td>0.114676</td>\n",
              "      <td>0.103145</td>\n",
              "      <td>0.106793</td>\n",
              "    </tr>\n",
              "    <tr>\n",
              "      <th>Cumulative Var</th>\n",
              "      <td>0.114676</td>\n",
              "      <td>0.217822</td>\n",
              "      <td>0.324614</td>\n",
              "    </tr>\n",
              "  </tbody>\n",
              "</table>\n",
              "</div>"
            ],
            "text/plain": [
              "                 Factor1   Factor2   Factor3\n",
              "SS Loadings     1.261439  1.134600  1.174718\n",
              "Proportion Var  0.114676  0.103145  0.106793\n",
              "Cumulative Var  0.114676  0.217822  0.324614"
            ]
          },
          "metadata": {},
          "execution_count": 1338
        }
      ]
    },
    {
      "cell_type": "markdown",
      "metadata": {
        "id": "TNZM6KMZhIqj"
      },
      "source": [
        "### 1.3 Discriminant Analysis"
      ]
    },
    {
      "cell_type": "code",
      "metadata": {
        "colab": {
          "base_uri": "https://localhost:8080/"
        },
        "id": "soZacJYJjhEe",
        "outputId": "7decc13a-bd0d-4a8b-b0be-0399776cdd72"
      },
      "source": [
        "# check dataset information\n",
        "fill_null.info()"
      ],
      "execution_count": 1339,
      "outputs": [
        {
          "output_type": "stream",
          "name": "stdout",
          "text": [
            "<class 'pandas.core.frame.DataFrame'>\n",
            "Int64Index: 17589 entries, 0 to 23523\n",
            "Data columns (total 11 columns):\n",
            " #   Column                      Non-Null Count  Dtype\n",
            "---  ------                      --------------  -----\n",
            " 0   country                     17589 non-null  int64\n",
            " 1   has_a_bank_account          17589 non-null  int64\n",
            " 2   type_of_location            17589 non-null  int64\n",
            " 3   cell_phone_access           17589 non-null  int64\n",
            " 4   household_size              17589 non-null  int64\n",
            " 5   respondent_age              17589 non-null  int64\n",
            " 6   gender_of_respondent        17589 non-null  int64\n",
            " 7   the_relationship_with_head  17589 non-null  int64\n",
            " 8   marital_status              17589 non-null  int64\n",
            " 9   level_of_education          17589 non-null  int64\n",
            " 10  type_of_job                 17589 non-null  int64\n",
            "dtypes: int64(11)\n",
            "memory usage: 1.6 MB\n"
          ]
        }
      ]
    },
    {
      "cell_type": "code",
      "metadata": {
        "id": "lkvGyxeWh4Rd"
      },
      "source": [
        "# 1. Let's divide our dataset \n",
        "# into features and corresponding labels and then divide the resultant dataset into training and test sets. \n",
        "# The following code divides data into labels and feature set. \n",
        "# The code assigns the first four columns of the dataset i.e. the feature set to X variable \n",
        "# while the values in the fifth column (labels) are assigned to the y variable.\n",
        "#\n",
        "X = fill_null.iloc[:,  fill_null.columns != 'has_a_bank_account'].values\n",
        "y = fill_null.iloc[:, 1].values\n"
      ],
      "execution_count": 1340,
      "outputs": []
    },
    {
      "cell_type": "code",
      "metadata": {
        "id": "jLNHfObmlthh"
      },
      "source": [
        "# 2. The following code divides data into training and test sets\n",
        "#\n",
        "from sklearn.model_selection import train_test_split\n",
        "X_train, X_test, y_train, y_test = train_test_split(X, y, test_size=0.2, random_state=0)"
      ],
      "execution_count": 1341,
      "outputs": []
    },
    {
      "cell_type": "code",
      "metadata": {
        "id": "v3Ir0opqlyOo"
      },
      "source": [
        "# 3. Feature scaling\n",
        "# We now need to perform feature scaling. We execute the following code to do so:\n",
        "# \n",
        "from sklearn.preprocessing import StandardScaler\n",
        "sc = StandardScaler()\n",
        "X_train = sc.fit_transform(X_train)\n",
        "X_test = sc.transform(X_test)"
      ],
      "execution_count": 1342,
      "outputs": []
    },
    {
      "cell_type": "code",
      "metadata": {
        "id": "zkUNTuQkl9Z3"
      },
      "source": [
        "# 4. Peforming LDA\n",
        "\n",
        "# We use LinearDiscriminantAnalysis class of the sklearn.discriminant_analysis \n",
        "# library to Perform LDA in Python. \n",
        "# Let's take a look at the following code\n",
        "#\n",
        "\n",
        "from sklearn.discriminant_analysis import LinearDiscriminantAnalysis as LDA\n",
        "lda = LDA(n_components=1)\n",
        "X_train = lda.fit_transform(X_train, y_train)\n",
        "X_test = lda.transform(X_test)\n",
        "# In the script above the LinearDiscriminantAnalysis class is imported as LDA. \n",
        "# We have to pass the value for the n_components parameter of the LDA, \n",
        "# which refers to the number of linear discriminates that we want to retrieve. \n",
        "# In this case we set the n_components to 1, since we first want to check the performance \n",
        "# of our classifier with a single linear discriminant. \n",
        "# Finally we execute the fit and transform methods to actually retrieve the linear discriminants.\n",
        "# Notice, in case of LDA, the transform method takes two parameters: the X_train and the y_train. \n",
        "# This reflects the fact that LDA takes the output class labels into account while selecting the linear discriminants."
      ],
      "execution_count": 1343,
      "outputs": []
    },
    {
      "cell_type": "code",
      "metadata": {
        "id": "tnwZhpJSm4hc"
      },
      "source": [
        "# 5. Training and Making Predictions\n",
        "# We will use the random forest classifier to evaluate the performance of a PCA-reduced algorithms as shown\n",
        "# \n",
        "\n",
        "from sklearn.ensemble import RandomForestClassifier\n",
        "\n",
        "classifier = RandomForestClassifier(max_depth=2, random_state=0)\n",
        "classifier.fit(X_train, y_train)\n",
        "y_pred = classifier.predict(X_test)"
      ],
      "execution_count": 1344,
      "outputs": []
    },
    {
      "cell_type": "code",
      "metadata": {
        "colab": {
          "base_uri": "https://localhost:8080/"
        },
        "id": "PXoOY6EtnKVq",
        "outputId": "bfabb424-7c06-48e9-cca5-8e4a4405f04a"
      },
      "source": [
        "# 6. Evaluating the Performance\n",
        "# As always, the last step is to evaluate performance of the algorithm \n",
        "# with the help of a confusion matrix and find the accuracy of the prediction.\n",
        "# \n",
        "\n",
        "from sklearn.metrics import confusion_matrix\n",
        "from sklearn.metrics import accuracy_score\n",
        "\n",
        "cm = confusion_matrix(y_test, y_pred)\n",
        "print(cm)\n",
        "print('Accuracy' + str(accuracy_score(y_test, y_pred)))\n",
        "\n",
        "# We can see that with one linear discriminant, the algorithm achieved an accuracy of 88.34%, \n",
        "# which is greater than the accuracy achieved with one principal component, which was 87.35%."
      ],
      "execution_count": 1345,
      "outputs": [
        {
          "output_type": "stream",
          "name": "stdout",
          "text": [
            "[[ 100  345]\n",
            " [  65 3008]]\n",
            "Accuracy0.8834565093803297\n"
          ]
        }
      ]
    },
    {
      "cell_type": "code",
      "metadata": {
        "colab": {
          "base_uri": "https://localhost:8080/"
        },
        "id": "CWKIGfjcrhuj",
        "outputId": "dad771a3-febd-4bdf-df94-c7c9ea4baa32"
      },
      "source": [
        "# 9. Results with 11 Principal Components\n",
        "# Lets now write code to evaluate clasification performance of the \n",
        "# random forest algorithm with 11 principal components.\n",
        "X_train, X_test, y_train, y_test = train_test_split(X, y, test_size=0.2, random_state=0)\n",
        "\n",
        "sc = StandardScaler()\n",
        "X_train = sc.fit_transform(X_train)\n",
        "X_test = sc.transform(X_test)\n",
        "\n",
        "lda = LDA(n_components=11)\n",
        "X_train = lda.fit_transform(X_train, y_train)\n",
        "X_test = lda.transform(X_test)\n",
        "\n",
        "# With two principal components the classification accuracy again increase to 94.00%\n",
        "classifier = RandomForestClassifier(max_depth=2, random_state=0)\n",
        "classifier.fit(X_train, y_train)\n"
      ],
      "execution_count": 1346,
      "outputs": [
        {
          "output_type": "stream",
          "name": "stderr",
          "text": [
            "/usr/local/lib/python3.7/dist-packages/sklearn/discriminant_analysis.py:463: ChangedBehaviorWarning: n_components cannot be larger than min(n_features, n_classes - 1). Using min(n_features, n_classes - 1) = min(10, 2 - 1) = 1 components.\n",
            "  ChangedBehaviorWarning)\n",
            "/usr/local/lib/python3.7/dist-packages/sklearn/discriminant_analysis.py:469: FutureWarning: In version 0.23, setting n_components > min(n_features, n_classes - 1) will raise a ValueError. You should set n_components to None (default), or a value smaller or equal to min(n_features, n_classes - 1).\n",
            "  warnings.warn(future_msg, FutureWarning)\n"
          ]
        },
        {
          "output_type": "execute_result",
          "data": {
            "text/plain": [
              "RandomForestClassifier(bootstrap=True, ccp_alpha=0.0, class_weight=None,\n",
              "                       criterion='gini', max_depth=2, max_features='auto',\n",
              "                       max_leaf_nodes=None, max_samples=None,\n",
              "                       min_impurity_decrease=0.0, min_impurity_split=None,\n",
              "                       min_samples_leaf=1, min_samples_split=2,\n",
              "                       min_weight_fraction_leaf=0.0, n_estimators=100,\n",
              "                       n_jobs=None, oob_score=False, random_state=0, verbose=0,\n",
              "                       warm_start=False)"
            ]
          },
          "metadata": {},
          "execution_count": 1346
        }
      ]
    },
    {
      "cell_type": "code",
      "metadata": {
        "colab": {
          "base_uri": "https://localhost:8080/"
        },
        "id": "shDIQOBWvZ-Q",
        "outputId": "f0f4ffe9-7ae9-44f6-ec6a-73b5b7bb12d7"
      },
      "source": [
        "# Predicting the Test set results\n",
        "y_pred = classifier.predict(X_test)\n",
        "\n",
        "cm = confusion_matrix(y_test, y_pred)\n",
        "print(cm)\n",
        "print('Accuracy' + str(accuracy_score(y_test, y_pred)))\n",
        "# With all the 11 principal components the classification accuracy remains to be 88.34%"
      ],
      "execution_count": 1347,
      "outputs": [
        {
          "output_type": "stream",
          "name": "stdout",
          "text": [
            "[[ 100  345]\n",
            " [  65 3008]]\n",
            "Accuracy0.8834565093803297\n"
          ]
        }
      ]
    },
    {
      "cell_type": "code",
      "metadata": {
        "id": "iisMTqsLkjC7",
        "colab": {
          "base_uri": "https://localhost:8080/",
          "height": 274
        },
        "outputId": "755fa52f-13d3-4b3b-9700-89b8dcea7439"
      },
      "source": [
        "sns.heatmap(df_n.corr(),annot=True)\n",
        "plt.show()"
      ],
      "execution_count": 1348,
      "outputs": [
        {
          "output_type": "display_data",
          "data": {
            "image/png": "[encoded data removed]",
            "text/plain": [
              "<Figure size 432x288 with 2 Axes>"
            ]
          },
          "metadata": {
            "needs_background": "light"
          }
        }
      ]
    }
  ]
}